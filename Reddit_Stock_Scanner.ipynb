{
  "nbformat": 4,
  "nbformat_minor": 0,
  "metadata": {
    "colab": {
      "name": "Reddit_Stock_Scanner",
      "provenance": [],
      "collapsed_sections": [],
      "authorship_tag": "ABX9TyNl86uk62Mdk6X6l5N4j86v",
      "include_colab_link": true
    },
    "kernelspec": {
      "name": "python3",
      "display_name": "Python 3"
    }
  },
  "cells": [
    {
      "cell_type": "markdown",
      "metadata": {
        "id": "view-in-github",
        "colab_type": "text"
      },
      "source": [
        "<a href=\"https://colab.research.google.com/github/malcolmrite-dsi/WSB_Stock_Screener/blob/main/Reddit_Stock_Scanner.ipynb\" target=\"_parent\"><img src=\"https://colab.research.google.com/assets/colab-badge.svg\" alt=\"Open In Colab\"/></a>"
      ]
    },
    {
      "cell_type": "markdown",
      "metadata": {
        "id": "79zGKpM3EPAn"
      },
      "source": [
        "# Importing the Libraries"
      ]
    },
    {
      "cell_type": "code",
      "metadata": {
        "colab": {
          "base_uri": "https://localhost:8080/"
        },
        "id": "5BPHWTcJEOW3",
        "outputId": "ad8ab745-80ec-4bec-b2e8-5934005ced9f"
      },
      "source": [
        "!pip install praw"
      ],
      "execution_count": 2,
      "outputs": [
        {
          "output_type": "stream",
          "text": [
            "Requirement already satisfied: praw in /usr/local/lib/python3.6/dist-packages (7.1.2)\n",
            "Requirement already satisfied: update-checker>=0.18 in /usr/local/lib/python3.6/dist-packages (from praw) (0.18.0)\n",
            "Requirement already satisfied: websocket-client>=0.54.0 in /usr/local/lib/python3.6/dist-packages (from praw) (0.57.0)\n",
            "Requirement already satisfied: prawcore<2.0,>=1.5.0 in /usr/local/lib/python3.6/dist-packages (from praw) (1.5.0)\n",
            "Requirement already satisfied: requests>=2.3.0 in /usr/local/lib/python3.6/dist-packages (from update-checker>=0.18->praw) (2.23.0)\n",
            "Requirement already satisfied: six in /usr/local/lib/python3.6/dist-packages (from websocket-client>=0.54.0->praw) (1.15.0)\n",
            "Requirement already satisfied: idna<3,>=2.5 in /usr/local/lib/python3.6/dist-packages (from requests>=2.3.0->update-checker>=0.18->praw) (2.10)\n",
            "Requirement already satisfied: certifi>=2017.4.17 in /usr/local/lib/python3.6/dist-packages (from requests>=2.3.0->update-checker>=0.18->praw) (2020.12.5)\n",
            "Requirement already satisfied: chardet<4,>=3.0.2 in /usr/local/lib/python3.6/dist-packages (from requests>=2.3.0->update-checker>=0.18->praw) (3.0.4)\n",
            "Requirement already satisfied: urllib3!=1.25.0,!=1.25.1,<1.26,>=1.21.1 in /usr/local/lib/python3.6/dist-packages (from requests>=2.3.0->update-checker>=0.18->praw) (1.24.3)\n"
          ],
          "name": "stdout"
        }
      ]
    },
    {
      "cell_type": "markdown",
      "metadata": {
        "id": "QJ2SJmuvEcg8"
      },
      "source": [
        "Reference: https://www.storybench.org/how-to-scrape-reddit-with-python/\r\n",
        "\r\n",
        "\r\n",
        "\r\n",
        "*   PRAW:  Python Reddit API Wrapper, allows easy access to Reddit Data\r\n",
        "*   Pandas: To handle the data from the scraping in well formatted tables\r\n",
        "*   datetime: To convert the raw date format into an understandable format\r\n",
        "\r\n"
      ]
    },
    {
      "cell_type": "code",
      "metadata": {
        "id": "zgOw55rkCc01"
      },
      "source": [
        "import praw\r\n",
        "import pandas as pd\r\n",
        "import datetime as dt\r\n",
        "import matplotlib.pyplot as plt\r\n"
      ],
      "execution_count": 3,
      "outputs": []
    },
    {
      "cell_type": "markdown",
      "metadata": {
        "id": "E3Nya-CnJoFY"
      },
      "source": [
        "# Getting the Data from Reddit"
      ]
    },
    {
      "cell_type": "markdown",
      "metadata": {
        "id": "ieVU3QMBLGxX"
      },
      "source": [
        "Function Definitions\r\n",
        "\r\n",
        "\r\n",
        "\r\n",
        "\r\n",
        "\r\n",
        "\r\n",
        "\r\n"
      ]
    },
    {
      "cell_type": "code",
      "metadata": {
        "id": "RjLOBEJaEMeY"
      },
      "source": [
        "def authorise_extractor(twofactorcode):\r\n",
        "    #Initialising the credentials for the API\r\n",
        "    reddit = praw.Reddit(client_id='1h1Pkh53dcBSLA', \\\r\n",
        "                             client_secret='Lm4-BO2A5GpHoYnzEUEMMLOoH1TpIw', \\\r\n",
        "                             user_agent='Reddit_Stock by u/Get_Rich_Bot', \\\r\n",
        "                             username='Get_Rich_Bot', \\\r\n",
        "                             password= f'B+4H-5yww=<QJUV:{twofactorcode}')\r\n",
        "    return reddit\r\n",
        "    \r\n",
        "    \r\n",
        "def test_extractor(self):\r\n",
        "    #Testing if the authorisation worked\r\n",
        "    #For Reference: https://praw.readthedocs.io/en/latest/getting_started/quick_start.html\r\n",
        "    print(self.read_only)\r\n",
        "    \r\n",
        "    # assume you have a reddit instance bound to variable `reddit`\r\n",
        "    #Setting the subreddit to wallstreetbets\r\n",
        "    subreddit = self.subreddit(\"wallstreetbets\")\r\n",
        "    \r\n",
        "    #Validate that the subreddit extractor is working\r\n",
        "    print(subreddit.display_name)\r\n",
        "    print(subreddit.title)\r\n",
        "    print(self.user.me())\r\n",
        "    \r\n",
        "    #Getting example submissions from the subreddit\r\n",
        "    for submission in subreddit.top(limit=15):\r\n",
        "        print(submission.title)  # Output: the submission's title\r\n",
        "        print(submission.score)  # Output: the submission's score\r\n",
        "        print(submission.id)     # Output: the submission's ID\r\n",
        "        print(submission.url)    # Output: the URL the submission points to\r\n",
        "                                # or the submission's URL if it's a self post\r\n",
        "\r\n",
        "#For Reference: https://www.storybench.org/how-to-scrape-reddit-with-python/\r\n",
        "def get_date(created):\r\n",
        "        return dt.datetime.fromtimestamp(created)\r\n",
        "    \r\n",
        "#Returns a dataframe of the top reddit posts from WSB\r\n",
        "def extract_top_data(self, posts):\r\n",
        "    #Setting the subreddit to wallstreetbets\r\n",
        "    subreddit = self.subreddit(\"wallstreetbets\")\r\n",
        "    #Create a dictionary to store the data   \r\n",
        "                                \r\n",
        "    topics_dict = { \"title\":[], \\\r\n",
        "                    \"score\":[], \\\r\n",
        "                    \"id\":[], \\\r\n",
        "                    \"url\":[], \\\r\n",
        "                    \"comms_num\": [], \\\r\n",
        "                    \"created\": [], \\\r\n",
        "                    \"body\":[]}\r\n",
        "    \r\n",
        "    #Extract the top posts with an upper limit defined by the user\r\n",
        "    top_subreddit = subreddit.top(limit=posts)\r\n",
        "    \r\n",
        "    #Extract the relevant data from the subreddit\r\n",
        "    for submission in top_subreddit:\r\n",
        "        topics_dict[\"title\"].append(submission.title)\r\n",
        "        topics_dict[\"score\"].append(submission.score)\r\n",
        "        topics_dict[\"id\"].append(submission.id)\r\n",
        "        topics_dict[\"url\"].append(submission.url)\r\n",
        "        topics_dict[\"comms_num\"].append(submission.num_comments)\r\n",
        "        topics_dict[\"created\"].append(submission.created)\r\n",
        "        topics_dict[\"body\"].append(submission.selftext)\r\n",
        "        \r\n",
        "    topics_data = pd.DataFrame(topics_dict)\r\n",
        "    \r\n",
        "    _timestamp = topics_data[\"created\"].apply(get_date)\r\n",
        "    topics_data = topics_data.assign(timestamp = _timestamp)\r\n",
        "\r\n",
        "    return topics_data"
      ],
      "execution_count": 4,
      "outputs": []
    },
    {
      "cell_type": "markdown",
      "metadata": {
        "id": "tq-dWasw_JDL"
      },
      "source": [
        "## Officially Getting the Data"
      ]
    },
    {
      "cell_type": "code",
      "metadata": {
        "id": "iffIw6WkPknJ",
        "colab": {
          "base_uri": "https://localhost:8080/"
        },
        "outputId": "28c4645d-2d91-4597-e154-1fa6450077ba"
      },
      "source": [
        "reddit = authorise_extractor(\"978487\")\r\n",
        "\r\n",
        "train_data = extract_top_data(reddit, 200)\r\n",
        "\r\n",
        "print(train_data.head())"
      ],
      "execution_count": 6,
      "outputs": [
        {
          "output_type": "stream",
          "text": [
            "It appears that you are using PRAW in an asynchronous environment.\n",
            "It is strongly recommended to use Async PRAW: https://asyncpraw.readthedocs.io.\n",
            "See https://praw.readthedocs.io/en/latest/getting_started/multiple_instances.html#discord-bots-and-asynchronous-environments for more info.\n",
            "\n",
            "It appears that you are using PRAW in an asynchronous environment.\n",
            "It is strongly recommended to use Async PRAW: https://asyncpraw.readthedocs.io.\n",
            "See https://praw.readthedocs.io/en/latest/getting_started/multiple_instances.html#discord-bots-and-asynchronous-environments for more info.\n",
            "\n"
          ],
          "name": "stderr"
        },
        {
          "output_type": "stream",
          "text": [
            "                                               title  ...           timestamp\n",
            "0                             Times Square right now  ... 2021-01-31 02:00:38\n",
            "1             UPVOTE so everyone sees we got SUPPORT  ... 2021-01-28 21:40:34\n",
            "2                      GME YOLO update — Jan 28 2021  ... 2021-01-29 05:06:23\n",
            "3               GME YOLO month-end update — Jan 2021  ... 2021-01-30 05:04:45\n",
            "4  CLASS ACTION AGAINST ROBINHOOD. Allowing peopl...  ... 2021-01-28 21:49:11\n",
            "\n",
            "[5 rows x 8 columns]\n"
          ],
          "name": "stdout"
        }
      ]
    },
    {
      "cell_type": "code",
      "metadata": {
        "id": "8s0uqLv_Pgxe",
        "colab": {
          "base_uri": "https://localhost:8080/",
          "height": 570
        },
        "outputId": "4a4c73a9-0318-4f09-d748-51d4c9a371fa"
      },
      "source": [
        "train_data"
      ],
      "execution_count": 7,
      "outputs": [
        {
          "output_type": "execute_result",
          "data": {
            "text/html": [
              "<div>\n",
              "<style scoped>\n",
              "    .dataframe tbody tr th:only-of-type {\n",
              "        vertical-align: middle;\n",
              "    }\n",
              "\n",
              "    .dataframe tbody tr th {\n",
              "        vertical-align: top;\n",
              "    }\n",
              "\n",
              "    .dataframe thead th {\n",
              "        text-align: right;\n",
              "    }\n",
              "</style>\n",
              "<table border=\"1\" class=\"dataframe\">\n",
              "  <thead>\n",
              "    <tr style=\"text-align: right;\">\n",
              "      <th></th>\n",
              "      <th>title</th>\n",
              "      <th>score</th>\n",
              "      <th>id</th>\n",
              "      <th>url</th>\n",
              "      <th>comms_num</th>\n",
              "      <th>created</th>\n",
              "      <th>body</th>\n",
              "      <th>timestamp</th>\n",
              "    </tr>\n",
              "  </thead>\n",
              "  <tbody>\n",
              "    <tr>\n",
              "      <th>0</th>\n",
              "      <td>Times Square right now</td>\n",
              "      <td>370255</td>\n",
              "      <td>l8rf4k</td>\n",
              "      <td>https://v.redd.it/x64z70f7eie61</td>\n",
              "      <td>11925</td>\n",
              "      <td>1.612058e+09</td>\n",
              "      <td></td>\n",
              "      <td>2021-01-31 02:00:38</td>\n",
              "    </tr>\n",
              "    <tr>\n",
              "      <th>1</th>\n",
              "      <td>UPVOTE so everyone sees we got SUPPORT</td>\n",
              "      <td>300233</td>\n",
              "      <td>l6wu59</td>\n",
              "      <td>https://i.redd.it/sgoqy8nyt2e61.png</td>\n",
              "      <td>12756</td>\n",
              "      <td>1.611870e+09</td>\n",
              "      <td></td>\n",
              "      <td>2021-01-28 21:40:34</td>\n",
              "    </tr>\n",
              "    <tr>\n",
              "      <th>2</th>\n",
              "      <td>GME YOLO update — Jan 28 2021</td>\n",
              "      <td>268408</td>\n",
              "      <td>l78uct</td>\n",
              "      <td>https://i.redd.it/opzucppb15e61.png</td>\n",
              "      <td>24184</td>\n",
              "      <td>1.611897e+09</td>\n",
              "      <td></td>\n",
              "      <td>2021-01-29 05:06:23</td>\n",
              "    </tr>\n",
              "    <tr>\n",
              "      <th>3</th>\n",
              "      <td>GME YOLO month-end update — Jan 2021</td>\n",
              "      <td>242326</td>\n",
              "      <td>l846a1</td>\n",
              "      <td>https://i.redd.it/r557em3t5ce61.png</td>\n",
              "      <td>21021</td>\n",
              "      <td>1.611983e+09</td>\n",
              "      <td></td>\n",
              "      <td>2021-01-30 05:04:45</td>\n",
              "    </tr>\n",
              "    <tr>\n",
              "      <th>4</th>\n",
              "      <td>CLASS ACTION AGAINST ROBINHOOD. Allowing peopl...</td>\n",
              "      <td>217072</td>\n",
              "      <td>l6x130</td>\n",
              "      <td>https://www.reddit.com/r/wallstreetbets/commen...</td>\n",
              "      <td>18545</td>\n",
              "      <td>1.611871e+09</td>\n",
              "      <td>LEAVE ROBINHOOD. They dont deserve to make mon...</td>\n",
              "      <td>2021-01-28 21:49:11</td>\n",
              "    </tr>\n",
              "    <tr>\n",
              "      <th>...</th>\n",
              "      <td>...</td>\n",
              "      <td>...</td>\n",
              "      <td>...</td>\n",
              "      <td>...</td>\n",
              "      <td>...</td>\n",
              "      <td>...</td>\n",
              "      <td>...</td>\n",
              "      <td>...</td>\n",
              "    </tr>\n",
              "    <tr>\n",
              "      <th>195</th>\n",
              "      <td>SEC Intern pls read: False media reports about...</td>\n",
              "      <td>61525</td>\n",
              "      <td>la1cxi</td>\n",
              "      <td>https://www.reddit.com/r/wallstreetbets/commen...</td>\n",
              "      <td>925</td>\n",
              "      <td>1.612209e+09</td>\n",
              "      <td>Dear SEC Intern,\\n\\nSorry not sorry you worked...</td>\n",
              "      <td>2021-02-01 19:48:36</td>\n",
              "    </tr>\n",
              "    <tr>\n",
              "      <th>196</th>\n",
              "      <td>WSB Hedge Fund</td>\n",
              "      <td>61412</td>\n",
              "      <td>l66qot</td>\n",
              "      <td>https://i.redd.it/r5lqwhyp7wd61.jpg</td>\n",
              "      <td>1689</td>\n",
              "      <td>1.611790e+09</td>\n",
              "      <td></td>\n",
              "      <td>2021-01-27 23:24:55</td>\n",
              "    </tr>\n",
              "    <tr>\n",
              "      <th>197</th>\n",
              "      <td>It's not about the money, it's about sending a...</td>\n",
              "      <td>60060</td>\n",
              "      <td>l6ulcx</td>\n",
              "      <td>https://v.redd.it/6j75regs72e61</td>\n",
              "      <td>1134</td>\n",
              "      <td>1.611863e+09</td>\n",
              "      <td></td>\n",
              "      <td>2021-01-28 19:37:41</td>\n",
              "    </tr>\n",
              "    <tr>\n",
              "      <th>198</th>\n",
              "      <td>Message from a TSLA veteran: Shut the fuck up ...</td>\n",
              "      <td>59965</td>\n",
              "      <td>lbdi8m</td>\n",
              "      <td>https://www.reddit.com/r/wallstreetbets/commen...</td>\n",
              "      <td>3292</td>\n",
              "      <td>1.612349e+09</td>\n",
              "      <td>Every other comment right now is a shill lamen...</td>\n",
              "      <td>2021-02-03 10:38:54</td>\n",
              "    </tr>\n",
              "    <tr>\n",
              "      <th>199</th>\n",
              "      <td>58th attempt at posting my fucking meme</td>\n",
              "      <td>58769</td>\n",
              "      <td>l7h7vl</td>\n",
              "      <td>https://i.redd.it/d7zvnbogs6e61.gif</td>\n",
              "      <td>1122</td>\n",
              "      <td>1.611918e+09</td>\n",
              "      <td></td>\n",
              "      <td>2021-01-29 10:59:14</td>\n",
              "    </tr>\n",
              "  </tbody>\n",
              "</table>\n",
              "<p>200 rows × 8 columns</p>\n",
              "</div>"
            ],
            "text/plain": [
              "                                                 title  ...           timestamp\n",
              "0                               Times Square right now  ... 2021-01-31 02:00:38\n",
              "1               UPVOTE so everyone sees we got SUPPORT  ... 2021-01-28 21:40:34\n",
              "2                        GME YOLO update — Jan 28 2021  ... 2021-01-29 05:06:23\n",
              "3                 GME YOLO month-end update — Jan 2021  ... 2021-01-30 05:04:45\n",
              "4    CLASS ACTION AGAINST ROBINHOOD. Allowing peopl...  ... 2021-01-28 21:49:11\n",
              "..                                                 ...  ...                 ...\n",
              "195  SEC Intern pls read: False media reports about...  ... 2021-02-01 19:48:36\n",
              "196                                     WSB Hedge Fund  ... 2021-01-27 23:24:55\n",
              "197  It's not about the money, it's about sending a...  ... 2021-01-28 19:37:41\n",
              "198  Message from a TSLA veteran: Shut the fuck up ...  ... 2021-02-03 10:38:54\n",
              "199            58th attempt at posting my fucking meme  ... 2021-01-29 10:59:14\n",
              "\n",
              "[200 rows x 8 columns]"
            ]
          },
          "metadata": {
            "tags": []
          },
          "execution_count": 7
        }
      ]
    },
    {
      "cell_type": "markdown",
      "metadata": {
        "id": "W_CCWxqi_x5z"
      },
      "source": [
        "# Exploratory Data Analysis"
      ]
    },
    {
      "cell_type": "code",
      "metadata": {
        "colab": {
          "base_uri": "https://localhost:8080/",
          "height": 284
        },
        "id": "DiGEtgu9_jKi",
        "outputId": "f4d8c7bc-4c00-4ad3-be21-bd75c6930000"
      },
      "source": [
        "train_data.describe()"
      ],
      "execution_count": 23,
      "outputs": [
        {
          "output_type": "execute_result",
          "data": {
            "text/html": [
              "<div>\n",
              "<style scoped>\n",
              "    .dataframe tbody tr th:only-of-type {\n",
              "        vertical-align: middle;\n",
              "    }\n",
              "\n",
              "    .dataframe tbody tr th {\n",
              "        vertical-align: top;\n",
              "    }\n",
              "\n",
              "    .dataframe thead th {\n",
              "        text-align: right;\n",
              "    }\n",
              "</style>\n",
              "<table border=\"1\" class=\"dataframe\">\n",
              "  <thead>\n",
              "    <tr style=\"text-align: right;\">\n",
              "      <th></th>\n",
              "      <th>score</th>\n",
              "      <th>comms_num</th>\n",
              "      <th>created</th>\n",
              "      <th>sentiment</th>\n",
              "    </tr>\n",
              "  </thead>\n",
              "  <tbody>\n",
              "    <tr>\n",
              "      <th>count</th>\n",
              "      <td>200.000000</td>\n",
              "      <td>200.000000</td>\n",
              "      <td>2.000000e+02</td>\n",
              "      <td>200.000000</td>\n",
              "    </tr>\n",
              "    <tr>\n",
              "      <th>mean</th>\n",
              "      <td>105630.255000</td>\n",
              "      <td>5101.170000</td>\n",
              "      <td>1.611492e+09</td>\n",
              "      <td>0.038882</td>\n",
              "    </tr>\n",
              "    <tr>\n",
              "      <th>std</th>\n",
              "      <td>46742.186026</td>\n",
              "      <td>8543.209258</td>\n",
              "      <td>3.265995e+06</td>\n",
              "      <td>0.263377</td>\n",
              "    </tr>\n",
              "    <tr>\n",
              "      <th>min</th>\n",
              "      <td>58769.000000</td>\n",
              "      <td>369.000000</td>\n",
              "      <td>1.587461e+09</td>\n",
              "      <td>-1.000000</td>\n",
              "    </tr>\n",
              "    <tr>\n",
              "      <th>25%</th>\n",
              "      <td>72557.000000</td>\n",
              "      <td>1710.500000</td>\n",
              "      <td>1.611880e+09</td>\n",
              "      <td>0.000000</td>\n",
              "    </tr>\n",
              "    <tr>\n",
              "      <th>50%</th>\n",
              "      <td>89006.500000</td>\n",
              "      <td>2903.000000</td>\n",
              "      <td>1.611974e+09</td>\n",
              "      <td>0.000000</td>\n",
              "    </tr>\n",
              "    <tr>\n",
              "      <th>75%</th>\n",
              "      <td>126848.000000</td>\n",
              "      <td>5351.250000</td>\n",
              "      <td>1.612189e+09</td>\n",
              "      <td>0.000000</td>\n",
              "    </tr>\n",
              "    <tr>\n",
              "      <th>max</th>\n",
              "      <td>370255.000000</td>\n",
              "      <td>82085.000000</td>\n",
              "      <td>1.612561e+09</td>\n",
              "      <td>1.000000</td>\n",
              "    </tr>\n",
              "  </tbody>\n",
              "</table>\n",
              "</div>"
            ],
            "text/plain": [
              "               score     comms_num       created   sentiment\n",
              "count     200.000000    200.000000  2.000000e+02  200.000000\n",
              "mean   105630.255000   5101.170000  1.611492e+09    0.038882\n",
              "std     46742.186026   8543.209258  3.265995e+06    0.263377\n",
              "min     58769.000000    369.000000  1.587461e+09   -1.000000\n",
              "25%     72557.000000   1710.500000  1.611880e+09    0.000000\n",
              "50%     89006.500000   2903.000000  1.611974e+09    0.000000\n",
              "75%    126848.000000   5351.250000  1.612189e+09    0.000000\n",
              "max    370255.000000  82085.000000  1.612561e+09    1.000000"
            ]
          },
          "metadata": {
            "tags": []
          },
          "execution_count": 23
        }
      ]
    },
    {
      "cell_type": "code",
      "metadata": {
        "colab": {
          "base_uri": "https://localhost:8080/"
        },
        "id": "iaEg5rBs_4ae",
        "outputId": "97e174e7-92d3-4832-c41b-0a8c0cf46fe9"
      },
      "source": [
        "train_data.dtypes"
      ],
      "execution_count": 9,
      "outputs": [
        {
          "output_type": "execute_result",
          "data": {
            "text/plain": [
              "title                object\n",
              "score                 int64\n",
              "id                   object\n",
              "url                  object\n",
              "comms_num             int64\n",
              "created             float64\n",
              "body                 object\n",
              "timestamp    datetime64[ns]\n",
              "dtype: object"
            ]
          },
          "metadata": {
            "tags": []
          },
          "execution_count": 9
        }
      ]
    },
    {
      "cell_type": "code",
      "metadata": {
        "colab": {
          "base_uri": "https://localhost:8080/",
          "height": 537
        },
        "id": "DJtX3gFVEWe2",
        "outputId": "2992de4c-9768-46d0-b0ab-2a5b2bd0b20d"
      },
      "source": [
        "plt.figure(figsize=(9,9))\r\n",
        "plt.scatter(train_data.timestamp, train_data.score)\r\n",
        "plt.show()"
      ],
      "execution_count": 10,
      "outputs": [
        {
          "output_type": "display_data",
          "data": {
            "image/png": "[encoded data removed]",
            "text/plain": [
              "<Figure size 648x648 with 1 Axes>"
            ]
          },
          "metadata": {
            "tags": [],
            "needs_background": "light"
          }
        }
      ]
    },
    {
      "cell_type": "markdown",
      "metadata": {
        "id": "hIjPXsPTJa4e"
      },
      "source": [
        "# Text Extraction"
      ]
    },
    {
      "cell_type": "code",
      "metadata": {
        "colab": {
          "base_uri": "https://localhost:8080/"
        },
        "id": "exeQDnpaU9SO",
        "outputId": "eb981858-cc52-407f-8b16-a1838e59c473"
      },
      "source": [
        "!pip install yfinance"
      ],
      "execution_count": 11,
      "outputs": [
        {
          "output_type": "stream",
          "text": [
            "Requirement already satisfied: yfinance in /usr/local/lib/python3.6/dist-packages (0.1.55)\n",
            "Requirement already satisfied: multitasking>=0.0.7 in /usr/local/lib/python3.6/dist-packages (from yfinance) (0.0.9)\n",
            "Requirement already satisfied: pandas>=0.24 in /usr/local/lib/python3.6/dist-packages (from yfinance) (1.1.5)\n",
            "Requirement already satisfied: numpy>=1.15 in /usr/local/lib/python3.6/dist-packages (from yfinance) (1.19.5)\n",
            "Requirement already satisfied: requests>=2.20 in /usr/local/lib/python3.6/dist-packages (from yfinance) (2.23.0)\n",
            "Requirement already satisfied: lxml>=4.5.1 in /usr/local/lib/python3.6/dist-packages (from yfinance) (4.6.2)\n",
            "Requirement already satisfied: pytz>=2017.2 in /usr/local/lib/python3.6/dist-packages (from pandas>=0.24->yfinance) (2018.9)\n",
            "Requirement already satisfied: python-dateutil>=2.7.3 in /usr/local/lib/python3.6/dist-packages (from pandas>=0.24->yfinance) (2.8.1)\n",
            "Requirement already satisfied: idna<3,>=2.5 in /usr/local/lib/python3.6/dist-packages (from requests>=2.20->yfinance) (2.10)\n",
            "Requirement already satisfied: certifi>=2017.4.17 in /usr/local/lib/python3.6/dist-packages (from requests>=2.20->yfinance) (2020.12.5)\n",
            "Requirement already satisfied: urllib3!=1.25.0,!=1.25.1,<1.26,>=1.21.1 in /usr/local/lib/python3.6/dist-packages (from requests>=2.20->yfinance) (1.24.3)\n",
            "Requirement already satisfied: chardet<4,>=3.0.2 in /usr/local/lib/python3.6/dist-packages (from requests>=2.20->yfinance) (3.0.4)\n",
            "Requirement already satisfied: six>=1.5 in /usr/local/lib/python3.6/dist-packages (from python-dateutil>=2.7.3->pandas>=0.24->yfinance) (1.15.0)\n"
          ],
          "name": "stdout"
        }
      ]
    },
    {
      "cell_type": "markdown",
      "metadata": {
        "id": "3pDcRrj7Jmhr"
      },
      "source": [
        "## Importing Text Blob: https://textblob.readthedocs.io/en/dev/quickstart.html"
      ]
    },
    {
      "cell_type": "code",
      "metadata": {
        "id": "HyGX2JajEtyU"
      },
      "source": [
        "from textblob import TextBlob\r\n",
        "import nltk\r\n",
        "from pandas_datareader import data\r\n",
        "import yfinance"
      ],
      "execution_count": 12,
      "outputs": []
    },
    {
      "cell_type": "code",
      "metadata": {
        "colab": {
          "base_uri": "https://localhost:8080/"
        },
        "id": "j7SKJQq0MtEU",
        "outputId": "5ab16e99-e050-49c3-dcf5-61812d8c3a97"
      },
      "source": [
        "nltk.download('punkt')\r\n",
        "nltk.download('averaged_perceptron_tagger')\r\n",
        "nltk.download('brown')"
      ],
      "execution_count": 13,
      "outputs": [
        {
          "output_type": "stream",
          "text": [
            "[nltk_data] Downloading package punkt to /root/nltk_data...\n",
            "[nltk_data]   Package punkt is already up-to-date!\n",
            "[nltk_data] Downloading package averaged_perceptron_tagger to\n",
            "[nltk_data]     /root/nltk_data...\n",
            "[nltk_data]   Package averaged_perceptron_tagger is already up-to-\n",
            "[nltk_data]       date!\n",
            "[nltk_data] Downloading package brown to /root/nltk_data...\n",
            "[nltk_data]   Package brown is already up-to-date!\n"
          ],
          "name": "stdout"
        },
        {
          "output_type": "execute_result",
          "data": {
            "text/plain": [
              "True"
            ]
          },
          "metadata": {
            "tags": []
          },
          "execution_count": 13
        }
      ]
    },
    {
      "cell_type": "markdown",
      "metadata": {
        "id": "rnu0ryEcMv2h"
      },
      "source": [
        "## Function Declarations"
      ]
    },
    {
      "cell_type": "code",
      "metadata": {
        "id": "DG5pyZL5KmhW"
      },
      "source": [
        "def get_text_blob(title):\r\n",
        "  header = TextBlob(title)\r\n",
        "  return header.noun_phrases\r\n",
        "\r\n",
        "def get_stock_name(keywords):\r\n",
        "  if len(keywords) > 0:\r\n",
        "\r\n",
        "    for noun in keywords:\r\n",
        "      try:\r\n",
        "        data = yfinance.Ticker(noun)\r\n",
        "        stock = data.info[\"symbol\"]\r\n",
        "        break\r\n",
        "\r\n",
        "      except:\r\n",
        "        stock = \"NA\" \r\n",
        "  else:\r\n",
        "    stock = \"NA\" \r\n",
        "\r\n",
        "  return stock\r\n",
        "\r\n",
        "def get_sentiment(title):\r\n",
        "  header = TextBlob(title)\r\n",
        "  sentiment = header.sentiment.polarity\r\n",
        "  return sentiment"
      ],
      "execution_count": 14,
      "outputs": []
    },
    {
      "cell_type": "markdown",
      "metadata": {
        "id": "s6IHX8X9M0Ys"
      },
      "source": [
        "## EDA"
      ]
    },
    {
      "cell_type": "code",
      "metadata": {
        "id": "L-vLkiJuKf93"
      },
      "source": [
        "header = TextBlob(train_data.iloc[3,0])"
      ],
      "execution_count": 15,
      "outputs": []
    },
    {
      "cell_type": "code",
      "metadata": {
        "colab": {
          "base_uri": "https://localhost:8080/"
        },
        "id": "3tHsxQPMMVj-",
        "outputId": "2836b059-bb3c-4a48-c1a9-4148219e6483"
      },
      "source": [
        "header.noun_phrases"
      ],
      "execution_count": 16,
      "outputs": [
        {
          "output_type": "execute_result",
          "data": {
            "text/plain": [
              "WordList(['gme yolo', 'month-end update —', 'jan'])"
            ]
          },
          "metadata": {
            "tags": []
          },
          "execution_count": 16
        }
      ]
    },
    {
      "cell_type": "code",
      "metadata": {
        "colab": {
          "base_uri": "https://localhost:8080/"
        },
        "id": "_F9tWaNNMkfa",
        "outputId": "c974636f-7bf5-433b-d8f4-ded8876467a4"
      },
      "source": [
        "for sentence in header.sentences:\r\n",
        "    print(sentence.sentiment)"
      ],
      "execution_count": 17,
      "outputs": [
        {
          "output_type": "stream",
          "text": [
            "Sentiment(polarity=0.0, subjectivity=0.0)\n"
          ],
          "name": "stdout"
        }
      ]
    },
    {
      "cell_type": "code",
      "metadata": {
        "colab": {
          "base_uri": "https://localhost:8080/"
        },
        "id": "LgeD_zvFLKO1",
        "outputId": "aafa7a6e-120d-48bd-c44e-4299ee5dad36"
      },
      "source": [
        "for noun in header.noun_phrases:\r\n",
        "    print(noun)"
      ],
      "execution_count": 18,
      "outputs": [
        {
          "output_type": "stream",
          "text": [
            "gme yolo\n",
            "month-end update —\n",
            "jan\n"
          ],
          "name": "stdout"
        }
      ]
    },
    {
      "cell_type": "markdown",
      "metadata": {
        "id": "24A_ky5IXWaT"
      },
      "source": [
        "For Reference: pypi.org/project/yfinance/"
      ]
    },
    {
      "cell_type": "markdown",
      "metadata": {
        "id": "TaromF6qcOLN"
      },
      "source": [
        "## Feature Engineering"
      ]
    },
    {
      "cell_type": "code",
      "metadata": {
        "colab": {
          "base_uri": "https://localhost:8080/",
          "height": 363
        },
        "id": "-4JobCvXUsFt",
        "outputId": "e42e7a6c-4e7f-41a0-bb78-9bc98354743c"
      },
      "source": [
        "_keywords= train_data[\"title\"].apply(get_text_blob)\r\n",
        "train_data = train_data.assign(keywords = _keywords)\r\n",
        "\r\n",
        "train_data.head()"
      ],
      "execution_count": 19,
      "outputs": [
        {
          "output_type": "execute_result",
          "data": {
            "text/html": [
              "<div>\n",
              "<style scoped>\n",
              "    .dataframe tbody tr th:only-of-type {\n",
              "        vertical-align: middle;\n",
              "    }\n",
              "\n",
              "    .dataframe tbody tr th {\n",
              "        vertical-align: top;\n",
              "    }\n",
              "\n",
              "    .dataframe thead th {\n",
              "        text-align: right;\n",
              "    }\n",
              "</style>\n",
              "<table border=\"1\" class=\"dataframe\">\n",
              "  <thead>\n",
              "    <tr style=\"text-align: right;\">\n",
              "      <th></th>\n",
              "      <th>title</th>\n",
              "      <th>score</th>\n",
              "      <th>id</th>\n",
              "      <th>url</th>\n",
              "      <th>comms_num</th>\n",
              "      <th>created</th>\n",
              "      <th>body</th>\n",
              "      <th>timestamp</th>\n",
              "      <th>keywords</th>\n",
              "    </tr>\n",
              "  </thead>\n",
              "  <tbody>\n",
              "    <tr>\n",
              "      <th>0</th>\n",
              "      <td>Times Square right now</td>\n",
              "      <td>370255</td>\n",
              "      <td>l8rf4k</td>\n",
              "      <td>https://v.redd.it/x64z70f7eie61</td>\n",
              "      <td>11925</td>\n",
              "      <td>1.612058e+09</td>\n",
              "      <td></td>\n",
              "      <td>2021-01-31 02:00:38</td>\n",
              "      <td>[]</td>\n",
              "    </tr>\n",
              "    <tr>\n",
              "      <th>1</th>\n",
              "      <td>UPVOTE so everyone sees we got SUPPORT</td>\n",
              "      <td>300233</td>\n",
              "      <td>l6wu59</td>\n",
              "      <td>https://i.redd.it/sgoqy8nyt2e61.png</td>\n",
              "      <td>12756</td>\n",
              "      <td>1.611870e+09</td>\n",
              "      <td></td>\n",
              "      <td>2021-01-28 21:40:34</td>\n",
              "      <td>[upvote, support]</td>\n",
              "    </tr>\n",
              "    <tr>\n",
              "      <th>2</th>\n",
              "      <td>GME YOLO update — Jan 28 2021</td>\n",
              "      <td>268408</td>\n",
              "      <td>l78uct</td>\n",
              "      <td>https://i.redd.it/opzucppb15e61.png</td>\n",
              "      <td>24184</td>\n",
              "      <td>1.611897e+09</td>\n",
              "      <td></td>\n",
              "      <td>2021-01-29 05:06:23</td>\n",
              "      <td>[gme yolo, update —, jan]</td>\n",
              "    </tr>\n",
              "    <tr>\n",
              "      <th>3</th>\n",
              "      <td>GME YOLO month-end update — Jan 2021</td>\n",
              "      <td>242326</td>\n",
              "      <td>l846a1</td>\n",
              "      <td>https://i.redd.it/r557em3t5ce61.png</td>\n",
              "      <td>21021</td>\n",
              "      <td>1.611983e+09</td>\n",
              "      <td></td>\n",
              "      <td>2021-01-30 05:04:45</td>\n",
              "      <td>[gme yolo, month-end update —, jan]</td>\n",
              "    </tr>\n",
              "    <tr>\n",
              "      <th>4</th>\n",
              "      <td>CLASS ACTION AGAINST ROBINHOOD. Allowing peopl...</td>\n",
              "      <td>217072</td>\n",
              "      <td>l6x130</td>\n",
              "      <td>https://www.reddit.com/r/wallstreetbets/commen...</td>\n",
              "      <td>18545</td>\n",
              "      <td>1.611871e+09</td>\n",
              "      <td>LEAVE ROBINHOOD. They dont deserve to make mon...</td>\n",
              "      <td>2021-01-28 21:49:11</td>\n",
              "      <td>[class action against robinhood, allowing, mar...</td>\n",
              "    </tr>\n",
              "  </tbody>\n",
              "</table>\n",
              "</div>"
            ],
            "text/plain": [
              "                                               title  ...                                           keywords\n",
              "0                             Times Square right now  ...                                                 []\n",
              "1             UPVOTE so everyone sees we got SUPPORT  ...                                  [upvote, support]\n",
              "2                      GME YOLO update — Jan 28 2021  ...                          [gme yolo, update —, jan]\n",
              "3               GME YOLO month-end update — Jan 2021  ...                [gme yolo, month-end update —, jan]\n",
              "4  CLASS ACTION AGAINST ROBINHOOD. Allowing peopl...  ...  [class action against robinhood, allowing, mar...\n",
              "\n",
              "[5 rows x 9 columns]"
            ]
          },
          "metadata": {
            "tags": []
          },
          "execution_count": 19
        }
      ]
    },
    {
      "cell_type": "code",
      "metadata": {
        "id": "ziSren9kTOzO"
      },
      "source": [
        "for noun in train_data.iloc[198].keywords:\r\n",
        "  try:\r\n",
        "    data = yfinance.Ticker(noun)\r\n",
        "    stock = data.info[\"symbol\"]\r\n",
        "    break\r\n",
        "  except:\r\n",
        "    stock = \"NA\"\r\n"
      ],
      "execution_count": 20,
      "outputs": []
    },
    {
      "cell_type": "code",
      "metadata": {
        "colab": {
          "base_uri": "https://localhost:8080/",
          "height": 363
        },
        "id": "20ETlGdkd6Vl",
        "outputId": "a1792af9-d299-4cb4-8350-a6ce3e763e2b"
      },
      "source": [
        "_sentiment = train_data[\"title\"].apply(get_sentiment)\r\n",
        "train_data = train_data.assign(sentiment = _sentiment)\r\n",
        "\r\n",
        "train_data.head()"
      ],
      "execution_count": 21,
      "outputs": [
        {
          "output_type": "execute_result",
          "data": {
            "text/html": [
              "<div>\n",
              "<style scoped>\n",
              "    .dataframe tbody tr th:only-of-type {\n",
              "        vertical-align: middle;\n",
              "    }\n",
              "\n",
              "    .dataframe tbody tr th {\n",
              "        vertical-align: top;\n",
              "    }\n",
              "\n",
              "    .dataframe thead th {\n",
              "        text-align: right;\n",
              "    }\n",
              "</style>\n",
              "<table border=\"1\" class=\"dataframe\">\n",
              "  <thead>\n",
              "    <tr style=\"text-align: right;\">\n",
              "      <th></th>\n",
              "      <th>title</th>\n",
              "      <th>score</th>\n",
              "      <th>id</th>\n",
              "      <th>url</th>\n",
              "      <th>comms_num</th>\n",
              "      <th>created</th>\n",
              "      <th>body</th>\n",
              "      <th>timestamp</th>\n",
              "      <th>keywords</th>\n",
              "      <th>sentiment</th>\n",
              "    </tr>\n",
              "  </thead>\n",
              "  <tbody>\n",
              "    <tr>\n",
              "      <th>0</th>\n",
              "      <td>Times Square right now</td>\n",
              "      <td>370255</td>\n",
              "      <td>l8rf4k</td>\n",
              "      <td>https://v.redd.it/x64z70f7eie61</td>\n",
              "      <td>11925</td>\n",
              "      <td>1.612058e+09</td>\n",
              "      <td></td>\n",
              "      <td>2021-01-31 02:00:38</td>\n",
              "      <td>[]</td>\n",
              "      <td>0.285714</td>\n",
              "    </tr>\n",
              "    <tr>\n",
              "      <th>1</th>\n",
              "      <td>UPVOTE so everyone sees we got SUPPORT</td>\n",
              "      <td>300233</td>\n",
              "      <td>l6wu59</td>\n",
              "      <td>https://i.redd.it/sgoqy8nyt2e61.png</td>\n",
              "      <td>12756</td>\n",
              "      <td>1.611870e+09</td>\n",
              "      <td></td>\n",
              "      <td>2021-01-28 21:40:34</td>\n",
              "      <td>[upvote, support]</td>\n",
              "      <td>0.000000</td>\n",
              "    </tr>\n",
              "    <tr>\n",
              "      <th>2</th>\n",
              "      <td>GME YOLO update — Jan 28 2021</td>\n",
              "      <td>268408</td>\n",
              "      <td>l78uct</td>\n",
              "      <td>https://i.redd.it/opzucppb15e61.png</td>\n",
              "      <td>24184</td>\n",
              "      <td>1.611897e+09</td>\n",
              "      <td></td>\n",
              "      <td>2021-01-29 05:06:23</td>\n",
              "      <td>[gme yolo, update —, jan]</td>\n",
              "      <td>0.000000</td>\n",
              "    </tr>\n",
              "    <tr>\n",
              "      <th>3</th>\n",
              "      <td>GME YOLO month-end update — Jan 2021</td>\n",
              "      <td>242326</td>\n",
              "      <td>l846a1</td>\n",
              "      <td>https://i.redd.it/r557em3t5ce61.png</td>\n",
              "      <td>21021</td>\n",
              "      <td>1.611983e+09</td>\n",
              "      <td></td>\n",
              "      <td>2021-01-30 05:04:45</td>\n",
              "      <td>[gme yolo, month-end update —, jan]</td>\n",
              "      <td>0.000000</td>\n",
              "    </tr>\n",
              "    <tr>\n",
              "      <th>4</th>\n",
              "      <td>CLASS ACTION AGAINST ROBINHOOD. Allowing peopl...</td>\n",
              "      <td>217072</td>\n",
              "      <td>l6x130</td>\n",
              "      <td>https://www.reddit.com/r/wallstreetbets/commen...</td>\n",
              "      <td>18545</td>\n",
              "      <td>1.611871e+09</td>\n",
              "      <td>LEAVE ROBINHOOD. They dont deserve to make mon...</td>\n",
              "      <td>2021-01-28 21:49:11</td>\n",
              "      <td>[class action against robinhood, allowing, mar...</td>\n",
              "      <td>0.072596</td>\n",
              "    </tr>\n",
              "  </tbody>\n",
              "</table>\n",
              "</div>"
            ],
            "text/plain": [
              "                                               title  ...  sentiment\n",
              "0                             Times Square right now  ...   0.285714\n",
              "1             UPVOTE so everyone sees we got SUPPORT  ...   0.000000\n",
              "2                      GME YOLO update — Jan 28 2021  ...   0.000000\n",
              "3               GME YOLO month-end update — Jan 2021  ...   0.000000\n",
              "4  CLASS ACTION AGAINST ROBINHOOD. Allowing peopl...  ...   0.072596\n",
              "\n",
              "[5 rows x 10 columns]"
            ]
          },
          "metadata": {
            "tags": []
          },
          "execution_count": 21
        }
      ]
    },
    {
      "cell_type": "code",
      "metadata": {
        "id": "-Wd1c3MUuwNn"
      },
      "source": [
        ""
      ],
      "execution_count": null,
      "outputs": []
    },
    {
      "cell_type": "code",
      "metadata": {
        "colab": {
          "base_uri": "https://localhost:8080/",
          "height": 35
        },
        "id": "YbOCbMbQkPH4",
        "outputId": "4ac31d76-3bfb-41df-bc2d-972c3c68ac55"
      },
      "source": [
        "stock"
      ],
      "execution_count": 22,
      "outputs": [
        {
          "output_type": "execute_result",
          "data": {
            "application/vnd.google.colaboratory.intrinsic+json": {
              "type": "string"
            },
            "text/plain": [
              "'TSLA'"
            ]
          },
          "metadata": {
            "tags": []
          },
          "execution_count": 22
        }
      ]
    },
    {
      "cell_type": "markdown",
      "metadata": {
        "id": "5g1kg2uVt_c0"
      },
      "source": [
        "# More EDA"
      ]
    },
    {
      "cell_type": "code",
      "metadata": {
        "colab": {
          "base_uri": "https://localhost:8080/",
          "height": 537
        },
        "id": "lwuHAYu2uDns",
        "outputId": "c3551eaf-086c-4b81-bdcf-c2d1c72cbfaa"
      },
      "source": [
        "plt.figure(figsize=(9,9))\r\n",
        "plt.scatter(train_data.score, train_data.sentiment)\r\n",
        "plt.show()"
      ],
      "execution_count": 29,
      "outputs": [
        {
          "output_type": "display_data",
          "data": {
            "image/png": "[encoded data removed]",
            "text/plain": [
              "<Figure size 648x648 with 1 Axes>"
            ]
          },
          "metadata": {
            "tags": [],
            "needs_background": "light"
          }
        }
      ]
    }
  ]
}