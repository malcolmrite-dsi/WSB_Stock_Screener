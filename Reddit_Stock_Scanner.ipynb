{
  "nbformat": 4,
  "nbformat_minor": 0,
  "metadata": {
    "colab": {
      "name": "Reddit_Stock_Scanner",
      "provenance": [],
      "collapsed_sections": [],
      "authorship_tag": "ABX9TyM+GONj+R5E/WkV/ewqXq8d",
      "include_colab_link": true
    },
    "kernelspec": {
      "name": "python3",
      "display_name": "Python 3"
    }
  },
  "cells": [
    {
      "cell_type": "markdown",
      "metadata": {
        "id": "view-in-github",
        "colab_type": "text"
      },
      "source": [
        "<a href=\"https://colab.research.google.com/github/malcolmrite-dsi/WSB_Stock_Screener/blob/main/Reddit_Stock_Scanner.ipynb\" target=\"_parent\"><img src=\"https://colab.research.google.com/assets/colab-badge.svg\" alt=\"Open In Colab\"/></a>"
      ]
    },
    {
      "cell_type": "markdown",
      "metadata": {
        "id": "79zGKpM3EPAn"
      },
      "source": [
        "# Importing the Libraries"
      ]
    },
    {
      "cell_type": "code",
      "metadata": {
        "colab": {
          "base_uri": "https://localhost:8080/"
        },
        "id": "5BPHWTcJEOW3",
        "outputId": "856bd251-bff1-4c3f-d90b-ad5b8c668c3c"
      },
      "source": [
        "!pip install praw"
      ],
      "execution_count": 1,
      "outputs": [
        {
          "output_type": "stream",
          "text": [
            "Collecting praw\n",
            "\u001b[?25l  Downloading https://files.pythonhosted.org/packages/eb/b3/79a13c3444cce7110dfb07cca54b9943c0d588b645ea53ef683a8ae6321a/praw-7.1.3-py3-none-any.whl (155kB)\n",
            "\u001b[K     |████████████████████████████████| 163kB 6.8MB/s \n",
            "\u001b[?25hCollecting prawcore<2.0,>=1.5.0\n",
            "  Downloading https://files.pythonhosted.org/packages/1d/40/b741437ce4c7b64f928513817b29c0a615efb66ab5e5e01f66fe92d2d95b/prawcore-1.5.0-py3-none-any.whl\n",
            "Collecting websocket-client>=0.54.0\n",
            "\u001b[?25l  Downloading https://files.pythonhosted.org/packages/4c/5f/f61b420143ed1c8dc69f9eaec5ff1ac36109d52c80de49d66e0c36c3dfdf/websocket_client-0.57.0-py2.py3-none-any.whl (200kB)\n",
            "\u001b[K     |████████████████████████████████| 204kB 17.9MB/s \n",
            "\u001b[?25hCollecting update-checker>=0.18\n",
            "  Downloading https://files.pythonhosted.org/packages/0c/ba/8dd7fa5f0b1c6a8ac62f8f57f7e794160c1f86f31c6d0fb00f582372a3e4/update_checker-0.18.0-py3-none-any.whl\n",
            "Requirement already satisfied: requests<3.0,>=2.6.0 in /usr/local/lib/python3.6/dist-packages (from prawcore<2.0,>=1.5.0->praw) (2.23.0)\n",
            "Requirement already satisfied: six in /usr/local/lib/python3.6/dist-packages (from websocket-client>=0.54.0->praw) (1.15.0)\n",
            "Requirement already satisfied: urllib3!=1.25.0,!=1.25.1,<1.26,>=1.21.1 in /usr/local/lib/python3.6/dist-packages (from requests<3.0,>=2.6.0->prawcore<2.0,>=1.5.0->praw) (1.24.3)\n",
            "Requirement already satisfied: chardet<4,>=3.0.2 in /usr/local/lib/python3.6/dist-packages (from requests<3.0,>=2.6.0->prawcore<2.0,>=1.5.0->praw) (3.0.4)\n",
            "Requirement already satisfied: certifi>=2017.4.17 in /usr/local/lib/python3.6/dist-packages (from requests<3.0,>=2.6.0->prawcore<2.0,>=1.5.0->praw) (2020.12.5)\n",
            "Requirement already satisfied: idna<3,>=2.5 in /usr/local/lib/python3.6/dist-packages (from requests<3.0,>=2.6.0->prawcore<2.0,>=1.5.0->praw) (2.10)\n",
            "Installing collected packages: prawcore, websocket-client, update-checker, praw\n",
            "Successfully installed praw-7.1.3 prawcore-1.5.0 update-checker-0.18.0 websocket-client-0.57.0\n"
          ],
          "name": "stdout"
        }
      ]
    },
    {
      "cell_type": "markdown",
      "metadata": {
        "id": "QJ2SJmuvEcg8"
      },
      "source": [
        "Reference: https://www.storybench.org/how-to-scrape-reddit-with-python/\r\n",
        "\r\n",
        "\r\n",
        "\r\n",
        "*   PRAW:  Python Reddit API Wrapper, allows easy access to Reddit Data\r\n",
        "*   Pandas: To handle the data from the scraping in well formatted tables\r\n",
        "*   datetime: To convert the raw date format into an understandable format\r\n",
        "\r\n"
      ]
    },
    {
      "cell_type": "code",
      "metadata": {
        "id": "zgOw55rkCc01"
      },
      "source": [
        "import praw\r\n",
        "import pandas as pd\r\n",
        "import datetime as dt\r\n",
        "import matplotlib.pyplot as plt\r\n"
      ],
      "execution_count": 2,
      "outputs": []
    },
    {
      "cell_type": "markdown",
      "metadata": {
        "id": "E3Nya-CnJoFY"
      },
      "source": [
        "# Getting the Data from Reddit"
      ]
    },
    {
      "cell_type": "markdown",
      "metadata": {
        "id": "ieVU3QMBLGxX"
      },
      "source": [
        "Function Definitions\r\n",
        "\r\n",
        "\r\n",
        "\r\n",
        "\r\n",
        "\r\n",
        "\r\n",
        "\r\n"
      ]
    },
    {
      "cell_type": "code",
      "metadata": {
        "id": "RjLOBEJaEMeY"
      },
      "source": [
        "def authorise_extractor(twofactorcode):\r\n",
        "    #Initialising the credentials for the API\r\n",
        "    reddit = praw.Reddit(client_id='1h1Pkh53dcBSLA', \\\r\n",
        "                             client_secret='Lm4-BO2A5GpHoYnzEUEMMLOoH1TpIw', \\\r\n",
        "                             user_agent='Reddit_Stock by u/Get_Rich_Bot', \\\r\n",
        "                             username='Get_Rich_Bot', \\\r\n",
        "                             password= f'B+4H-5yww=<QJUV:{twofactorcode}')\r\n",
        "    return reddit\r\n",
        "    \r\n",
        "    \r\n",
        "def test_extractor(self):\r\n",
        "    #Testing if the authorisation worked\r\n",
        "    #For Reference: https://praw.readthedocs.io/en/latest/getting_started/quick_start.html\r\n",
        "    print(self.read_only)\r\n",
        "    \r\n",
        "    # assume you have a reddit instance bound to variable `reddit`\r\n",
        "    #Setting the subreddit to wallstreetbets\r\n",
        "    subreddit = self.subreddit(\"wallstreetbets\")\r\n",
        "    \r\n",
        "    #Validate that the subreddit extractor is working\r\n",
        "    print(subreddit.display_name)\r\n",
        "    print(subreddit.title)\r\n",
        "    print(self.user.me())\r\n",
        "    \r\n",
        "    #Getting example submissions from the subreddit\r\n",
        "    for submission in subreddit.top(limit=15):\r\n",
        "        print(submission.title)  # Output: the submission's title\r\n",
        "        print(submission.score)  # Output: the submission's score\r\n",
        "        print(submission.id)     # Output: the submission's ID\r\n",
        "        print(submission.url)    # Output: the URL the submission points to\r\n",
        "                                # or the submission's URL if it's a self post\r\n",
        "\r\n",
        "#For Reference: https://www.storybench.org/how-to-scrape-reddit-with-python/\r\n",
        "def get_date(created):\r\n",
        "        return dt.datetime.fromtimestamp(created)\r\n",
        "    \r\n",
        "#Returns a dataframe of the top reddit posts from WSB\r\n",
        "def extract_top_data(self, posts):\r\n",
        "    #Setting the subreddit to wallstreetbets\r\n",
        "    subreddit = self.subreddit(\"wallstreetbets\")\r\n",
        "    #Create a dictionary to store the data   \r\n",
        "                                \r\n",
        "    topics_dict = { \"title\":[], \\\r\n",
        "                    \"score\":[], \\\r\n",
        "                    \"id\":[], \\\r\n",
        "                    \"url\":[], \\\r\n",
        "                    \"comms_num\": [], \\\r\n",
        "                    \"created\": [], \\\r\n",
        "                    \"body\":[]}\r\n",
        "    \r\n",
        "    #Extract the top posts with an upper limit defined by the user\r\n",
        "    top_subreddit = subreddit.top(limit=posts)\r\n",
        "    \r\n",
        "    #Extract the relevant data from the subreddit\r\n",
        "    for submission in top_subreddit:\r\n",
        "        topics_dict[\"title\"].append(submission.title)\r\n",
        "        topics_dict[\"score\"].append(submission.score)\r\n",
        "        topics_dict[\"id\"].append(submission.id)\r\n",
        "        topics_dict[\"url\"].append(submission.url)\r\n",
        "        topics_dict[\"comms_num\"].append(submission.num_comments)\r\n",
        "        topics_dict[\"created\"].append(submission.created)\r\n",
        "        topics_dict[\"body\"].append(submission.selftext)\r\n",
        "        \r\n",
        "    topics_data = pd.DataFrame(topics_dict)\r\n",
        "    \r\n",
        "    _timestamp = topics_data[\"created\"].apply(get_date)\r\n",
        "    topics_data = topics_data.assign(timestamp = _timestamp)\r\n",
        "\r\n",
        "    return topics_data"
      ],
      "execution_count": 3,
      "outputs": []
    },
    {
      "cell_type": "markdown",
      "metadata": {
        "id": "tq-dWasw_JDL"
      },
      "source": [
        "## Officially Getting the Data"
      ]
    },
    {
      "cell_type": "code",
      "metadata": {
        "id": "iffIw6WkPknJ",
        "colab": {
          "base_uri": "https://localhost:8080/"
        },
        "outputId": "bafc7dd2-d50e-44d9-8f14-f8f2d36b7950"
      },
      "source": [
        "reddit = authorise_extractor(\"729210\")\r\n",
        "\r\n",
        "train_data = extract_top_data(reddit, 300)\r\n",
        "\r\n",
        "print(train_data.head())"
      ],
      "execution_count": 4,
      "outputs": [
        {
          "output_type": "stream",
          "text": [
            "It appears that you are using PRAW in an asynchronous environment.\n",
            "It is strongly recommended to use Async PRAW: https://asyncpraw.readthedocs.io.\n",
            "See https://praw.readthedocs.io/en/latest/getting_started/multiple_instances.html#discord-bots-and-asynchronous-environments for more info.\n",
            "\n",
            "It appears that you are using PRAW in an asynchronous environment.\n",
            "It is strongly recommended to use Async PRAW: https://asyncpraw.readthedocs.io.\n",
            "See https://praw.readthedocs.io/en/latest/getting_started/multiple_instances.html#discord-bots-and-asynchronous-environments for more info.\n",
            "\n",
            "It appears that you are using PRAW in an asynchronous environment.\n",
            "It is strongly recommended to use Async PRAW: https://asyncpraw.readthedocs.io.\n",
            "See https://praw.readthedocs.io/en/latest/getting_started/multiple_instances.html#discord-bots-and-asynchronous-environments for more info.\n",
            "\n"
          ],
          "name": "stderr"
        },
        {
          "output_type": "stream",
          "text": [
            "                                               title  ...           timestamp\n",
            "0                             Times Square right now  ... 2021-01-31 02:00:38\n",
            "1             UPVOTE so everyone sees we got SUPPORT  ... 2021-01-28 21:40:34\n",
            "2                      GME YOLO update — Jan 28 2021  ... 2021-01-29 05:06:23\n",
            "3               GME YOLO month-end update — Jan 2021  ... 2021-01-30 05:04:45\n",
            "4  CLASS ACTION AGAINST ROBINHOOD. Allowing peopl...  ... 2021-01-28 21:49:11\n",
            "\n",
            "[5 rows x 8 columns]\n"
          ],
          "name": "stdout"
        }
      ]
    },
    {
      "cell_type": "code",
      "metadata": {
        "id": "8s0uqLv_Pgxe",
        "colab": {
          "base_uri": "https://localhost:8080/",
          "height": 597
        },
        "outputId": "bbe443bd-d47c-4355-9265-5291b5c374fa"
      },
      "source": [
        "train_data"
      ],
      "execution_count": 5,
      "outputs": [
        {
          "output_type": "execute_result",
          "data": {
            "text/html": [
              "<div>\n",
              "<style scoped>\n",
              "    .dataframe tbody tr th:only-of-type {\n",
              "        vertical-align: middle;\n",
              "    }\n",
              "\n",
              "    .dataframe tbody tr th {\n",
              "        vertical-align: top;\n",
              "    }\n",
              "\n",
              "    .dataframe thead th {\n",
              "        text-align: right;\n",
              "    }\n",
              "</style>\n",
              "<table border=\"1\" class=\"dataframe\">\n",
              "  <thead>\n",
              "    <tr style=\"text-align: right;\">\n",
              "      <th></th>\n",
              "      <th>title</th>\n",
              "      <th>score</th>\n",
              "      <th>id</th>\n",
              "      <th>url</th>\n",
              "      <th>comms_num</th>\n",
              "      <th>created</th>\n",
              "      <th>body</th>\n",
              "      <th>timestamp</th>\n",
              "    </tr>\n",
              "  </thead>\n",
              "  <tbody>\n",
              "    <tr>\n",
              "      <th>0</th>\n",
              "      <td>Times Square right now</td>\n",
              "      <td>371168</td>\n",
              "      <td>l8rf4k</td>\n",
              "      <td>https://v.redd.it/x64z70f7eie61</td>\n",
              "      <td>11942</td>\n",
              "      <td>1.612058e+09</td>\n",
              "      <td></td>\n",
              "      <td>2021-01-31 02:00:38</td>\n",
              "    </tr>\n",
              "    <tr>\n",
              "      <th>1</th>\n",
              "      <td>UPVOTE so everyone sees we got SUPPORT</td>\n",
              "      <td>300582</td>\n",
              "      <td>l6wu59</td>\n",
              "      <td>https://i.redd.it/sgoqy8nyt2e61.png</td>\n",
              "      <td>12765</td>\n",
              "      <td>1.611870e+09</td>\n",
              "      <td></td>\n",
              "      <td>2021-01-28 21:40:34</td>\n",
              "    </tr>\n",
              "    <tr>\n",
              "      <th>2</th>\n",
              "      <td>GME YOLO update — Jan 28 2021</td>\n",
              "      <td>268568</td>\n",
              "      <td>l78uct</td>\n",
              "      <td>https://i.redd.it/opzucppb15e61.png</td>\n",
              "      <td>24159</td>\n",
              "      <td>1.611897e+09</td>\n",
              "      <td></td>\n",
              "      <td>2021-01-29 05:06:23</td>\n",
              "    </tr>\n",
              "    <tr>\n",
              "      <th>3</th>\n",
              "      <td>GME YOLO month-end update — Jan 2021</td>\n",
              "      <td>242469</td>\n",
              "      <td>l846a1</td>\n",
              "      <td>https://i.redd.it/r557em3t5ce61.png</td>\n",
              "      <td>20997</td>\n",
              "      <td>1.611983e+09</td>\n",
              "      <td></td>\n",
              "      <td>2021-01-30 05:04:45</td>\n",
              "    </tr>\n",
              "    <tr>\n",
              "      <th>4</th>\n",
              "      <td>CLASS ACTION AGAINST ROBINHOOD. Allowing peopl...</td>\n",
              "      <td>217222</td>\n",
              "      <td>l6x130</td>\n",
              "      <td>https://www.reddit.com/r/wallstreetbets/commen...</td>\n",
              "      <td>18538</td>\n",
              "      <td>1.611871e+09</td>\n",
              "      <td>LEAVE ROBINHOOD. They dont deserve to make mon...</td>\n",
              "      <td>2021-01-28 21:49:11</td>\n",
              "    </tr>\n",
              "    <tr>\n",
              "      <th>...</th>\n",
              "      <td>...</td>\n",
              "      <td>...</td>\n",
              "      <td>...</td>\n",
              "      <td>...</td>\n",
              "      <td>...</td>\n",
              "      <td>...</td>\n",
              "      <td>...</td>\n",
              "      <td>...</td>\n",
              "    </tr>\n",
              "    <tr>\n",
              "      <th>295</th>\n",
              "      <td>It really do be like that doe</td>\n",
              "      <td>44540</td>\n",
              "      <td>j8zfc6</td>\n",
              "      <td>https://i.redd.it/5tyg8qmnees51.jpg</td>\n",
              "      <td>286</td>\n",
              "      <td>1.602421e+09</td>\n",
              "      <td></td>\n",
              "      <td>2020-10-11 13:04:53</td>\n",
              "    </tr>\n",
              "    <tr>\n",
              "      <th>296</th>\n",
              "      <td>On. Serious note: respect the decisions of dee...</td>\n",
              "      <td>44469</td>\n",
              "      <td>lcb614</td>\n",
              "      <td>https://www.reddit.com/r/wallstreetbets/commen...</td>\n",
              "      <td>2296</td>\n",
              "      <td>1.612456e+09</td>\n",
              "      <td>As we all know, the most likely outcome has ha...</td>\n",
              "      <td>2021-02-04 16:22:37</td>\n",
              "    </tr>\n",
              "    <tr>\n",
              "      <th>297</th>\n",
              "      <td>Economic Scarcity 🤔💰</td>\n",
              "      <td>44387</td>\n",
              "      <td>gnc045</td>\n",
              "      <td>https://i.redd.it/otnbffgkgxz41.jpg</td>\n",
              "      <td>849</td>\n",
              "      <td>1.590013e+09</td>\n",
              "      <td></td>\n",
              "      <td>2020-05-20 22:09:35</td>\n",
              "    </tr>\n",
              "    <tr>\n",
              "      <th>298</th>\n",
              "      <td>My gf and I are holding GME from South Korea. ...</td>\n",
              "      <td>44353</td>\n",
              "      <td>l6yqt8</td>\n",
              "      <td>https://v.redd.it/luey3zdj73e61</td>\n",
              "      <td>979</td>\n",
              "      <td>1.611875e+09</td>\n",
              "      <td></td>\n",
              "      <td>2021-01-28 22:56:52</td>\n",
              "    </tr>\n",
              "    <tr>\n",
              "      <th>299</th>\n",
              "      <td>I’m so fucking proud of every single person in...</td>\n",
              "      <td>44204</td>\n",
              "      <td>l6ocfn</td>\n",
              "      <td>https://www.reddit.com/r/wallstreetbets/commen...</td>\n",
              "      <td>1918</td>\n",
              "      <td>1.611838e+09</td>\n",
              "      <td>This probably won’t get anywhere and I don’t c...</td>\n",
              "      <td>2021-01-28 12:50:34</td>\n",
              "    </tr>\n",
              "  </tbody>\n",
              "</table>\n",
              "<p>300 rows × 8 columns</p>\n",
              "</div>"
            ],
            "text/plain": [
              "                                                 title  ...           timestamp\n",
              "0                               Times Square right now  ... 2021-01-31 02:00:38\n",
              "1               UPVOTE so everyone sees we got SUPPORT  ... 2021-01-28 21:40:34\n",
              "2                        GME YOLO update — Jan 28 2021  ... 2021-01-29 05:06:23\n",
              "3                 GME YOLO month-end update — Jan 2021  ... 2021-01-30 05:04:45\n",
              "4    CLASS ACTION AGAINST ROBINHOOD. Allowing peopl...  ... 2021-01-28 21:49:11\n",
              "..                                                 ...  ...                 ...\n",
              "295                      It really do be like that doe  ... 2020-10-11 13:04:53\n",
              "296  On. Serious note: respect the decisions of dee...  ... 2021-02-04 16:22:37\n",
              "297                               Economic Scarcity 🤔💰  ... 2020-05-20 22:09:35\n",
              "298  My gf and I are holding GME from South Korea. ...  ... 2021-01-28 22:56:52\n",
              "299  I’m so fucking proud of every single person in...  ... 2021-01-28 12:50:34\n",
              "\n",
              "[300 rows x 8 columns]"
            ]
          },
          "metadata": {
            "tags": []
          },
          "execution_count": 5
        }
      ]
    },
    {
      "cell_type": "markdown",
      "metadata": {
        "id": "W_CCWxqi_x5z"
      },
      "source": [
        "# Exploratory Data Analysis"
      ]
    },
    {
      "cell_type": "code",
      "metadata": {
        "colab": {
          "base_uri": "https://localhost:8080/",
          "height": 300
        },
        "id": "DiGEtgu9_jKi",
        "outputId": "9b42fcd0-a12a-491a-e18a-5212f6ab7e21"
      },
      "source": [
        "train_data.describe()"
      ],
      "execution_count": 6,
      "outputs": [
        {
          "output_type": "execute_result",
          "data": {
            "text/html": [
              "<div>\n",
              "<style scoped>\n",
              "    .dataframe tbody tr th:only-of-type {\n",
              "        vertical-align: middle;\n",
              "    }\n",
              "\n",
              "    .dataframe tbody tr th {\n",
              "        vertical-align: top;\n",
              "    }\n",
              "\n",
              "    .dataframe thead th {\n",
              "        text-align: right;\n",
              "    }\n",
              "</style>\n",
              "<table border=\"1\" class=\"dataframe\">\n",
              "  <thead>\n",
              "    <tr style=\"text-align: right;\">\n",
              "      <th></th>\n",
              "      <th>score</th>\n",
              "      <th>comms_num</th>\n",
              "      <th>created</th>\n",
              "    </tr>\n",
              "  </thead>\n",
              "  <tbody>\n",
              "    <tr>\n",
              "      <th>count</th>\n",
              "      <td>300.000000</td>\n",
              "      <td>300.000000</td>\n",
              "      <td>3.000000e+02</td>\n",
              "    </tr>\n",
              "    <tr>\n",
              "      <th>mean</th>\n",
              "      <td>87870.360000</td>\n",
              "      <td>4436.793333</td>\n",
              "      <td>1.610396e+09</td>\n",
              "    </tr>\n",
              "    <tr>\n",
              "      <th>std</th>\n",
              "      <td>45876.307216</td>\n",
              "      <td>8353.722209</td>\n",
              "      <td>7.137953e+06</td>\n",
              "    </tr>\n",
              "    <tr>\n",
              "      <th>min</th>\n",
              "      <td>44204.000000</td>\n",
              "      <td>286.000000</td>\n",
              "      <td>1.554177e+09</td>\n",
              "    </tr>\n",
              "    <tr>\n",
              "      <th>25%</th>\n",
              "      <td>55469.250000</td>\n",
              "      <td>1316.500000</td>\n",
              "      <td>1.611876e+09</td>\n",
              "    </tr>\n",
              "    <tr>\n",
              "      <th>50%</th>\n",
              "      <td>72855.000000</td>\n",
              "      <td>2452.500000</td>\n",
              "      <td>1.611977e+09</td>\n",
              "    </tr>\n",
              "    <tr>\n",
              "      <th>75%</th>\n",
              "      <td>103700.000000</td>\n",
              "      <td>4497.250000</td>\n",
              "      <td>1.612217e+09</td>\n",
              "    </tr>\n",
              "    <tr>\n",
              "      <th>max</th>\n",
              "      <td>371168.000000</td>\n",
              "      <td>82009.000000</td>\n",
              "      <td>1.612607e+09</td>\n",
              "    </tr>\n",
              "  </tbody>\n",
              "</table>\n",
              "</div>"
            ],
            "text/plain": [
              "               score     comms_num       created\n",
              "count     300.000000    300.000000  3.000000e+02\n",
              "mean    87870.360000   4436.793333  1.610396e+09\n",
              "std     45876.307216   8353.722209  7.137953e+06\n",
              "min     44204.000000    286.000000  1.554177e+09\n",
              "25%     55469.250000   1316.500000  1.611876e+09\n",
              "50%     72855.000000   2452.500000  1.611977e+09\n",
              "75%    103700.000000   4497.250000  1.612217e+09\n",
              "max    371168.000000  82009.000000  1.612607e+09"
            ]
          },
          "metadata": {
            "tags": []
          },
          "execution_count": 6
        }
      ]
    },
    {
      "cell_type": "code",
      "metadata": {
        "colab": {
          "base_uri": "https://localhost:8080/"
        },
        "id": "iaEg5rBs_4ae",
        "outputId": "2aa4ce78-7209-4e19-ef1f-79e766b13bc0"
      },
      "source": [
        "train_data.dtypes"
      ],
      "execution_count": 7,
      "outputs": [
        {
          "output_type": "execute_result",
          "data": {
            "text/plain": [
              "title                object\n",
              "score                 int64\n",
              "id                   object\n",
              "url                  object\n",
              "comms_num             int64\n",
              "created             float64\n",
              "body                 object\n",
              "timestamp    datetime64[ns]\n",
              "dtype: object"
            ]
          },
          "metadata": {
            "tags": []
          },
          "execution_count": 7
        }
      ]
    },
    {
      "cell_type": "code",
      "metadata": {
        "colab": {
          "base_uri": "https://localhost:8080/",
          "height": 537
        },
        "id": "DJtX3gFVEWe2",
        "outputId": "bc77e3ce-e089-4cb5-a002-657f9e06ec86"
      },
      "source": [
        "plt.figure(figsize=(9,9))\r\n",
        "plt.scatter(train_data.timestamp, train_data.score)\r\n",
        "plt.show()"
      ],
      "execution_count": 8,
      "outputs": [
        {
          "output_type": "display_data",
          "data": {
            "image/png": "[encoded data removed]",
            "text/plain": [
              "<Figure size 648x648 with 1 Axes>"
            ]
          },
          "metadata": {
            "tags": [],
            "needs_background": "light"
          }
        }
      ]
    },
    {
      "cell_type": "markdown",
      "metadata": {
        "id": "hIjPXsPTJa4e"
      },
      "source": [
        "# Text Extraction"
      ]
    },
    {
      "cell_type": "code",
      "metadata": {
        "colab": {
          "base_uri": "https://localhost:8080/"
        },
        "id": "exeQDnpaU9SO",
        "outputId": "ed46752d-24a0-4eee-f7d3-9b1e04d1ceb0"
      },
      "source": [
        "!pip install yfinance"
      ],
      "execution_count": 9,
      "outputs": [
        {
          "output_type": "stream",
          "text": [
            "Collecting yfinance\n",
            "  Downloading https://files.pythonhosted.org/packages/7a/e8/b9d7104d3a4bf39924799067592d9e59119fcfc900a425a12e80a3123ec8/yfinance-0.1.55.tar.gz\n",
            "Requirement already satisfied: pandas>=0.24 in /usr/local/lib/python3.6/dist-packages (from yfinance) (1.1.5)\n",
            "Requirement already satisfied: numpy>=1.15 in /usr/local/lib/python3.6/dist-packages (from yfinance) (1.19.5)\n",
            "Requirement already satisfied: requests>=2.20 in /usr/local/lib/python3.6/dist-packages (from yfinance) (2.23.0)\n",
            "Requirement already satisfied: multitasking>=0.0.7 in /usr/local/lib/python3.6/dist-packages (from yfinance) (0.0.9)\n",
            "Collecting lxml>=4.5.1\n",
            "\u001b[?25l  Downloading https://files.pythonhosted.org/packages/bd/78/56a7c88a57d0d14945472535d0df9fb4bbad7d34ede658ec7961635c790e/lxml-4.6.2-cp36-cp36m-manylinux1_x86_64.whl (5.5MB)\n",
            "\u001b[K     |████████████████████████████████| 5.5MB 7.3MB/s \n",
            "\u001b[?25hRequirement already satisfied: python-dateutil>=2.7.3 in /usr/local/lib/python3.6/dist-packages (from pandas>=0.24->yfinance) (2.8.1)\n",
            "Requirement already satisfied: pytz>=2017.2 in /usr/local/lib/python3.6/dist-packages (from pandas>=0.24->yfinance) (2018.9)\n",
            "Requirement already satisfied: certifi>=2017.4.17 in /usr/local/lib/python3.6/dist-packages (from requests>=2.20->yfinance) (2020.12.5)\n",
            "Requirement already satisfied: chardet<4,>=3.0.2 in /usr/local/lib/python3.6/dist-packages (from requests>=2.20->yfinance) (3.0.4)\n",
            "Requirement already satisfied: urllib3!=1.25.0,!=1.25.1,<1.26,>=1.21.1 in /usr/local/lib/python3.6/dist-packages (from requests>=2.20->yfinance) (1.24.3)\n",
            "Requirement already satisfied: idna<3,>=2.5 in /usr/local/lib/python3.6/dist-packages (from requests>=2.20->yfinance) (2.10)\n",
            "Requirement already satisfied: six>=1.5 in /usr/local/lib/python3.6/dist-packages (from python-dateutil>=2.7.3->pandas>=0.24->yfinance) (1.15.0)\n",
            "Building wheels for collected packages: yfinance\n",
            "  Building wheel for yfinance (setup.py) ... \u001b[?25l\u001b[?25hdone\n",
            "  Created wheel for yfinance: filename=yfinance-0.1.55-py2.py3-none-any.whl size=22616 sha256=f2530d77a6d36b1d01497cad5b257a36d1df3ed3cc8ce7fe7a92081e5312ac10\n",
            "  Stored in directory: /root/.cache/pip/wheels/04/98/cc/2702a4242d60bdc14f48b4557c427ded1fe92aedf257d4565c\n",
            "Successfully built yfinance\n",
            "Installing collected packages: lxml, yfinance\n",
            "  Found existing installation: lxml 4.2.6\n",
            "    Uninstalling lxml-4.2.6:\n",
            "      Successfully uninstalled lxml-4.2.6\n",
            "Successfully installed lxml-4.6.2 yfinance-0.1.55\n"
          ],
          "name": "stdout"
        }
      ]
    },
    {
      "cell_type": "markdown",
      "metadata": {
        "id": "3pDcRrj7Jmhr"
      },
      "source": [
        "## Importing Text Blob: https://textblob.readthedocs.io/en/dev/quickstart.html"
      ]
    },
    {
      "cell_type": "code",
      "metadata": {
        "id": "HyGX2JajEtyU"
      },
      "source": [
        "from textblob import TextBlob\r\n",
        "import nltk\r\n",
        "from pandas_datareader import data\r\n",
        "import yfinance"
      ],
      "execution_count": 10,
      "outputs": []
    },
    {
      "cell_type": "code",
      "metadata": {
        "colab": {
          "base_uri": "https://localhost:8080/"
        },
        "id": "j7SKJQq0MtEU",
        "outputId": "a3314891-1d50-4bbf-cda8-b49eb6341053"
      },
      "source": [
        "nltk.download('punkt')\r\n",
        "nltk.download('averaged_perceptron_tagger')\r\n",
        "nltk.download('brown')"
      ],
      "execution_count": 11,
      "outputs": [
        {
          "output_type": "stream",
          "text": [
            "[nltk_data] Downloading package punkt to /root/nltk_data...\n",
            "[nltk_data]   Unzipping tokenizers/punkt.zip.\n",
            "[nltk_data] Downloading package averaged_perceptron_tagger to\n",
            "[nltk_data]     /root/nltk_data...\n",
            "[nltk_data]   Unzipping taggers/averaged_perceptron_tagger.zip.\n",
            "[nltk_data] Downloading package brown to /root/nltk_data...\n",
            "[nltk_data]   Unzipping corpora/brown.zip.\n"
          ],
          "name": "stdout"
        },
        {
          "output_type": "execute_result",
          "data": {
            "text/plain": [
              "True"
            ]
          },
          "metadata": {
            "tags": []
          },
          "execution_count": 11
        }
      ]
    },
    {
      "cell_type": "markdown",
      "metadata": {
        "id": "rnu0ryEcMv2h"
      },
      "source": [
        "## Function Declarations"
      ]
    },
    {
      "cell_type": "code",
      "metadata": {
        "id": "DG5pyZL5KmhW"
      },
      "source": [
        "def get_text_blob(title):\r\n",
        "  header = TextBlob(title)\r\n",
        "  return len(header.noun_phrases)\r\n",
        "\r\n",
        "def get_subjectivity(title):\r\n",
        "  header = TextBlob(title)\r\n",
        "  sentiment = header.sentiment.subjectivity\r\n",
        "  return sentiment\r\n",
        "\r\n",
        "def get_stock_name(title):\r\n",
        "  header = TextBlob(title)\r\n",
        "  for word in header.words:\r\n",
        "    try:\r\n",
        "      data = yfinance.Ticker(noun)\r\n",
        "      stock = data.info[\"symbol\"]\r\n",
        "      break\r\n",
        "\r\n",
        "    except:\r\n",
        "      stock = \"NA\" \r\n",
        "  \r\n",
        "  return stock\r\n",
        "\r\n",
        "def get_sentiment(title):\r\n",
        "  header = TextBlob(title)\r\n",
        "  sentiment = header.sentiment.polarity\r\n",
        "  return sentiment"
      ],
      "execution_count": 23,
      "outputs": []
    },
    {
      "cell_type": "markdown",
      "metadata": {
        "id": "s6IHX8X9M0Ys"
      },
      "source": [
        "## EDA"
      ]
    },
    {
      "cell_type": "code",
      "metadata": {
        "id": "L-vLkiJuKf93"
      },
      "source": [
        "header = TextBlob(train_data.iloc[3,0])"
      ],
      "execution_count": 13,
      "outputs": []
    },
    {
      "cell_type": "code",
      "metadata": {
        "colab": {
          "base_uri": "https://localhost:8080/"
        },
        "id": "3tHsxQPMMVj-",
        "outputId": "75d3a320-af9a-459b-f699-4eb07c0aad34"
      },
      "source": [
        "header.noun_phrases"
      ],
      "execution_count": 14,
      "outputs": [
        {
          "output_type": "execute_result",
          "data": {
            "text/plain": [
              "WordList(['gme yolo', 'month-end update —', 'jan'])"
            ]
          },
          "metadata": {
            "tags": []
          },
          "execution_count": 14
        }
      ]
    },
    {
      "cell_type": "code",
      "metadata": {
        "colab": {
          "base_uri": "https://localhost:8080/"
        },
        "id": "_F9tWaNNMkfa",
        "outputId": "f9163012-5d82-4b60-ce70-04051515287f"
      },
      "source": [
        "for sentence in header.sentences:\r\n",
        "    print(sentence.sentiment)"
      ],
      "execution_count": 15,
      "outputs": [
        {
          "output_type": "stream",
          "text": [
            "Sentiment(polarity=0.0, subjectivity=0.0)\n"
          ],
          "name": "stdout"
        }
      ]
    },
    {
      "cell_type": "code",
      "metadata": {
        "colab": {
          "base_uri": "https://localhost:8080/"
        },
        "id": "LgeD_zvFLKO1",
        "outputId": "fc82e8a7-d66e-438a-b4ba-3629dec03764"
      },
      "source": [
        "for noun in header.noun_phrases:\r\n",
        "    print(noun)"
      ],
      "execution_count": 16,
      "outputs": [
        {
          "output_type": "stream",
          "text": [
            "gme yolo\n",
            "month-end update —\n",
            "jan\n"
          ],
          "name": "stdout"
        }
      ]
    },
    {
      "cell_type": "markdown",
      "metadata": {
        "id": "24A_ky5IXWaT"
      },
      "source": [
        "For Reference: pypi.org/project/yfinance/"
      ]
    },
    {
      "cell_type": "markdown",
      "metadata": {
        "id": "TaromF6qcOLN"
      },
      "source": [
        "## Feature Engineering"
      ]
    },
    {
      "cell_type": "code",
      "metadata": {
        "colab": {
          "base_uri": "https://localhost:8080/",
          "height": 293
        },
        "id": "-4JobCvXUsFt",
        "outputId": "77317b53-e503-4cdf-e40e-3214efae3c3c"
      },
      "source": [
        "_count= train_data[\"title\"].apply(get_text_blob)\r\n",
        "train_data = train_data.assign(keyword_count = _count)\r\n",
        "\r\n",
        "train_data.head()"
      ],
      "execution_count": 17,
      "outputs": [
        {
          "output_type": "execute_result",
          "data": {
            "text/html": [
              "<div>\n",
              "<style scoped>\n",
              "    .dataframe tbody tr th:only-of-type {\n",
              "        vertical-align: middle;\n",
              "    }\n",
              "\n",
              "    .dataframe tbody tr th {\n",
              "        vertical-align: top;\n",
              "    }\n",
              "\n",
              "    .dataframe thead th {\n",
              "        text-align: right;\n",
              "    }\n",
              "</style>\n",
              "<table border=\"1\" class=\"dataframe\">\n",
              "  <thead>\n",
              "    <tr style=\"text-align: right;\">\n",
              "      <th></th>\n",
              "      <th>title</th>\n",
              "      <th>score</th>\n",
              "      <th>id</th>\n",
              "      <th>url</th>\n",
              "      <th>comms_num</th>\n",
              "      <th>created</th>\n",
              "      <th>body</th>\n",
              "      <th>timestamp</th>\n",
              "      <th>keyword_count</th>\n",
              "    </tr>\n",
              "  </thead>\n",
              "  <tbody>\n",
              "    <tr>\n",
              "      <th>0</th>\n",
              "      <td>Times Square right now</td>\n",
              "      <td>371168</td>\n",
              "      <td>l8rf4k</td>\n",
              "      <td>https://v.redd.it/x64z70f7eie61</td>\n",
              "      <td>11942</td>\n",
              "      <td>1.612058e+09</td>\n",
              "      <td></td>\n",
              "      <td>2021-01-31 02:00:38</td>\n",
              "      <td>0</td>\n",
              "    </tr>\n",
              "    <tr>\n",
              "      <th>1</th>\n",
              "      <td>UPVOTE so everyone sees we got SUPPORT</td>\n",
              "      <td>300582</td>\n",
              "      <td>l6wu59</td>\n",
              "      <td>https://i.redd.it/sgoqy8nyt2e61.png</td>\n",
              "      <td>12765</td>\n",
              "      <td>1.611870e+09</td>\n",
              "      <td></td>\n",
              "      <td>2021-01-28 21:40:34</td>\n",
              "      <td>2</td>\n",
              "    </tr>\n",
              "    <tr>\n",
              "      <th>2</th>\n",
              "      <td>GME YOLO update — Jan 28 2021</td>\n",
              "      <td>268568</td>\n",
              "      <td>l78uct</td>\n",
              "      <td>https://i.redd.it/opzucppb15e61.png</td>\n",
              "      <td>24159</td>\n",
              "      <td>1.611897e+09</td>\n",
              "      <td></td>\n",
              "      <td>2021-01-29 05:06:23</td>\n",
              "      <td>3</td>\n",
              "    </tr>\n",
              "    <tr>\n",
              "      <th>3</th>\n",
              "      <td>GME YOLO month-end update — Jan 2021</td>\n",
              "      <td>242469</td>\n",
              "      <td>l846a1</td>\n",
              "      <td>https://i.redd.it/r557em3t5ce61.png</td>\n",
              "      <td>20997</td>\n",
              "      <td>1.611983e+09</td>\n",
              "      <td></td>\n",
              "      <td>2021-01-30 05:04:45</td>\n",
              "      <td>3</td>\n",
              "    </tr>\n",
              "    <tr>\n",
              "      <th>4</th>\n",
              "      <td>CLASS ACTION AGAINST ROBINHOOD. Allowing peopl...</td>\n",
              "      <td>217222</td>\n",
              "      <td>l6x130</td>\n",
              "      <td>https://www.reddit.com/r/wallstreetbets/commen...</td>\n",
              "      <td>18538</td>\n",
              "      <td>1.611871e+09</td>\n",
              "      <td>LEAVE ROBINHOOD. They dont deserve to make mon...</td>\n",
              "      <td>2021-01-28 21:49:11</td>\n",
              "      <td>7</td>\n",
              "    </tr>\n",
              "  </tbody>\n",
              "</table>\n",
              "</div>"
            ],
            "text/plain": [
              "                                               title  ...  keyword_count\n",
              "0                             Times Square right now  ...              0\n",
              "1             UPVOTE so everyone sees we got SUPPORT  ...              2\n",
              "2                      GME YOLO update — Jan 28 2021  ...              3\n",
              "3               GME YOLO month-end update — Jan 2021  ...              3\n",
              "4  CLASS ACTION AGAINST ROBINHOOD. Allowing peopl...  ...              7\n",
              "\n",
              "[5 rows x 9 columns]"
            ]
          },
          "metadata": {
            "tags": []
          },
          "execution_count": 17
        }
      ]
    },
    {
      "cell_type": "code",
      "metadata": {
        "colab": {
          "base_uri": "https://localhost:8080/",
          "height": 293
        },
        "id": "20ETlGdkd6Vl",
        "outputId": "ed9ddfa6-bb13-4a18-dccf-63d3d9fb0dc5"
      },
      "source": [
        "_sentiment = train_data[\"title\"].apply(get_sentiment)\r\n",
        "train_data = train_data.assign(sentiment = _sentiment)\r\n",
        "\r\n",
        "train_data.head()"
      ],
      "execution_count": 18,
      "outputs": [
        {
          "output_type": "execute_result",
          "data": {
            "text/html": [
              "<div>\n",
              "<style scoped>\n",
              "    .dataframe tbody tr th:only-of-type {\n",
              "        vertical-align: middle;\n",
              "    }\n",
              "\n",
              "    .dataframe tbody tr th {\n",
              "        vertical-align: top;\n",
              "    }\n",
              "\n",
              "    .dataframe thead th {\n",
              "        text-align: right;\n",
              "    }\n",
              "</style>\n",
              "<table border=\"1\" class=\"dataframe\">\n",
              "  <thead>\n",
              "    <tr style=\"text-align: right;\">\n",
              "      <th></th>\n",
              "      <th>title</th>\n",
              "      <th>score</th>\n",
              "      <th>id</th>\n",
              "      <th>url</th>\n",
              "      <th>comms_num</th>\n",
              "      <th>created</th>\n",
              "      <th>body</th>\n",
              "      <th>timestamp</th>\n",
              "      <th>keyword_count</th>\n",
              "      <th>sentiment</th>\n",
              "    </tr>\n",
              "  </thead>\n",
              "  <tbody>\n",
              "    <tr>\n",
              "      <th>0</th>\n",
              "      <td>Times Square right now</td>\n",
              "      <td>371168</td>\n",
              "      <td>l8rf4k</td>\n",
              "      <td>https://v.redd.it/x64z70f7eie61</td>\n",
              "      <td>11942</td>\n",
              "      <td>1.612058e+09</td>\n",
              "      <td></td>\n",
              "      <td>2021-01-31 02:00:38</td>\n",
              "      <td>0</td>\n",
              "      <td>0.285714</td>\n",
              "    </tr>\n",
              "    <tr>\n",
              "      <th>1</th>\n",
              "      <td>UPVOTE so everyone sees we got SUPPORT</td>\n",
              "      <td>300582</td>\n",
              "      <td>l6wu59</td>\n",
              "      <td>https://i.redd.it/sgoqy8nyt2e61.png</td>\n",
              "      <td>12765</td>\n",
              "      <td>1.611870e+09</td>\n",
              "      <td></td>\n",
              "      <td>2021-01-28 21:40:34</td>\n",
              "      <td>2</td>\n",
              "      <td>0.000000</td>\n",
              "    </tr>\n",
              "    <tr>\n",
              "      <th>2</th>\n",
              "      <td>GME YOLO update — Jan 28 2021</td>\n",
              "      <td>268568</td>\n",
              "      <td>l78uct</td>\n",
              "      <td>https://i.redd.it/opzucppb15e61.png</td>\n",
              "      <td>24159</td>\n",
              "      <td>1.611897e+09</td>\n",
              "      <td></td>\n",
              "      <td>2021-01-29 05:06:23</td>\n",
              "      <td>3</td>\n",
              "      <td>0.000000</td>\n",
              "    </tr>\n",
              "    <tr>\n",
              "      <th>3</th>\n",
              "      <td>GME YOLO month-end update — Jan 2021</td>\n",
              "      <td>242469</td>\n",
              "      <td>l846a1</td>\n",
              "      <td>https://i.redd.it/r557em3t5ce61.png</td>\n",
              "      <td>20997</td>\n",
              "      <td>1.611983e+09</td>\n",
              "      <td></td>\n",
              "      <td>2021-01-30 05:04:45</td>\n",
              "      <td>3</td>\n",
              "      <td>0.000000</td>\n",
              "    </tr>\n",
              "    <tr>\n",
              "      <th>4</th>\n",
              "      <td>CLASS ACTION AGAINST ROBINHOOD. Allowing peopl...</td>\n",
              "      <td>217222</td>\n",
              "      <td>l6x130</td>\n",
              "      <td>https://www.reddit.com/r/wallstreetbets/commen...</td>\n",
              "      <td>18538</td>\n",
              "      <td>1.611871e+09</td>\n",
              "      <td>LEAVE ROBINHOOD. They dont deserve to make mon...</td>\n",
              "      <td>2021-01-28 21:49:11</td>\n",
              "      <td>7</td>\n",
              "      <td>0.072596</td>\n",
              "    </tr>\n",
              "  </tbody>\n",
              "</table>\n",
              "</div>"
            ],
            "text/plain": [
              "                                               title  ...  sentiment\n",
              "0                             Times Square right now  ...   0.285714\n",
              "1             UPVOTE so everyone sees we got SUPPORT  ...   0.000000\n",
              "2                      GME YOLO update — Jan 28 2021  ...   0.000000\n",
              "3               GME YOLO month-end update — Jan 2021  ...   0.000000\n",
              "4  CLASS ACTION AGAINST ROBINHOOD. Allowing peopl...  ...   0.072596\n",
              "\n",
              "[5 rows x 10 columns]"
            ]
          },
          "metadata": {
            "tags": []
          },
          "execution_count": 18
        }
      ]
    },
    {
      "cell_type": "code",
      "metadata": {
        "id": "-Wd1c3MUuwNn",
        "colab": {
          "base_uri": "https://localhost:8080/",
          "height": 293
        },
        "outputId": "63c6c922-4a32-44b4-f86d-3825bae062ba"
      },
      "source": [
        "_subjectivity = train_data[\"title\"].apply(get_subjectivity)\r\n",
        "train_data = train_data.assign(subjectivity = _subjectivity)\r\n",
        "\r\n",
        "train_data.head()"
      ],
      "execution_count": 24,
      "outputs": [
        {
          "output_type": "execute_result",
          "data": {
            "text/html": [
              "<div>\n",
              "<style scoped>\n",
              "    .dataframe tbody tr th:only-of-type {\n",
              "        vertical-align: middle;\n",
              "    }\n",
              "\n",
              "    .dataframe tbody tr th {\n",
              "        vertical-align: top;\n",
              "    }\n",
              "\n",
              "    .dataframe thead th {\n",
              "        text-align: right;\n",
              "    }\n",
              "</style>\n",
              "<table border=\"1\" class=\"dataframe\">\n",
              "  <thead>\n",
              "    <tr style=\"text-align: right;\">\n",
              "      <th></th>\n",
              "      <th>title</th>\n",
              "      <th>score</th>\n",
              "      <th>id</th>\n",
              "      <th>url</th>\n",
              "      <th>comms_num</th>\n",
              "      <th>created</th>\n",
              "      <th>body</th>\n",
              "      <th>timestamp</th>\n",
              "      <th>keyword_count</th>\n",
              "      <th>sentiment</th>\n",
              "      <th>subjectivity</th>\n",
              "    </tr>\n",
              "  </thead>\n",
              "  <tbody>\n",
              "    <tr>\n",
              "      <th>0</th>\n",
              "      <td>Times Square right now</td>\n",
              "      <td>371168</td>\n",
              "      <td>l8rf4k</td>\n",
              "      <td>https://v.redd.it/x64z70f7eie61</td>\n",
              "      <td>11942</td>\n",
              "      <td>1.612058e+09</td>\n",
              "      <td></td>\n",
              "      <td>2021-01-31 02:00:38</td>\n",
              "      <td>0</td>\n",
              "      <td>0.285714</td>\n",
              "      <td>0.535714</td>\n",
              "    </tr>\n",
              "    <tr>\n",
              "      <th>1</th>\n",
              "      <td>UPVOTE so everyone sees we got SUPPORT</td>\n",
              "      <td>300582</td>\n",
              "      <td>l6wu59</td>\n",
              "      <td>https://i.redd.it/sgoqy8nyt2e61.png</td>\n",
              "      <td>12765</td>\n",
              "      <td>1.611870e+09</td>\n",
              "      <td></td>\n",
              "      <td>2021-01-28 21:40:34</td>\n",
              "      <td>2</td>\n",
              "      <td>0.000000</td>\n",
              "      <td>0.000000</td>\n",
              "    </tr>\n",
              "    <tr>\n",
              "      <th>2</th>\n",
              "      <td>GME YOLO update — Jan 28 2021</td>\n",
              "      <td>268568</td>\n",
              "      <td>l78uct</td>\n",
              "      <td>https://i.redd.it/opzucppb15e61.png</td>\n",
              "      <td>24159</td>\n",
              "      <td>1.611897e+09</td>\n",
              "      <td></td>\n",
              "      <td>2021-01-29 05:06:23</td>\n",
              "      <td>3</td>\n",
              "      <td>0.000000</td>\n",
              "      <td>0.000000</td>\n",
              "    </tr>\n",
              "    <tr>\n",
              "      <th>3</th>\n",
              "      <td>GME YOLO month-end update — Jan 2021</td>\n",
              "      <td>242469</td>\n",
              "      <td>l846a1</td>\n",
              "      <td>https://i.redd.it/r557em3t5ce61.png</td>\n",
              "      <td>20997</td>\n",
              "      <td>1.611983e+09</td>\n",
              "      <td></td>\n",
              "      <td>2021-01-30 05:04:45</td>\n",
              "      <td>3</td>\n",
              "      <td>0.000000</td>\n",
              "      <td>0.000000</td>\n",
              "    </tr>\n",
              "    <tr>\n",
              "      <th>4</th>\n",
              "      <td>CLASS ACTION AGAINST ROBINHOOD. Allowing peopl...</td>\n",
              "      <td>217222</td>\n",
              "      <td>l6x130</td>\n",
              "      <td>https://www.reddit.com/r/wallstreetbets/commen...</td>\n",
              "      <td>18538</td>\n",
              "      <td>1.611871e+09</td>\n",
              "      <td>LEAVE ROBINHOOD. They dont deserve to make mon...</td>\n",
              "      <td>2021-01-28 21:49:11</td>\n",
              "      <td>7</td>\n",
              "      <td>0.072596</td>\n",
              "      <td>0.432372</td>\n",
              "    </tr>\n",
              "  </tbody>\n",
              "</table>\n",
              "</div>"
            ],
            "text/plain": [
              "                                               title  ...  subjectivity\n",
              "0                             Times Square right now  ...      0.535714\n",
              "1             UPVOTE so everyone sees we got SUPPORT  ...      0.000000\n",
              "2                      GME YOLO update — Jan 28 2021  ...      0.000000\n",
              "3               GME YOLO month-end update — Jan 2021  ...      0.000000\n",
              "4  CLASS ACTION AGAINST ROBINHOOD. Allowing peopl...  ...      0.432372\n",
              "\n",
              "[5 rows x 11 columns]"
            ]
          },
          "metadata": {
            "tags": []
          },
          "execution_count": 24
        }
      ]
    },
    {
      "cell_type": "markdown",
      "metadata": {
        "id": "5g1kg2uVt_c0"
      },
      "source": [
        "# More EDA"
      ]
    },
    {
      "cell_type": "code",
      "metadata": {
        "colab": {
          "base_uri": "https://localhost:8080/",
          "height": 537
        },
        "id": "lwuHAYu2uDns",
        "outputId": "cd82aada-c816-466a-872d-24b82ce03cd1"
      },
      "source": [
        "plt.figure(figsize=(9,9))\r\n",
        "plt.scatter(train_data.keyword_count, train_data.sentiment)\r\n",
        "plt.show()"
      ],
      "execution_count": 20,
      "outputs": [
        {
          "output_type": "display_data",
          "data": {
            "image/png": "[encoded data removed]",
            "text/plain": [
              "<Figure size 648x648 with 1 Axes>"
            ]
          },
          "metadata": {
            "tags": [],
            "needs_background": "light"
          }
        }
      ]
    },
    {
      "cell_type": "code",
      "metadata": {
        "colab": {
          "base_uri": "https://localhost:8080/",
          "height": 537
        },
        "id": "WwNdDIJzdUQQ",
        "outputId": "ea13bfcc-142b-4524-8dbd-f1dffac2051c"
      },
      "source": [
        "plt.figure(figsize=(9,9))\r\n",
        "plt.scatter(train_data.timestamp, train_data.sentiment)\r\n",
        "plt.show()"
      ],
      "execution_count": 21,
      "outputs": [
        {
          "output_type": "display_data",
          "data": {
            "image/png": "[encoded data removed]",
            "text/plain": [
              "<Figure size 648x648 with 1 Axes>"
            ]
          },
          "metadata": {
            "tags": [],
            "needs_background": "light"
          }
        }
      ]
    },
    {
      "cell_type": "code",
      "metadata": {
        "colab": {
          "base_uri": "https://localhost:8080/",
          "height": 537
        },
        "id": "yF6ns2kFfowR",
        "outputId": "372012ec-9976-4244-f7f0-dc8057a3784b"
      },
      "source": [
        "plt.figure(figsize=(9,9))\r\n",
        "plt.scatter(train_data.timestamp, train_data.subjectivity)\r\n",
        "plt.show()"
      ],
      "execution_count": 25,
      "outputs": [
        {
          "output_type": "display_data",
          "data": {
            "image/png": "[encoded data removed]",
            "text/plain": [
              "<Figure size 648x648 with 1 Axes>"
            ]
          },
          "metadata": {
            "tags": [],
            "needs_background": "light"
          }
        }
      ]
    },
    {
      "cell_type": "code",
      "metadata": {
        "colab": {
          "base_uri": "https://localhost:8080/",
          "height": 537
        },
        "id": "Tr5sLh5tf6_0",
        "outputId": "cfeda8e3-a346-4651-c7d3-41973f98b906"
      },
      "source": [
        "plt.figure(figsize=(9,9))\r\n",
        "plt.scatter(train_data.sentiment, train_data.subjectivity)\r\n",
        "plt.show()"
      ],
      "execution_count": 27,
      "outputs": [
        {
          "output_type": "display_data",
          "data": {
            "image/png": "[encoded data removed]",
            "text/plain": [
              "<Figure size 648x648 with 1 Axes>"
            ]
          },
          "metadata": {
            "tags": [],
            "needs_background": "light"
          }
        }
      ]
    },
    {
      "cell_type": "code",
      "metadata": {
        "colab": {
          "base_uri": "https://localhost:8080/",
          "height": 537
        },
        "id": "ARRXPvNZdxzT",
        "outputId": "f0af3f4b-7a4e-4fac-fefc-30e4824c404a"
      },
      "source": [
        "plt.figure(figsize=(9,9))\r\n",
        "plt.scatter(train_data.timestamp, train_data.keyword_count)\r\n",
        "plt.show()"
      ],
      "execution_count": 22,
      "outputs": [
        {
          "output_type": "display_data",
          "data": {
            "image/png": "[encoded data removed]",
            "text/plain": [
              "<Figure size 648x648 with 1 Axes>"
            ]
          },
          "metadata": {
            "tags": [],
            "needs_background": "light"
          }
        }
      ]
    },
    {
      "cell_type": "code",
      "metadata": {
        "colab": {
          "base_uri": "https://localhost:8080/",
          "height": 300
        },
        "id": "Vebe3JXIetFF",
        "outputId": "98b13e25-af99-4e02-9481-9e86aaf57756"
      },
      "source": [
        "train_data.describe()"
      ],
      "execution_count": 26,
      "outputs": [
        {
          "output_type": "execute_result",
          "data": {
            "text/html": [
              "<div>\n",
              "<style scoped>\n",
              "    .dataframe tbody tr th:only-of-type {\n",
              "        vertical-align: middle;\n",
              "    }\n",
              "\n",
              "    .dataframe tbody tr th {\n",
              "        vertical-align: top;\n",
              "    }\n",
              "\n",
              "    .dataframe thead th {\n",
              "        text-align: right;\n",
              "    }\n",
              "</style>\n",
              "<table border=\"1\" class=\"dataframe\">\n",
              "  <thead>\n",
              "    <tr style=\"text-align: right;\">\n",
              "      <th></th>\n",
              "      <th>score</th>\n",
              "      <th>comms_num</th>\n",
              "      <th>created</th>\n",
              "      <th>keyword_count</th>\n",
              "      <th>sentiment</th>\n",
              "      <th>subjectivity</th>\n",
              "    </tr>\n",
              "  </thead>\n",
              "  <tbody>\n",
              "    <tr>\n",
              "      <th>count</th>\n",
              "      <td>300.000000</td>\n",
              "      <td>300.000000</td>\n",
              "      <td>3.000000e+02</td>\n",
              "      <td>300.000000</td>\n",
              "      <td>300.000000</td>\n",
              "      <td>300.000000</td>\n",
              "    </tr>\n",
              "    <tr>\n",
              "      <th>mean</th>\n",
              "      <td>87870.360000</td>\n",
              "      <td>4436.793333</td>\n",
              "      <td>1.610396e+09</td>\n",
              "      <td>2.423333</td>\n",
              "      <td>0.033555</td>\n",
              "      <td>0.264894</td>\n",
              "    </tr>\n",
              "    <tr>\n",
              "      <th>std</th>\n",
              "      <td>45876.307216</td>\n",
              "      <td>8353.722209</td>\n",
              "      <td>7.137953e+06</td>\n",
              "      <td>1.873273</td>\n",
              "      <td>0.276808</td>\n",
              "      <td>0.322668</td>\n",
              "    </tr>\n",
              "    <tr>\n",
              "      <th>min</th>\n",
              "      <td>44204.000000</td>\n",
              "      <td>286.000000</td>\n",
              "      <td>1.554177e+09</td>\n",
              "      <td>0.000000</td>\n",
              "      <td>-1.000000</td>\n",
              "      <td>0.000000</td>\n",
              "    </tr>\n",
              "    <tr>\n",
              "      <th>25%</th>\n",
              "      <td>55469.250000</td>\n",
              "      <td>1316.500000</td>\n",
              "      <td>1.611876e+09</td>\n",
              "      <td>1.000000</td>\n",
              "      <td>0.000000</td>\n",
              "      <td>0.000000</td>\n",
              "    </tr>\n",
              "    <tr>\n",
              "      <th>50%</th>\n",
              "      <td>72855.000000</td>\n",
              "      <td>2452.500000</td>\n",
              "      <td>1.611977e+09</td>\n",
              "      <td>2.000000</td>\n",
              "      <td>0.000000</td>\n",
              "      <td>0.016667</td>\n",
              "    </tr>\n",
              "    <tr>\n",
              "      <th>75%</th>\n",
              "      <td>103700.000000</td>\n",
              "      <td>4497.250000</td>\n",
              "      <td>1.612217e+09</td>\n",
              "      <td>3.000000</td>\n",
              "      <td>0.003125</td>\n",
              "      <td>0.500000</td>\n",
              "    </tr>\n",
              "    <tr>\n",
              "      <th>max</th>\n",
              "      <td>371168.000000</td>\n",
              "      <td>82009.000000</td>\n",
              "      <td>1.612607e+09</td>\n",
              "      <td>10.000000</td>\n",
              "      <td>1.000000</td>\n",
              "      <td>1.000000</td>\n",
              "    </tr>\n",
              "  </tbody>\n",
              "</table>\n",
              "</div>"
            ],
            "text/plain": [
              "               score     comms_num  ...   sentiment  subjectivity\n",
              "count     300.000000    300.000000  ...  300.000000    300.000000\n",
              "mean    87870.360000   4436.793333  ...    0.033555      0.264894\n",
              "std     45876.307216   8353.722209  ...    0.276808      0.322668\n",
              "min     44204.000000    286.000000  ...   -1.000000      0.000000\n",
              "25%     55469.250000   1316.500000  ...    0.000000      0.000000\n",
              "50%     72855.000000   2452.500000  ...    0.000000      0.016667\n",
              "75%    103700.000000   4497.250000  ...    0.003125      0.500000\n",
              "max    371168.000000  82009.000000  ...    1.000000      1.000000\n",
              "\n",
              "[8 rows x 6 columns]"
            ]
          },
          "metadata": {
            "tags": []
          },
          "execution_count": 26
        }
      ]
    }
  ]
}