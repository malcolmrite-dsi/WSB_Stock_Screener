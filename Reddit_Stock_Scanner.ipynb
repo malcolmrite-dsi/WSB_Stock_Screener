{
  "nbformat": 4,
  "nbformat_minor": 0,
  "metadata": {
    "colab": {
      "name": "Reddit_Stock_Scanner",
      "provenance": [],
      "authorship_tag": "ABX9TyOBqP8Gn4bWkZC4UpMZHuAe",
      "include_colab_link": true
    },
    "kernelspec": {
      "name": "python3",
      "display_name": "Python 3"
    }
  },
  "cells": [
    {
      "cell_type": "markdown",
      "metadata": {
        "id": "view-in-github",
        "colab_type": "text"
      },
      "source": [
        "<a href=\"https://colab.research.google.com/github/malcolmrite-dsi/WSB_Stock_Screener/blob/main/Reddit_Stock_Scanner.ipynb\" target=\"_parent\"><img src=\"https://colab.research.google.com/assets/colab-badge.svg\" alt=\"Open In Colab\"/></a>"
      ]
    },
    {
      "cell_type": "markdown",
      "metadata": {
        "id": "79zGKpM3EPAn"
      },
      "source": [
        "# Importing the Libraries"
      ]
    },
    {
      "cell_type": "code",
      "metadata": {
        "id": "5BPHWTcJEOW3"
      },
      "source": [
        "!pip install praw"
      ],
      "execution_count": null,
      "outputs": []
    },
    {
      "cell_type": "markdown",
      "metadata": {
        "id": "QJ2SJmuvEcg8"
      },
      "source": [
        "Reference: https://www.storybench.org/how-to-scrape-reddit-with-python/\r\n",
        "\r\n",
        "\r\n",
        "\r\n",
        "*   PRAW:  Python Reddit API Wrapper, allows easy access to Reddit Data\r\n",
        "*   Pandas: To handle the data from the scraping in well formatted tables\r\n",
        "*   datetime: To convert the raw date format into an understandable format\r\n",
        "\r\n"
      ]
    },
    {
      "cell_type": "code",
      "metadata": {
        "id": "zgOw55rkCc01"
      },
      "source": [
        "import praw\r\n",
        "import pandas as pd\r\n",
        "import datetime as dt"
      ],
      "execution_count": 2,
      "outputs": []
    },
    {
      "cell_type": "markdown",
      "metadata": {
        "id": "E3Nya-CnJoFY"
      },
      "source": [
        "# Getting the Data from Reddit"
      ]
    },
    {
      "cell_type": "markdown",
      "metadata": {
        "id": "ieVU3QMBLGxX"
      },
      "source": [
        "Function Definitions\r\n",
        "\r\n",
        "\r\n",
        "\r\n",
        "\r\n",
        "\r\n",
        "\r\n",
        "\r\n"
      ]
    },
    {
      "cell_type": "code",
      "metadata": {
        "id": "RjLOBEJaEMeY"
      },
      "source": [
        "def authorise_extractor(twofactorcode):\r\n",
        "    #Initialising the credentials for the API\r\n",
        "    reddit = praw.Reddit(client_id='1h1Pkh53dcBSLA', \\\r\n",
        "                             client_secret='Lm4-BO2A5GpHoYnzEUEMMLOoH1TpIw', \\\r\n",
        "                             user_agent='Reddit_Stock by u/Get_Rich_Bot', \\\r\n",
        "                             username='Get_Rich_Bot', \\\r\n",
        "                             password= f'B+4H-5yww=<QJUV:{twofactorcode}')\r\n",
        "    return reddit\r\n",
        "    \r\n",
        "    \r\n",
        "def test_extractor(self):\r\n",
        "    #Testing if the authorisation worked\r\n",
        "    #For Reference: https://praw.readthedocs.io/en/latest/getting_started/quick_start.html\r\n",
        "    print(self.read_only)\r\n",
        "    \r\n",
        "    # assume you have a reddit instance bound to variable `reddit`\r\n",
        "    #Setting the subreddit to wallstreetbets\r\n",
        "    subreddit = self.subreddit(\"wallstreetbets\")\r\n",
        "    \r\n",
        "    #Validate that the subreddit extractor is working\r\n",
        "    print(subreddit.display_name)\r\n",
        "    print(subreddit.title)\r\n",
        "    print(self.user.me())\r\n",
        "    \r\n",
        "    #Getting example submissions from the subreddit\r\n",
        "    for submission in subreddit.top(limit=15):\r\n",
        "        print(submission.title)  # Output: the submission's title\r\n",
        "        print(submission.score)  # Output: the submission's score\r\n",
        "        print(submission.id)     # Output: the submission's ID\r\n",
        "        print(submission.url)    # Output: the URL the submission points to\r\n",
        "                                # or the submission's URL if it's a self post\r\n",
        "\r\n",
        "#For Reference: https://www.storybench.org/how-to-scrape-reddit-with-python/\r\n",
        "def get_date(created):\r\n",
        "        return dt.datetime.fromtimestamp(created)\r\n",
        "    \r\n",
        "#Returns a dataframe of the top reddit posts from WSB\r\n",
        "def extract_top_data(self, posts):\r\n",
        "    #Setting the subreddit to wallstreetbets\r\n",
        "    subreddit = self.subreddit(\"wallstreetbets\")\r\n",
        "    #Create a dictionary to store the data   \r\n",
        "                                \r\n",
        "    topics_dict = { \"title\":[], \\\r\n",
        "                    \"score\":[], \\\r\n",
        "                    \"id\":[], \\\r\n",
        "                    \"url\":[], \\\r\n",
        "                    \"comms_num\": [], \\\r\n",
        "                    \"created\": [], \\\r\n",
        "                    \"body\":[]}\r\n",
        "    \r\n",
        "    #Extract the top posts with an upper limit defined by the user\r\n",
        "    top_subreddit = subreddit.top(limit=posts)\r\n",
        "    \r\n",
        "    #Extract the relevant data from the subreddit\r\n",
        "    for submission in top_subreddit:\r\n",
        "        topics_dict[\"title\"].append(submission.title)\r\n",
        "        topics_dict[\"score\"].append(submission.score)\r\n",
        "        topics_dict[\"id\"].append(submission.id)\r\n",
        "        topics_dict[\"url\"].append(submission.url)\r\n",
        "        topics_dict[\"comms_num\"].append(submission.num_comments)\r\n",
        "        topics_dict[\"created\"].append(submission.created)\r\n",
        "        topics_dict[\"body\"].append(submission.selftext)\r\n",
        "        \r\n",
        "    topics_data = pd.DataFrame(topics_dict)\r\n",
        "    \r\n",
        "    _timestamp = topics_data[\"created\"].apply(get_date)\r\n",
        "    topics_data = topics_data.assign(timestamp = _timestamp)\r\n",
        "\r\n",
        "    return topics_data"
      ],
      "execution_count": 4,
      "outputs": []
    },
    {
      "cell_type": "markdown",
      "metadata": {
        "id": "tq-dWasw_JDL"
      },
      "source": [
        "## Officially Getting the Data"
      ]
    },
    {
      "cell_type": "code",
      "metadata": {
        "id": "iffIw6WkPknJ",
        "colab": {
          "base_uri": "https://localhost:8080/"
        },
        "outputId": "a7453e53-da57-4c55-f387-62674f10c3f6"
      },
      "source": [
        "reddit = authorise_extractor(\"668891\")\r\n",
        "\r\n",
        "train_data = extract_top_data(reddit, 100)\r\n",
        "\r\n",
        "print(train_data.head())"
      ],
      "execution_count": 7,
      "outputs": [
        {
          "output_type": "stream",
          "text": [
            "It appears that you are using PRAW in an asynchronous environment.\n",
            "It is strongly recommended to use Async PRAW: https://asyncpraw.readthedocs.io.\n",
            "See https://praw.readthedocs.io/en/latest/getting_started/multiple_instances.html#discord-bots-and-asynchronous-environments for more info.\n",
            "\n"
          ],
          "name": "stderr"
        },
        {
          "output_type": "stream",
          "text": [
            "                                               title  ...           timestamp\n",
            "0                             Times Square right now  ... 2021-01-31 02:00:38\n",
            "1             UPVOTE so everyone sees we got SUPPORT  ... 2021-01-28 21:40:34\n",
            "2                      GME YOLO update — Jan 28 2021  ... 2021-01-29 05:06:23\n",
            "3               GME YOLO month-end update — Jan 2021  ... 2021-01-30 05:04:45\n",
            "4  CLASS ACTION AGAINST ROBINHOOD. Allowing peopl...  ... 2021-01-28 21:49:11\n",
            "\n",
            "[5 rows x 8 columns]\n"
          ],
          "name": "stdout"
        }
      ]
    },
    {
      "cell_type": "code",
      "metadata": {
        "id": "8s0uqLv_Pgxe",
        "colab": {
          "base_uri": "https://localhost:8080/",
          "height": 570
        },
        "outputId": "42319a49-73e8-47e3-9536-8bf1e88731b2"
      },
      "source": [
        "train_data"
      ],
      "execution_count": 8,
      "outputs": [
        {
          "output_type": "execute_result",
          "data": {
            "text/html": [
              "<div>\n",
              "<style scoped>\n",
              "    .dataframe tbody tr th:only-of-type {\n",
              "        vertical-align: middle;\n",
              "    }\n",
              "\n",
              "    .dataframe tbody tr th {\n",
              "        vertical-align: top;\n",
              "    }\n",
              "\n",
              "    .dataframe thead th {\n",
              "        text-align: right;\n",
              "    }\n",
              "</style>\n",
              "<table border=\"1\" class=\"dataframe\">\n",
              "  <thead>\n",
              "    <tr style=\"text-align: right;\">\n",
              "      <th></th>\n",
              "      <th>title</th>\n",
              "      <th>score</th>\n",
              "      <th>id</th>\n",
              "      <th>url</th>\n",
              "      <th>comms_num</th>\n",
              "      <th>created</th>\n",
              "      <th>body</th>\n",
              "      <th>timestamp</th>\n",
              "    </tr>\n",
              "  </thead>\n",
              "  <tbody>\n",
              "    <tr>\n",
              "      <th>0</th>\n",
              "      <td>Times Square right now</td>\n",
              "      <td>369934</td>\n",
              "      <td>l8rf4k</td>\n",
              "      <td>https://v.redd.it/x64z70f7eie61</td>\n",
              "      <td>11909</td>\n",
              "      <td>1.612058e+09</td>\n",
              "      <td></td>\n",
              "      <td>2021-01-31 02:00:38</td>\n",
              "    </tr>\n",
              "    <tr>\n",
              "      <th>1</th>\n",
              "      <td>UPVOTE so everyone sees we got SUPPORT</td>\n",
              "      <td>300110</td>\n",
              "      <td>l6wu59</td>\n",
              "      <td>https://i.redd.it/sgoqy8nyt2e61.png</td>\n",
              "      <td>12758</td>\n",
              "      <td>1.611870e+09</td>\n",
              "      <td></td>\n",
              "      <td>2021-01-28 21:40:34</td>\n",
              "    </tr>\n",
              "    <tr>\n",
              "      <th>2</th>\n",
              "      <td>GME YOLO update — Jan 28 2021</td>\n",
              "      <td>268358</td>\n",
              "      <td>l78uct</td>\n",
              "      <td>https://i.redd.it/opzucppb15e61.png</td>\n",
              "      <td>24185</td>\n",
              "      <td>1.611897e+09</td>\n",
              "      <td></td>\n",
              "      <td>2021-01-29 05:06:23</td>\n",
              "    </tr>\n",
              "    <tr>\n",
              "      <th>3</th>\n",
              "      <td>GME YOLO month-end update — Jan 2021</td>\n",
              "      <td>242248</td>\n",
              "      <td>l846a1</td>\n",
              "      <td>https://i.redd.it/r557em3t5ce61.png</td>\n",
              "      <td>21026</td>\n",
              "      <td>1.611983e+09</td>\n",
              "      <td></td>\n",
              "      <td>2021-01-30 05:04:45</td>\n",
              "    </tr>\n",
              "    <tr>\n",
              "      <th>4</th>\n",
              "      <td>CLASS ACTION AGAINST ROBINHOOD. Allowing peopl...</td>\n",
              "      <td>217050</td>\n",
              "      <td>l6x130</td>\n",
              "      <td>https://www.reddit.com/r/wallstreetbets/commen...</td>\n",
              "      <td>18548</td>\n",
              "      <td>1.611871e+09</td>\n",
              "      <td>LEAVE ROBINHOOD. They dont deserve to make mon...</td>\n",
              "      <td>2021-01-28 21:49:11</td>\n",
              "    </tr>\n",
              "    <tr>\n",
              "      <th>...</th>\n",
              "      <td>...</td>\n",
              "      <td>...</td>\n",
              "      <td>...</td>\n",
              "      <td>...</td>\n",
              "      <td>...</td>\n",
              "      <td>...</td>\n",
              "      <td>...</td>\n",
              "      <td>...</td>\n",
              "    </tr>\n",
              "    <tr>\n",
              "      <th>95</th>\n",
              "      <td>Ethan Klein (h3h3 podcast) joins the battle, t...</td>\n",
              "      <td>91332</td>\n",
              "      <td>l7oq0j</td>\n",
              "      <td>https://i.redd.it/l4n7bnp0u8e61.jpg</td>\n",
              "      <td>2084</td>\n",
              "      <td>1.611943e+09</td>\n",
              "      <td></td>\n",
              "      <td>2021-01-29 17:51:16</td>\n",
              "    </tr>\n",
              "    <tr>\n",
              "      <th>96</th>\n",
              "      <td>Spread the word! 💎🤲</td>\n",
              "      <td>90471</td>\n",
              "      <td>l9teai</td>\n",
              "      <td>https://i.redd.it/fk8im2cz9se61.jpg</td>\n",
              "      <td>1143</td>\n",
              "      <td>1.612178e+09</td>\n",
              "      <td></td>\n",
              "      <td>2021-02-01 11:14:44</td>\n",
              "    </tr>\n",
              "    <tr>\n",
              "      <th>97</th>\n",
              "      <td>This money is life changing to me. I could hav...</td>\n",
              "      <td>90286</td>\n",
              "      <td>l81n6g</td>\n",
              "      <td>https://i.redd.it/y1h3rcszobe61.jpg</td>\n",
              "      <td>3420</td>\n",
              "      <td>1.611977e+09</td>\n",
              "      <td></td>\n",
              "      <td>2021-01-30 03:28:26</td>\n",
              "    </tr>\n",
              "    <tr>\n",
              "      <th>98</th>\n",
              "      <td>GME YOLO update — Jan 22 2021</td>\n",
              "      <td>89096</td>\n",
              "      <td>l2x7he</td>\n",
              "      <td>https://i.redd.it/xho46kzt7yc61.png</td>\n",
              "      <td>6419</td>\n",
              "      <td>1.611379e+09</td>\n",
              "      <td></td>\n",
              "      <td>2021-01-23 05:14:08</td>\n",
              "    </tr>\n",
              "    <tr>\n",
              "      <th>99</th>\n",
              "      <td>Lets goooo!!!</td>\n",
              "      <td>88905</td>\n",
              "      <td>lbpzn4</td>\n",
              "      <td>https://i.redd.it/9zhrv49j6af61.jpg</td>\n",
              "      <td>1901</td>\n",
              "      <td>1.612395e+09</td>\n",
              "      <td></td>\n",
              "      <td>2021-02-03 23:27:58</td>\n",
              "    </tr>\n",
              "  </tbody>\n",
              "</table>\n",
              "<p>100 rows × 8 columns</p>\n",
              "</div>"
            ],
            "text/plain": [
              "                                                title  ...           timestamp\n",
              "0                              Times Square right now  ... 2021-01-31 02:00:38\n",
              "1              UPVOTE so everyone sees we got SUPPORT  ... 2021-01-28 21:40:34\n",
              "2                       GME YOLO update — Jan 28 2021  ... 2021-01-29 05:06:23\n",
              "3                GME YOLO month-end update — Jan 2021  ... 2021-01-30 05:04:45\n",
              "4   CLASS ACTION AGAINST ROBINHOOD. Allowing peopl...  ... 2021-01-28 21:49:11\n",
              "..                                                ...  ...                 ...\n",
              "95  Ethan Klein (h3h3 podcast) joins the battle, t...  ... 2021-01-29 17:51:16\n",
              "96                                Spread the word! 💎🤲  ... 2021-02-01 11:14:44\n",
              "97  This money is life changing to me. I could hav...  ... 2021-01-30 03:28:26\n",
              "98                      GME YOLO update — Jan 22 2021  ... 2021-01-23 05:14:08\n",
              "99                                      Lets goooo!!!  ... 2021-02-03 23:27:58\n",
              "\n",
              "[100 rows x 8 columns]"
            ]
          },
          "metadata": {
            "tags": []
          },
          "execution_count": 8
        }
      ]
    },
    {
      "cell_type": "markdown",
      "metadata": {
        "id": "W_CCWxqi_x5z"
      },
      "source": [
        "# Data Analysis"
      ]
    },
    {
      "cell_type": "code",
      "metadata": {
        "colab": {
          "base_uri": "https://localhost:8080/",
          "height": 284
        },
        "id": "DiGEtgu9_jKi",
        "outputId": "b91d2f5f-f69d-44cc-be11-eb06f5079d7f"
      },
      "source": [
        "train_data.describe()"
      ],
      "execution_count": 9,
      "outputs": [
        {
          "output_type": "execute_result",
          "data": {
            "text/html": [
              "<div>\n",
              "<style scoped>\n",
              "    .dataframe tbody tr th:only-of-type {\n",
              "        vertical-align: middle;\n",
              "    }\n",
              "\n",
              "    .dataframe tbody tr th {\n",
              "        vertical-align: top;\n",
              "    }\n",
              "\n",
              "    .dataframe thead th {\n",
              "        text-align: right;\n",
              "    }\n",
              "</style>\n",
              "<table border=\"1\" class=\"dataframe\">\n",
              "  <thead>\n",
              "    <tr style=\"text-align: right;\">\n",
              "      <th></th>\n",
              "      <th>score</th>\n",
              "      <th>comms_num</th>\n",
              "      <th>created</th>\n",
              "    </tr>\n",
              "  </thead>\n",
              "  <tbody>\n",
              "    <tr>\n",
              "      <th>count</th>\n",
              "      <td>100.000000</td>\n",
              "      <td>100.000000</td>\n",
              "      <td>1.000000e+02</td>\n",
              "    </tr>\n",
              "    <tr>\n",
              "      <th>mean</th>\n",
              "      <td>137572.170000</td>\n",
              "      <td>6067.560000</td>\n",
              "      <td>1.612029e+09</td>\n",
              "    </tr>\n",
              "    <tr>\n",
              "      <th>std</th>\n",
              "      <td>47439.379983</td>\n",
              "      <td>5547.002123</td>\n",
              "      <td>2.011020e+05</td>\n",
              "    </tr>\n",
              "    <tr>\n",
              "      <th>min</th>\n",
              "      <td>88905.000000</td>\n",
              "      <td>1048.000000</td>\n",
              "      <td>1.611379e+09</td>\n",
              "    </tr>\n",
              "    <tr>\n",
              "      <th>25%</th>\n",
              "      <td>102869.750000</td>\n",
              "      <td>2645.750000</td>\n",
              "      <td>1.611887e+09</td>\n",
              "    </tr>\n",
              "    <tr>\n",
              "      <th>50%</th>\n",
              "      <td>127069.500000</td>\n",
              "      <td>4594.500000</td>\n",
              "      <td>1.611972e+09</td>\n",
              "    </tr>\n",
              "    <tr>\n",
              "      <th>75%</th>\n",
              "      <td>155310.250000</td>\n",
              "      <td>6703.250000</td>\n",
              "      <td>1.612207e+09</td>\n",
              "    </tr>\n",
              "    <tr>\n",
              "      <th>max</th>\n",
              "      <td>369934.000000</td>\n",
              "      <td>28801.000000</td>\n",
              "      <td>1.612525e+09</td>\n",
              "    </tr>\n",
              "  </tbody>\n",
              "</table>\n",
              "</div>"
            ],
            "text/plain": [
              "               score     comms_num       created\n",
              "count     100.000000    100.000000  1.000000e+02\n",
              "mean   137572.170000   6067.560000  1.612029e+09\n",
              "std     47439.379983   5547.002123  2.011020e+05\n",
              "min     88905.000000   1048.000000  1.611379e+09\n",
              "25%    102869.750000   2645.750000  1.611887e+09\n",
              "50%    127069.500000   4594.500000  1.611972e+09\n",
              "75%    155310.250000   6703.250000  1.612207e+09\n",
              "max    369934.000000  28801.000000  1.612525e+09"
            ]
          },
          "metadata": {
            "tags": []
          },
          "execution_count": 9
        }
      ]
    },
    {
      "cell_type": "code",
      "metadata": {
        "id": "iaEg5rBs_4ae"
      },
      "source": [
        "train_data.describe()"
      ],
      "execution_count": null,
      "outputs": []
    }
  ]
}