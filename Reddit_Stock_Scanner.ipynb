{
  "nbformat": 4,
  "nbformat_minor": 0,
  "metadata": {
    "colab": {
      "name": "Reddit_Stock_Scanner",
      "provenance": [],
      "authorship_tag": "ABX9TyNlWSCvsLYKCb4ZpLgkw2bj",
      "include_colab_link": true
    },
    "kernelspec": {
      "name": "python3",
      "display_name": "Python 3"
    }
  },
  "cells": [
    {
      "cell_type": "markdown",
      "metadata": {
        "id": "view-in-github",
        "colab_type": "text"
      },
      "source": [
        "<a href=\"https://colab.research.google.com/github/malcolmrite-dsi/WSB_Stock_Screener/blob/main/Reddit_Stock_Scanner.ipynb\" target=\"_parent\"><img src=\"https://colab.research.google.com/assets/colab-badge.svg\" alt=\"Open In Colab\"/></a>"
      ]
    },
    {
      "cell_type": "markdown",
      "metadata": {
        "id": "79zGKpM3EPAn"
      },
      "source": [
        "# Importing the Libraries"
      ]
    },
    {
      "cell_type": "code",
      "metadata": {
        "colab": {
          "base_uri": "https://localhost:8080/"
        },
        "id": "5BPHWTcJEOW3",
        "outputId": "98661a35-507c-4b5c-9f2f-66db27ec43f6"
      },
      "source": [
        "!pip install praw"
      ],
      "execution_count": 2,
      "outputs": [
        {
          "output_type": "stream",
          "text": [
            "Collecting praw\n",
            "\u001b[?25l  Downloading https://files.pythonhosted.org/packages/2c/41/2175cfd76b6ad0a8e3c6abc7f09be25337c3b4a2562d4838017a167eff47/praw-7.1.2-py3-none-any.whl (155kB)\n",
            "\r\u001b[K     |██                              | 10kB 16.1MB/s eta 0:00:01\r\u001b[K     |████▏                           | 20kB 20.0MB/s eta 0:00:01\r\u001b[K     |██████▎                         | 30kB 12.6MB/s eta 0:00:01\r\u001b[K     |████████▍                       | 40kB 8.9MB/s eta 0:00:01\r\u001b[K     |██████████▌                     | 51kB 7.7MB/s eta 0:00:01\r\u001b[K     |████████████▋                   | 61kB 8.3MB/s eta 0:00:01\r\u001b[K     |██████████████▊                 | 71kB 8.1MB/s eta 0:00:01\r\u001b[K     |████████████████▉               | 81kB 8.4MB/s eta 0:00:01\r\u001b[K     |███████████████████             | 92kB 7.7MB/s eta 0:00:01\r\u001b[K     |█████████████████████           | 102kB 7.6MB/s eta 0:00:01\r\u001b[K     |███████████████████████▏        | 112kB 7.6MB/s eta 0:00:01\r\u001b[K     |█████████████████████████▎      | 122kB 7.6MB/s eta 0:00:01\r\u001b[K     |███████████████████████████▍    | 133kB 7.6MB/s eta 0:00:01\r\u001b[K     |█████████████████████████████▌  | 143kB 7.6MB/s eta 0:00:01\r\u001b[K     |███████████████████████████████▋| 153kB 7.6MB/s eta 0:00:01\r\u001b[K     |████████████████████████████████| 163kB 7.6MB/s \n",
            "\u001b[?25hCollecting prawcore<2.0,>=1.5.0\n",
            "  Downloading https://files.pythonhosted.org/packages/1d/40/b741437ce4c7b64f928513817b29c0a615efb66ab5e5e01f66fe92d2d95b/prawcore-1.5.0-py3-none-any.whl\n",
            "Collecting websocket-client>=0.54.0\n",
            "\u001b[?25l  Downloading https://files.pythonhosted.org/packages/4c/5f/f61b420143ed1c8dc69f9eaec5ff1ac36109d52c80de49d66e0c36c3dfdf/websocket_client-0.57.0-py2.py3-none-any.whl (200kB)\n",
            "\u001b[K     |████████████████████████████████| 204kB 10.8MB/s \n",
            "\u001b[?25hCollecting update-checker>=0.18\n",
            "  Downloading https://files.pythonhosted.org/packages/0c/ba/8dd7fa5f0b1c6a8ac62f8f57f7e794160c1f86f31c6d0fb00f582372a3e4/update_checker-0.18.0-py3-none-any.whl\n",
            "Requirement already satisfied: requests<3.0,>=2.6.0 in /usr/local/lib/python3.6/dist-packages (from prawcore<2.0,>=1.5.0->praw) (2.23.0)\n",
            "Requirement already satisfied: six in /usr/local/lib/python3.6/dist-packages (from websocket-client>=0.54.0->praw) (1.15.0)\n",
            "Requirement already satisfied: certifi>=2017.4.17 in /usr/local/lib/python3.6/dist-packages (from requests<3.0,>=2.6.0->prawcore<2.0,>=1.5.0->praw) (2020.12.5)\n",
            "Requirement already satisfied: chardet<4,>=3.0.2 in /usr/local/lib/python3.6/dist-packages (from requests<3.0,>=2.6.0->prawcore<2.0,>=1.5.0->praw) (3.0.4)\n",
            "Requirement already satisfied: idna<3,>=2.5 in /usr/local/lib/python3.6/dist-packages (from requests<3.0,>=2.6.0->prawcore<2.0,>=1.5.0->praw) (2.10)\n",
            "Requirement already satisfied: urllib3!=1.25.0,!=1.25.1,<1.26,>=1.21.1 in /usr/local/lib/python3.6/dist-packages (from requests<3.0,>=2.6.0->prawcore<2.0,>=1.5.0->praw) (1.24.3)\n",
            "Installing collected packages: prawcore, websocket-client, update-checker, praw\n",
            "Successfully installed praw-7.1.2 prawcore-1.5.0 update-checker-0.18.0 websocket-client-0.57.0\n"
          ],
          "name": "stdout"
        }
      ]
    },
    {
      "cell_type": "markdown",
      "metadata": {
        "id": "QJ2SJmuvEcg8"
      },
      "source": [
        "Reference: https://www.storybench.org/how-to-scrape-reddit-with-python/\r\n",
        "\r\n",
        "\r\n",
        "\r\n",
        "*   PRAW:  Python Reddit API Wrapper, allows easy access to Reddit Data\r\n",
        "*   Pandas: To handle the data from the scraping in well formatted tables\r\n",
        "*   datetime: To convert the raw date format into an understandable format\r\n",
        "\r\n"
      ]
    },
    {
      "cell_type": "code",
      "metadata": {
        "id": "zgOw55rkCc01"
      },
      "source": [
        "import praw\r\n",
        "import pandas as pd\r\n",
        "import datetime as dt"
      ],
      "execution_count": 3,
      "outputs": []
    },
    {
      "cell_type": "code",
      "metadata": {
        "id": "RjLOBEJaEMeY"
      },
      "source": [
        ""
      ],
      "execution_count": null,
      "outputs": []
    }
  ]
}