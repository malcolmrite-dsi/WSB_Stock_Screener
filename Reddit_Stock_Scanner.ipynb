{
  "nbformat": 4,
  "nbformat_minor": 0,
  "metadata": {
    "colab": {
      "name": "Reddit_Stock_Scanner",
      "provenance": [],
      "collapsed_sections": [
        "5g1kg2uVt_c0"
      ],
      "authorship_tag": "ABX9TyODXsy6zDJQW/zx/SYSuw2c",
      "include_colab_link": true
    },
    "kernelspec": {
      "name": "python3",
      "display_name": "Python 3"
    }
  },
  "cells": [
    {
      "cell_type": "markdown",
      "metadata": {
        "id": "view-in-github",
        "colab_type": "text"
      },
      "source": [
        "<a href=\"https://colab.research.google.com/github/malcolmrite-dsi/WSB_Stock_Screener/blob/main/Reddit_Stock_Scanner.ipynb\" target=\"_parent\"><img src=\"https://colab.research.google.com/assets/colab-badge.svg\" alt=\"Open In Colab\"/></a>"
      ]
    },
    {
      "cell_type": "markdown",
      "metadata": {
        "id": "79zGKpM3EPAn"
      },
      "source": [
        "# Importing the Libraries"
      ]
    },
    {
      "cell_type": "code",
      "metadata": {
        "colab": {
          "base_uri": "https://localhost:8080/"
        },
        "id": "5BPHWTcJEOW3",
        "outputId": "0224b24b-ac77-4ece-c7e2-ddbde82947f5"
      },
      "source": [
        "!pip install praw"
      ],
      "execution_count": 105,
      "outputs": [
        {
          "output_type": "stream",
          "text": [
            "Requirement already satisfied: praw in /usr/local/lib/python3.6/dist-packages (7.1.3)\n",
            "Requirement already satisfied: prawcore<2.0,>=1.5.0 in /usr/local/lib/python3.6/dist-packages (from praw) (1.5.0)\n",
            "Requirement already satisfied: websocket-client>=0.54.0 in /usr/local/lib/python3.6/dist-packages (from praw) (0.57.0)\n",
            "Requirement already satisfied: update-checker>=0.18 in /usr/local/lib/python3.6/dist-packages (from praw) (0.18.0)\n",
            "Requirement already satisfied: requests<3.0,>=2.6.0 in /usr/local/lib/python3.6/dist-packages (from prawcore<2.0,>=1.5.0->praw) (2.23.0)\n",
            "Requirement already satisfied: six in /usr/local/lib/python3.6/dist-packages (from websocket-client>=0.54.0->praw) (1.15.0)\n",
            "Requirement already satisfied: idna<3,>=2.5 in /usr/local/lib/python3.6/dist-packages (from requests<3.0,>=2.6.0->prawcore<2.0,>=1.5.0->praw) (2.10)\n",
            "Requirement already satisfied: chardet<4,>=3.0.2 in /usr/local/lib/python3.6/dist-packages (from requests<3.0,>=2.6.0->prawcore<2.0,>=1.5.0->praw) (3.0.4)\n",
            "Requirement already satisfied: certifi>=2017.4.17 in /usr/local/lib/python3.6/dist-packages (from requests<3.0,>=2.6.0->prawcore<2.0,>=1.5.0->praw) (2020.12.5)\n",
            "Requirement already satisfied: urllib3!=1.25.0,!=1.25.1,<1.26,>=1.21.1 in /usr/local/lib/python3.6/dist-packages (from requests<3.0,>=2.6.0->prawcore<2.0,>=1.5.0->praw) (1.24.3)\n"
          ],
          "name": "stdout"
        }
      ]
    },
    {
      "cell_type": "markdown",
      "metadata": {
        "id": "QJ2SJmuvEcg8"
      },
      "source": [
        "Reference: https://www.storybench.org/how-to-scrape-reddit-with-python/\r\n",
        "\r\n",
        "\r\n",
        "\r\n",
        "*   PRAW:  Python Reddit API Wrapper, allows easy access to Reddit Data\r\n",
        "*   Pandas: To handle the data from the scraping in well formatted tables\r\n",
        "*   datetime: To convert the raw date format into an understandable format\r\n",
        "\r\n"
      ]
    },
    {
      "cell_type": "code",
      "metadata": {
        "id": "zgOw55rkCc01"
      },
      "source": [
        "import praw\r\n",
        "import pandas as pd\r\n",
        "import datetime as dt\r\n",
        "import matplotlib.pyplot as plt\r\n"
      ],
      "execution_count": 106,
      "outputs": []
    },
    {
      "cell_type": "markdown",
      "metadata": {
        "id": "E3Nya-CnJoFY"
      },
      "source": [
        "# Getting the Data from Reddit"
      ]
    },
    {
      "cell_type": "markdown",
      "metadata": {
        "id": "ieVU3QMBLGxX"
      },
      "source": [
        "Function Definitions\r\n",
        "\r\n",
        "\r\n",
        "\r\n",
        "\r\n",
        "\r\n",
        "\r\n",
        "\r\n"
      ]
    },
    {
      "cell_type": "code",
      "metadata": {
        "id": "RjLOBEJaEMeY"
      },
      "source": [
        "def authorise_extractor(twofactorcode):\r\n",
        "    #Initialising the credentials for the API\r\n",
        "    reddit = praw.Reddit(client_id='1h1Pkh53dcBSLA', \\\r\n",
        "                             client_secret='Lm4-BO2A5GpHoYnzEUEMMLOoH1TpIw', \\\r\n",
        "                             user_agent='Reddit_Stock by u/Get_Rich_Bot', \\\r\n",
        "                             username='Get_Rich_Bot', \\\r\n",
        "                             password= f'B+4H-5yww=<QJUV:{twofactorcode}')\r\n",
        "    return reddit\r\n",
        "    \r\n",
        "    \r\n",
        "def test_extractor(self):\r\n",
        "    #Testing if the authorisation worked\r\n",
        "    #For Reference: https://praw.readthedocs.io/en/latest/getting_started/quick_start.html\r\n",
        "    print(self.read_only)\r\n",
        "    \r\n",
        "    # assume you have a reddit instance bound to variable `reddit`\r\n",
        "    #Setting the subreddit to wallstreetbets\r\n",
        "    subreddit = self.subreddit(\"wallstreetbets\")\r\n",
        "    \r\n",
        "    #Validate that the subreddit extractor is working\r\n",
        "    print(subreddit.display_name)\r\n",
        "    print(subreddit.title)\r\n",
        "    print(self.user.me())\r\n",
        "    \r\n",
        "    #Getting example submissions from the subreddit\r\n",
        "    for submission in subreddit.top(limit=15):\r\n",
        "        print(submission.title)  # Output: the submission's title\r\n",
        "        print(submission.score)  # Output: the submission's score\r\n",
        "        print(submission.id)     # Output: the submission's ID\r\n",
        "        print(submission.url)    # Output: the URL the submission points to\r\n",
        "                                # or the submission's URL if it's a self post\r\n",
        "\r\n",
        "#For Reference: https://www.storybench.org/how-to-scrape-reddit-with-python/\r\n",
        "def get_date(created):\r\n",
        "        return dt.datetime.fromtimestamp(created)\r\n",
        "    \r\n",
        "#Returns a dataframe of the top reddit posts from WSB\r\n",
        "def extract_top_data(self,type, posts):\r\n",
        "    #Setting the subreddit to wallstreetbets\r\n",
        "    subreddit = self.subreddit(\"wallstreetbets\")\r\n",
        "    #Create a dictionary to store the data   \r\n",
        "                                \r\n",
        "    topics_dict = { \"title\":[], \\\r\n",
        "                    \"score\":[], \\\r\n",
        "                    \"id\":[], \\\r\n",
        "                    \"url\":[], \\\r\n",
        "                    \"comms_num\": [], \\\r\n",
        "                    \"created\": []}\r\n",
        "    \r\n",
        "    if type == \"top\":\r\n",
        "      #Extract the top posts with an upper limit defined by the user\r\n",
        "      top_subreddit = subreddit.top(limit=posts)\r\n",
        "    elif type == \"hot\":\r\n",
        "      top_subreddit = subreddit.hot(limit=posts)\r\n",
        "    elif type == \"new\":\r\n",
        "      top_subreddit = subreddit.new(limit=posts)\r\n",
        "    else:\r\n",
        "      top_subreddit = subreddit.rising(limit=posts)\r\n",
        "\r\n",
        "    \r\n",
        "    #Extract the relevant data from the subreddit\r\n",
        "    for submission in top_subreddit:\r\n",
        "        topics_dict[\"title\"].append(submission.title)\r\n",
        "        topics_dict[\"score\"].append(submission.score)\r\n",
        "        topics_dict[\"id\"].append(submission.id)\r\n",
        "        topics_dict[\"url\"].append(submission.url)\r\n",
        "        topics_dict[\"comms_num\"].append(submission.num_comments)\r\n",
        "        topics_dict[\"created\"].append(submission.created)\r\n",
        "        \r\n",
        "        \r\n",
        "    topics_data = pd.DataFrame(topics_dict)\r\n",
        "    \r\n",
        "    _timestamp = topics_data[\"created\"].apply(get_date)\r\n",
        "    topics_data = topics_data.assign(timestamp = _timestamp)\r\n",
        "\r\n",
        "    return topics_data"
      ],
      "execution_count": 107,
      "outputs": []
    },
    {
      "cell_type": "markdown",
      "metadata": {
        "id": "tq-dWasw_JDL"
      },
      "source": [
        "## Officially Getting the Data"
      ]
    },
    {
      "cell_type": "code",
      "metadata": {
        "id": "iffIw6WkPknJ",
        "colab": {
          "base_uri": "https://localhost:8080/"
        },
        "outputId": "b1ace9c0-e56f-407f-854d-7dabe6c55047"
      },
      "source": [
        "reddit = authorise_extractor(\"852856\")\r\n",
        "\r\n",
        "train_data = extract_top_data(reddit, \"top\" ,100)\r\n",
        "\r\n",
        "print(train_data.head())"
      ],
      "execution_count": 108,
      "outputs": [
        {
          "output_type": "stream",
          "text": [
            "It appears that you are using PRAW in an asynchronous environment.\n",
            "It is strongly recommended to use Async PRAW: https://asyncpraw.readthedocs.io.\n",
            "See https://praw.readthedocs.io/en/latest/getting_started/multiple_instances.html#discord-bots-and-asynchronous-environments for more info.\n",
            "\n"
          ],
          "name": "stderr"
        },
        {
          "output_type": "stream",
          "text": [
            "                                               title  ...           timestamp\n",
            "0                             Times Square right now  ... 2021-01-31 02:00:38\n",
            "1             UPVOTE so everyone sees we got SUPPORT  ... 2021-01-28 21:40:34\n",
            "2                      GME YOLO update — Jan 28 2021  ... 2021-01-29 05:06:23\n",
            "3               GME YOLO month-end update — Jan 2021  ... 2021-01-30 05:04:45\n",
            "4  CLASS ACTION AGAINST ROBINHOOD. Allowing peopl...  ... 2021-01-28 21:49:11\n",
            "\n",
            "[5 rows x 7 columns]\n"
          ],
          "name": "stdout"
        }
      ]
    },
    {
      "cell_type": "code",
      "metadata": {
        "id": "8s0uqLv_Pgxe",
        "colab": {
          "base_uri": "https://localhost:8080/",
          "height": 424
        },
        "outputId": "ea43b2db-854b-4a2f-f4d6-73d469438c19"
      },
      "source": [
        "train_data"
      ],
      "execution_count": 109,
      "outputs": [
        {
          "output_type": "execute_result",
          "data": {
            "text/html": [
              "<div>\n",
              "<style scoped>\n",
              "    .dataframe tbody tr th:only-of-type {\n",
              "        vertical-align: middle;\n",
              "    }\n",
              "\n",
              "    .dataframe tbody tr th {\n",
              "        vertical-align: top;\n",
              "    }\n",
              "\n",
              "    .dataframe thead th {\n",
              "        text-align: right;\n",
              "    }\n",
              "</style>\n",
              "<table border=\"1\" class=\"dataframe\">\n",
              "  <thead>\n",
              "    <tr style=\"text-align: right;\">\n",
              "      <th></th>\n",
              "      <th>title</th>\n",
              "      <th>score</th>\n",
              "      <th>id</th>\n",
              "      <th>url</th>\n",
              "      <th>comms_num</th>\n",
              "      <th>created</th>\n",
              "      <th>timestamp</th>\n",
              "    </tr>\n",
              "  </thead>\n",
              "  <tbody>\n",
              "    <tr>\n",
              "      <th>0</th>\n",
              "      <td>Times Square right now</td>\n",
              "      <td>371538</td>\n",
              "      <td>l8rf4k</td>\n",
              "      <td>https://v.redd.it/x64z70f7eie61</td>\n",
              "      <td>11947</td>\n",
              "      <td>1.612058e+09</td>\n",
              "      <td>2021-01-31 02:00:38</td>\n",
              "    </tr>\n",
              "    <tr>\n",
              "      <th>1</th>\n",
              "      <td>UPVOTE so everyone sees we got SUPPORT</td>\n",
              "      <td>300712</td>\n",
              "      <td>l6wu59</td>\n",
              "      <td>https://i.redd.it/sgoqy8nyt2e61.png</td>\n",
              "      <td>12766</td>\n",
              "      <td>1.611870e+09</td>\n",
              "      <td>2021-01-28 21:40:34</td>\n",
              "    </tr>\n",
              "    <tr>\n",
              "      <th>2</th>\n",
              "      <td>GME YOLO update — Jan 28 2021</td>\n",
              "      <td>268647</td>\n",
              "      <td>l78uct</td>\n",
              "      <td>https://i.redd.it/opzucppb15e61.png</td>\n",
              "      <td>24160</td>\n",
              "      <td>1.611897e+09</td>\n",
              "      <td>2021-01-29 05:06:23</td>\n",
              "    </tr>\n",
              "    <tr>\n",
              "      <th>3</th>\n",
              "      <td>GME YOLO month-end update — Jan 2021</td>\n",
              "      <td>242543</td>\n",
              "      <td>l846a1</td>\n",
              "      <td>https://i.redd.it/r557em3t5ce61.png</td>\n",
              "      <td>20996</td>\n",
              "      <td>1.611983e+09</td>\n",
              "      <td>2021-01-30 05:04:45</td>\n",
              "    </tr>\n",
              "    <tr>\n",
              "      <th>4</th>\n",
              "      <td>CLASS ACTION AGAINST ROBINHOOD. Allowing peopl...</td>\n",
              "      <td>217269</td>\n",
              "      <td>l6x130</td>\n",
              "      <td>https://www.reddit.com/r/wallstreetbets/commen...</td>\n",
              "      <td>18540</td>\n",
              "      <td>1.611871e+09</td>\n",
              "      <td>2021-01-28 21:49:11</td>\n",
              "    </tr>\n",
              "    <tr>\n",
              "      <th>...</th>\n",
              "      <td>...</td>\n",
              "      <td>...</td>\n",
              "      <td>...</td>\n",
              "      <td>...</td>\n",
              "      <td>...</td>\n",
              "      <td>...</td>\n",
              "      <td>...</td>\n",
              "    </tr>\n",
              "    <tr>\n",
              "      <th>95</th>\n",
              "      <td>CITADEL IS THE 5TH LARGEST OWNER OF SLV, IT'S ...</td>\n",
              "      <td>92727</td>\n",
              "      <td>l9gv98</td>\n",
              "      <td>https://i.redd.it/iltzmggybpe61.jpg</td>\n",
              "      <td>9512</td>\n",
              "      <td>1.612142e+09</td>\n",
              "      <td>2021-02-01 01:20:18</td>\n",
              "    </tr>\n",
              "    <tr>\n",
              "      <th>96</th>\n",
              "      <td>Together no one can stop us !!!</td>\n",
              "      <td>91865</td>\n",
              "      <td>lbd21v</td>\n",
              "      <td>https://i.redd.it/3224ybp596f61.jpg</td>\n",
              "      <td>2275</td>\n",
              "      <td>1.612347e+09</td>\n",
              "      <td>2021-02-03 10:14:54</td>\n",
              "    </tr>\n",
              "    <tr>\n",
              "      <th>97</th>\n",
              "      <td>Ethan Klein (h3h3 podcast) joins the battle, t...</td>\n",
              "      <td>91336</td>\n",
              "      <td>l7oq0j</td>\n",
              "      <td>https://i.redd.it/l4n7bnp0u8e61.jpg</td>\n",
              "      <td>2082</td>\n",
              "      <td>1.611943e+09</td>\n",
              "      <td>2021-01-29 17:51:16</td>\n",
              "    </tr>\n",
              "    <tr>\n",
              "      <th>98</th>\n",
              "      <td>Spread the word! 💎🤲</td>\n",
              "      <td>90508</td>\n",
              "      <td>l9teai</td>\n",
              "      <td>https://i.redd.it/fk8im2cz9se61.jpg</td>\n",
              "      <td>1143</td>\n",
              "      <td>1.612178e+09</td>\n",
              "      <td>2021-02-01 11:14:44</td>\n",
              "    </tr>\n",
              "    <tr>\n",
              "      <th>99</th>\n",
              "      <td>This money is life changing to me. I could hav...</td>\n",
              "      <td>90304</td>\n",
              "      <td>l81n6g</td>\n",
              "      <td>https://i.redd.it/y1h3rcszobe61.jpg</td>\n",
              "      <td>3419</td>\n",
              "      <td>1.611977e+09</td>\n",
              "      <td>2021-01-30 03:28:26</td>\n",
              "    </tr>\n",
              "  </tbody>\n",
              "</table>\n",
              "<p>100 rows × 7 columns</p>\n",
              "</div>"
            ],
            "text/plain": [
              "                                                title  ...           timestamp\n",
              "0                              Times Square right now  ... 2021-01-31 02:00:38\n",
              "1              UPVOTE so everyone sees we got SUPPORT  ... 2021-01-28 21:40:34\n",
              "2                       GME YOLO update — Jan 28 2021  ... 2021-01-29 05:06:23\n",
              "3                GME YOLO month-end update — Jan 2021  ... 2021-01-30 05:04:45\n",
              "4   CLASS ACTION AGAINST ROBINHOOD. Allowing peopl...  ... 2021-01-28 21:49:11\n",
              "..                                                ...  ...                 ...\n",
              "95  CITADEL IS THE 5TH LARGEST OWNER OF SLV, IT'S ...  ... 2021-02-01 01:20:18\n",
              "96                    Together no one can stop us !!!  ... 2021-02-03 10:14:54\n",
              "97  Ethan Klein (h3h3 podcast) joins the battle, t...  ... 2021-01-29 17:51:16\n",
              "98                                Spread the word! 💎🤲  ... 2021-02-01 11:14:44\n",
              "99  This money is life changing to me. I could hav...  ... 2021-01-30 03:28:26\n",
              "\n",
              "[100 rows x 7 columns]"
            ]
          },
          "metadata": {
            "tags": []
          },
          "execution_count": 109
        }
      ]
    },
    {
      "cell_type": "markdown",
      "metadata": {
        "id": "W_CCWxqi_x5z"
      },
      "source": [
        "# Exploratory Data Analysis"
      ]
    },
    {
      "cell_type": "code",
      "metadata": {
        "colab": {
          "base_uri": "https://localhost:8080/",
          "height": 300
        },
        "id": "DiGEtgu9_jKi",
        "outputId": "5687a878-cacd-468b-edeb-79eaafc75cfc"
      },
      "source": [
        "train_data.describe()"
      ],
      "execution_count": 110,
      "outputs": [
        {
          "output_type": "execute_result",
          "data": {
            "text/html": [
              "<div>\n",
              "<style scoped>\n",
              "    .dataframe tbody tr th:only-of-type {\n",
              "        vertical-align: middle;\n",
              "    }\n",
              "\n",
              "    .dataframe tbody tr th {\n",
              "        vertical-align: top;\n",
              "    }\n",
              "\n",
              "    .dataframe thead th {\n",
              "        text-align: right;\n",
              "    }\n",
              "</style>\n",
              "<table border=\"1\" class=\"dataframe\">\n",
              "  <thead>\n",
              "    <tr style=\"text-align: right;\">\n",
              "      <th></th>\n",
              "      <th>score</th>\n",
              "      <th>comms_num</th>\n",
              "      <th>created</th>\n",
              "    </tr>\n",
              "  </thead>\n",
              "  <tbody>\n",
              "    <tr>\n",
              "      <th>count</th>\n",
              "      <td>100.000000</td>\n",
              "      <td>100.000000</td>\n",
              "      <td>1.000000e+02</td>\n",
              "    </tr>\n",
              "    <tr>\n",
              "      <th>mean</th>\n",
              "      <td>138216.500000</td>\n",
              "      <td>6021.820000</td>\n",
              "      <td>1.612043e+09</td>\n",
              "    </tr>\n",
              "    <tr>\n",
              "      <th>std</th>\n",
              "      <td>47182.626823</td>\n",
              "      <td>5556.783566</td>\n",
              "      <td>2.028015e+05</td>\n",
              "    </tr>\n",
              "    <tr>\n",
              "      <th>min</th>\n",
              "      <td>90304.000000</td>\n",
              "      <td>1045.000000</td>\n",
              "      <td>1.611724e+09</td>\n",
              "    </tr>\n",
              "    <tr>\n",
              "      <th>25%</th>\n",
              "      <td>105634.500000</td>\n",
              "      <td>2642.000000</td>\n",
              "      <td>1.611888e+09</td>\n",
              "    </tr>\n",
              "    <tr>\n",
              "      <th>50%</th>\n",
              "      <td>127176.500000</td>\n",
              "      <td>4368.500000</td>\n",
              "      <td>1.611975e+09</td>\n",
              "    </tr>\n",
              "    <tr>\n",
              "      <th>75%</th>\n",
              "      <td>155511.500000</td>\n",
              "      <td>6706.750000</td>\n",
              "      <td>1.612218e+09</td>\n",
              "    </tr>\n",
              "    <tr>\n",
              "      <th>max</th>\n",
              "      <td>371538.000000</td>\n",
              "      <td>28754.000000</td>\n",
              "      <td>1.612607e+09</td>\n",
              "    </tr>\n",
              "  </tbody>\n",
              "</table>\n",
              "</div>"
            ],
            "text/plain": [
              "               score     comms_num       created\n",
              "count     100.000000    100.000000  1.000000e+02\n",
              "mean   138216.500000   6021.820000  1.612043e+09\n",
              "std     47182.626823   5556.783566  2.028015e+05\n",
              "min     90304.000000   1045.000000  1.611724e+09\n",
              "25%    105634.500000   2642.000000  1.611888e+09\n",
              "50%    127176.500000   4368.500000  1.611975e+09\n",
              "75%    155511.500000   6706.750000  1.612218e+09\n",
              "max    371538.000000  28754.000000  1.612607e+09"
            ]
          },
          "metadata": {
            "tags": []
          },
          "execution_count": 110
        }
      ]
    },
    {
      "cell_type": "code",
      "metadata": {
        "colab": {
          "base_uri": "https://localhost:8080/"
        },
        "id": "iaEg5rBs_4ae",
        "outputId": "79b4c227-0b2a-420d-d5f3-b38dc3618308"
      },
      "source": [
        "train_data.dtypes"
      ],
      "execution_count": 111,
      "outputs": [
        {
          "output_type": "execute_result",
          "data": {
            "text/plain": [
              "title                object\n",
              "score                 int64\n",
              "id                   object\n",
              "url                  object\n",
              "comms_num             int64\n",
              "created             float64\n",
              "timestamp    datetime64[ns]\n",
              "dtype: object"
            ]
          },
          "metadata": {
            "tags": []
          },
          "execution_count": 111
        }
      ]
    },
    {
      "cell_type": "code",
      "metadata": {
        "colab": {
          "base_uri": "https://localhost:8080/",
          "height": 537
        },
        "id": "DJtX3gFVEWe2",
        "outputId": "7aa10182-7c6b-4cb7-df3c-2fb066ac83da"
      },
      "source": [
        "plt.figure(figsize=(9,9), edgecolor= \"black\")\r\n",
        "plt.scatter(train_data.timestamp, train_data.score)\r\n",
        "plt.show()"
      ],
      "execution_count": 112,
      "outputs": [
        {
          "output_type": "display_data",
          "data": {
            "image/png": "[encoded data removed]",
            "text/plain": [
              "<Figure size 648x648 with 1 Axes>"
            ]
          },
          "metadata": {
            "tags": [],
            "needs_background": "light"
          }
        }
      ]
    },
    {
      "cell_type": "markdown",
      "metadata": {
        "id": "hIjPXsPTJa4e"
      },
      "source": [
        "# Text Extraction"
      ]
    },
    {
      "cell_type": "code",
      "metadata": {
        "colab": {
          "base_uri": "https://localhost:8080/"
        },
        "id": "exeQDnpaU9SO",
        "outputId": "92c851fc-28f4-4cfc-8564-0717eb99cf52"
      },
      "source": [
        "!pip install yfinance"
      ],
      "execution_count": 113,
      "outputs": [
        {
          "output_type": "stream",
          "text": [
            "Requirement already satisfied: yfinance in /usr/local/lib/python3.6/dist-packages (0.1.55)\n",
            "Requirement already satisfied: multitasking>=0.0.7 in /usr/local/lib/python3.6/dist-packages (from yfinance) (0.0.9)\n",
            "Requirement already satisfied: requests>=2.20 in /usr/local/lib/python3.6/dist-packages (from yfinance) (2.23.0)\n",
            "Requirement already satisfied: pandas>=0.24 in /usr/local/lib/python3.6/dist-packages (from yfinance) (1.1.5)\n",
            "Requirement already satisfied: lxml>=4.5.1 in /usr/local/lib/python3.6/dist-packages (from yfinance) (4.6.2)\n",
            "Requirement already satisfied: numpy>=1.15 in /usr/local/lib/python3.6/dist-packages (from yfinance) (1.19.5)\n",
            "Requirement already satisfied: certifi>=2017.4.17 in /usr/local/lib/python3.6/dist-packages (from requests>=2.20->yfinance) (2020.12.5)\n",
            "Requirement already satisfied: chardet<4,>=3.0.2 in /usr/local/lib/python3.6/dist-packages (from requests>=2.20->yfinance) (3.0.4)\n",
            "Requirement already satisfied: urllib3!=1.25.0,!=1.25.1,<1.26,>=1.21.1 in /usr/local/lib/python3.6/dist-packages (from requests>=2.20->yfinance) (1.24.3)\n",
            "Requirement already satisfied: idna<3,>=2.5 in /usr/local/lib/python3.6/dist-packages (from requests>=2.20->yfinance) (2.10)\n",
            "Requirement already satisfied: python-dateutil>=2.7.3 in /usr/local/lib/python3.6/dist-packages (from pandas>=0.24->yfinance) (2.8.1)\n",
            "Requirement already satisfied: pytz>=2017.2 in /usr/local/lib/python3.6/dist-packages (from pandas>=0.24->yfinance) (2018.9)\n",
            "Requirement already satisfied: six>=1.5 in /usr/local/lib/python3.6/dist-packages (from python-dateutil>=2.7.3->pandas>=0.24->yfinance) (1.15.0)\n"
          ],
          "name": "stdout"
        }
      ]
    },
    {
      "cell_type": "markdown",
      "metadata": {
        "id": "3pDcRrj7Jmhr"
      },
      "source": [
        "## Importing Text Blob: https://textblob.readthedocs.io/en/dev/quickstart.html"
      ]
    },
    {
      "cell_type": "code",
      "metadata": {
        "id": "HyGX2JajEtyU"
      },
      "source": [
        "from textblob import TextBlob\r\n",
        "import nltk\r\n",
        "from pandas_datareader import data\r\n",
        "import yfinance"
      ],
      "execution_count": 114,
      "outputs": []
    },
    {
      "cell_type": "code",
      "metadata": {
        "colab": {
          "base_uri": "https://localhost:8080/"
        },
        "id": "j7SKJQq0MtEU",
        "outputId": "1ff66e0e-7e2c-48f6-c735-2bc3825c70b1"
      },
      "source": [
        "nltk.download('punkt')\r\n",
        "nltk.download('averaged_perceptron_tagger')\r\n",
        "nltk.download('brown')"
      ],
      "execution_count": 115,
      "outputs": [
        {
          "output_type": "stream",
          "text": [
            "[nltk_data] Downloading package punkt to /root/nltk_data...\n",
            "[nltk_data]   Package punkt is already up-to-date!\n",
            "[nltk_data] Downloading package averaged_perceptron_tagger to\n",
            "[nltk_data]     /root/nltk_data...\n",
            "[nltk_data]   Package averaged_perceptron_tagger is already up-to-\n",
            "[nltk_data]       date!\n",
            "[nltk_data] Downloading package brown to /root/nltk_data...\n",
            "[nltk_data]   Package brown is already up-to-date!\n"
          ],
          "name": "stdout"
        },
        {
          "output_type": "execute_result",
          "data": {
            "text/plain": [
              "True"
            ]
          },
          "metadata": {
            "tags": []
          },
          "execution_count": 115
        }
      ]
    },
    {
      "cell_type": "markdown",
      "metadata": {
        "id": "rnu0ryEcMv2h"
      },
      "source": [
        "## Function Declarations"
      ]
    },
    {
      "cell_type": "code",
      "metadata": {
        "id": "DG5pyZL5KmhW"
      },
      "source": [
        "def get_keyword_length(keywords):\r\n",
        "  return len(keywords)\r\n",
        "\r\n",
        "def get_keywords(title):\r\n",
        "  header = TextBlob(title)\r\n",
        "  return header.noun_phrases\r\n",
        "\r\n",
        "def get_subjectivity(title):\r\n",
        "  header = TextBlob(title)\r\n",
        "  sentiment = header.sentiment.subjectivity\r\n",
        "  return sentiment\r\n",
        "\r\n",
        "def get_stock_name(title):\r\n",
        "  header = TextBlob(title)\r\n",
        "  for word in header.words:\r\n",
        "    try:\r\n",
        "      data = yfinance.Ticker(noun)\r\n",
        "      stock = data.info[\"symbol\"]\r\n",
        "      break\r\n",
        "\r\n",
        "    except:\r\n",
        "      stock = \"NA\" \r\n",
        "  \r\n",
        "  return stock\r\n",
        "\r\n",
        "def get_sentiment(title):\r\n",
        "  header = TextBlob(title)\r\n",
        "  sentiment = header.sentiment.polarity\r\n",
        "  return sentiment"
      ],
      "execution_count": 116,
      "outputs": []
    },
    {
      "cell_type": "markdown",
      "metadata": {
        "id": "s6IHX8X9M0Ys"
      },
      "source": [
        "## EDA"
      ]
    },
    {
      "cell_type": "code",
      "metadata": {
        "id": "L-vLkiJuKf93"
      },
      "source": [
        "header = TextBlob(train_data.iloc[3,0])"
      ],
      "execution_count": 117,
      "outputs": []
    },
    {
      "cell_type": "code",
      "metadata": {
        "colab": {
          "base_uri": "https://localhost:8080/"
        },
        "id": "3tHsxQPMMVj-",
        "outputId": "1de79b09-9c74-4dd0-bfd9-be5707ebab9d"
      },
      "source": [
        "header.noun_phrases"
      ],
      "execution_count": 118,
      "outputs": [
        {
          "output_type": "execute_result",
          "data": {
            "text/plain": [
              "WordList(['gme yolo', 'month-end update —', 'jan'])"
            ]
          },
          "metadata": {
            "tags": []
          },
          "execution_count": 118
        }
      ]
    },
    {
      "cell_type": "code",
      "metadata": {
        "colab": {
          "base_uri": "https://localhost:8080/"
        },
        "id": "_F9tWaNNMkfa",
        "outputId": "2f05345d-822e-46c7-91d1-21839f168a07"
      },
      "source": [
        "for sentence in header.sentences:\r\n",
        "    print(sentence.sentiment)"
      ],
      "execution_count": 119,
      "outputs": [
        {
          "output_type": "stream",
          "text": [
            "Sentiment(polarity=0.0, subjectivity=0.0)\n"
          ],
          "name": "stdout"
        }
      ]
    },
    {
      "cell_type": "code",
      "metadata": {
        "colab": {
          "base_uri": "https://localhost:8080/"
        },
        "id": "LgeD_zvFLKO1",
        "outputId": "29b929c8-02ed-4fc4-cbf7-f0dedaa1659a"
      },
      "source": [
        "for noun in header.words:\r\n",
        "    print(noun)"
      ],
      "execution_count": 120,
      "outputs": [
        {
          "output_type": "stream",
          "text": [
            "GME\n",
            "YOLO\n",
            "month-end\n",
            "update\n",
            "—\n",
            "Jan\n",
            "2021\n"
          ],
          "name": "stdout"
        }
      ]
    },
    {
      "cell_type": "markdown",
      "metadata": {
        "id": "24A_ky5IXWaT"
      },
      "source": [
        "For Reference: pypi.org/project/yfinance/"
      ]
    },
    {
      "cell_type": "markdown",
      "metadata": {
        "id": "TaromF6qcOLN"
      },
      "source": [
        "## Feature Engineering"
      ]
    },
    {
      "cell_type": "markdown",
      "metadata": {
        "id": "OXqcTaVwAnZC"
      },
      "source": [
        "Get the key words (Noun Phrases) from the submission title"
      ]
    },
    {
      "cell_type": "code",
      "metadata": {
        "colab": {
          "base_uri": "https://localhost:8080/",
          "height": 293
        },
        "id": "EzDPQH7x48YT",
        "outputId": "9479b5df-223d-4069-ff7d-ad2ea8169129"
      },
      "source": [
        "_keywords = train_data[\"title\"].apply(get_keywords)\r\n",
        "train_data = train_data.assign(keywords = _keywords)\r\n",
        "\r\n",
        "train_data.head()"
      ],
      "execution_count": 121,
      "outputs": [
        {
          "output_type": "execute_result",
          "data": {
            "text/html": [
              "<div>\n",
              "<style scoped>\n",
              "    .dataframe tbody tr th:only-of-type {\n",
              "        vertical-align: middle;\n",
              "    }\n",
              "\n",
              "    .dataframe tbody tr th {\n",
              "        vertical-align: top;\n",
              "    }\n",
              "\n",
              "    .dataframe thead th {\n",
              "        text-align: right;\n",
              "    }\n",
              "</style>\n",
              "<table border=\"1\" class=\"dataframe\">\n",
              "  <thead>\n",
              "    <tr style=\"text-align: right;\">\n",
              "      <th></th>\n",
              "      <th>title</th>\n",
              "      <th>score</th>\n",
              "      <th>id</th>\n",
              "      <th>url</th>\n",
              "      <th>comms_num</th>\n",
              "      <th>created</th>\n",
              "      <th>timestamp</th>\n",
              "      <th>keywords</th>\n",
              "    </tr>\n",
              "  </thead>\n",
              "  <tbody>\n",
              "    <tr>\n",
              "      <th>0</th>\n",
              "      <td>Times Square right now</td>\n",
              "      <td>371538</td>\n",
              "      <td>l8rf4k</td>\n",
              "      <td>https://v.redd.it/x64z70f7eie61</td>\n",
              "      <td>11947</td>\n",
              "      <td>1.612058e+09</td>\n",
              "      <td>2021-01-31 02:00:38</td>\n",
              "      <td>[]</td>\n",
              "    </tr>\n",
              "    <tr>\n",
              "      <th>1</th>\n",
              "      <td>UPVOTE so everyone sees we got SUPPORT</td>\n",
              "      <td>300712</td>\n",
              "      <td>l6wu59</td>\n",
              "      <td>https://i.redd.it/sgoqy8nyt2e61.png</td>\n",
              "      <td>12766</td>\n",
              "      <td>1.611870e+09</td>\n",
              "      <td>2021-01-28 21:40:34</td>\n",
              "      <td>[upvote, support]</td>\n",
              "    </tr>\n",
              "    <tr>\n",
              "      <th>2</th>\n",
              "      <td>GME YOLO update — Jan 28 2021</td>\n",
              "      <td>268647</td>\n",
              "      <td>l78uct</td>\n",
              "      <td>https://i.redd.it/opzucppb15e61.png</td>\n",
              "      <td>24160</td>\n",
              "      <td>1.611897e+09</td>\n",
              "      <td>2021-01-29 05:06:23</td>\n",
              "      <td>[gme yolo, update —, jan]</td>\n",
              "    </tr>\n",
              "    <tr>\n",
              "      <th>3</th>\n",
              "      <td>GME YOLO month-end update — Jan 2021</td>\n",
              "      <td>242543</td>\n",
              "      <td>l846a1</td>\n",
              "      <td>https://i.redd.it/r557em3t5ce61.png</td>\n",
              "      <td>20996</td>\n",
              "      <td>1.611983e+09</td>\n",
              "      <td>2021-01-30 05:04:45</td>\n",
              "      <td>[gme yolo, month-end update —, jan]</td>\n",
              "    </tr>\n",
              "    <tr>\n",
              "      <th>4</th>\n",
              "      <td>CLASS ACTION AGAINST ROBINHOOD. Allowing peopl...</td>\n",
              "      <td>217269</td>\n",
              "      <td>l6x130</td>\n",
              "      <td>https://www.reddit.com/r/wallstreetbets/commen...</td>\n",
              "      <td>18540</td>\n",
              "      <td>1.611871e+09</td>\n",
              "      <td>2021-01-28 21:49:11</td>\n",
              "      <td>[class action against robinhood, allowing, mar...</td>\n",
              "    </tr>\n",
              "  </tbody>\n",
              "</table>\n",
              "</div>"
            ],
            "text/plain": [
              "                                               title  ...                                           keywords\n",
              "0                             Times Square right now  ...                                                 []\n",
              "1             UPVOTE so everyone sees we got SUPPORT  ...                                  [upvote, support]\n",
              "2                      GME YOLO update — Jan 28 2021  ...                          [gme yolo, update —, jan]\n",
              "3               GME YOLO month-end update — Jan 2021  ...                [gme yolo, month-end update —, jan]\n",
              "4  CLASS ACTION AGAINST ROBINHOOD. Allowing peopl...  ...  [class action against robinhood, allowing, mar...\n",
              "\n",
              "[5 rows x 8 columns]"
            ]
          },
          "metadata": {
            "tags": []
          },
          "execution_count": 121
        }
      ]
    },
    {
      "cell_type": "markdown",
      "metadata": {
        "id": "QNoz1yYJ-Ueu"
      },
      "source": [
        "Getting the keyword (Noun Phrases) count for each post title"
      ]
    },
    {
      "cell_type": "code",
      "metadata": {
        "colab": {
          "base_uri": "https://localhost:8080/",
          "height": 293
        },
        "id": "-4JobCvXUsFt",
        "outputId": "03f9ba67-d16a-4129-a294-c9cbc553dda1"
      },
      "source": [
        "_count= train_data[\"keywords\"].apply(get_keyword_length)\r\n",
        "train_data = train_data.assign(keyword_count = _count)\r\n",
        "\r\n",
        "train_data.head()"
      ],
      "execution_count": 122,
      "outputs": [
        {
          "output_type": "execute_result",
          "data": {
            "text/html": [
              "<div>\n",
              "<style scoped>\n",
              "    .dataframe tbody tr th:only-of-type {\n",
              "        vertical-align: middle;\n",
              "    }\n",
              "\n",
              "    .dataframe tbody tr th {\n",
              "        vertical-align: top;\n",
              "    }\n",
              "\n",
              "    .dataframe thead th {\n",
              "        text-align: right;\n",
              "    }\n",
              "</style>\n",
              "<table border=\"1\" class=\"dataframe\">\n",
              "  <thead>\n",
              "    <tr style=\"text-align: right;\">\n",
              "      <th></th>\n",
              "      <th>title</th>\n",
              "      <th>score</th>\n",
              "      <th>id</th>\n",
              "      <th>url</th>\n",
              "      <th>comms_num</th>\n",
              "      <th>created</th>\n",
              "      <th>timestamp</th>\n",
              "      <th>keywords</th>\n",
              "      <th>keyword_count</th>\n",
              "    </tr>\n",
              "  </thead>\n",
              "  <tbody>\n",
              "    <tr>\n",
              "      <th>0</th>\n",
              "      <td>Times Square right now</td>\n",
              "      <td>371538</td>\n",
              "      <td>l8rf4k</td>\n",
              "      <td>https://v.redd.it/x64z70f7eie61</td>\n",
              "      <td>11947</td>\n",
              "      <td>1.612058e+09</td>\n",
              "      <td>2021-01-31 02:00:38</td>\n",
              "      <td>[]</td>\n",
              "      <td>0</td>\n",
              "    </tr>\n",
              "    <tr>\n",
              "      <th>1</th>\n",
              "      <td>UPVOTE so everyone sees we got SUPPORT</td>\n",
              "      <td>300712</td>\n",
              "      <td>l6wu59</td>\n",
              "      <td>https://i.redd.it/sgoqy8nyt2e61.png</td>\n",
              "      <td>12766</td>\n",
              "      <td>1.611870e+09</td>\n",
              "      <td>2021-01-28 21:40:34</td>\n",
              "      <td>[upvote, support]</td>\n",
              "      <td>2</td>\n",
              "    </tr>\n",
              "    <tr>\n",
              "      <th>2</th>\n",
              "      <td>GME YOLO update — Jan 28 2021</td>\n",
              "      <td>268647</td>\n",
              "      <td>l78uct</td>\n",
              "      <td>https://i.redd.it/opzucppb15e61.png</td>\n",
              "      <td>24160</td>\n",
              "      <td>1.611897e+09</td>\n",
              "      <td>2021-01-29 05:06:23</td>\n",
              "      <td>[gme yolo, update —, jan]</td>\n",
              "      <td>3</td>\n",
              "    </tr>\n",
              "    <tr>\n",
              "      <th>3</th>\n",
              "      <td>GME YOLO month-end update — Jan 2021</td>\n",
              "      <td>242543</td>\n",
              "      <td>l846a1</td>\n",
              "      <td>https://i.redd.it/r557em3t5ce61.png</td>\n",
              "      <td>20996</td>\n",
              "      <td>1.611983e+09</td>\n",
              "      <td>2021-01-30 05:04:45</td>\n",
              "      <td>[gme yolo, month-end update —, jan]</td>\n",
              "      <td>3</td>\n",
              "    </tr>\n",
              "    <tr>\n",
              "      <th>4</th>\n",
              "      <td>CLASS ACTION AGAINST ROBINHOOD. Allowing peopl...</td>\n",
              "      <td>217269</td>\n",
              "      <td>l6x130</td>\n",
              "      <td>https://www.reddit.com/r/wallstreetbets/commen...</td>\n",
              "      <td>18540</td>\n",
              "      <td>1.611871e+09</td>\n",
              "      <td>2021-01-28 21:49:11</td>\n",
              "      <td>[class action against robinhood, allowing, mar...</td>\n",
              "      <td>7</td>\n",
              "    </tr>\n",
              "  </tbody>\n",
              "</table>\n",
              "</div>"
            ],
            "text/plain": [
              "                                               title  ...  keyword_count\n",
              "0                             Times Square right now  ...              0\n",
              "1             UPVOTE so everyone sees we got SUPPORT  ...              2\n",
              "2                      GME YOLO update — Jan 28 2021  ...              3\n",
              "3               GME YOLO month-end update — Jan 2021  ...              3\n",
              "4  CLASS ACTION AGAINST ROBINHOOD. Allowing peopl...  ...              7\n",
              "\n",
              "[5 rows x 9 columns]"
            ]
          },
          "metadata": {
            "tags": []
          },
          "execution_count": 122
        }
      ]
    },
    {
      "cell_type": "markdown",
      "metadata": {
        "id": "7XSV9Z3a-dIq"
      },
      "source": [
        "Use Sentiment Analysis from TextBlob to get the sentiment of each title"
      ]
    },
    {
      "cell_type": "code",
      "metadata": {
        "colab": {
          "base_uri": "https://localhost:8080/",
          "height": 293
        },
        "id": "20ETlGdkd6Vl",
        "outputId": "a693e2de-261d-41db-ddf4-8181ec5134e2"
      },
      "source": [
        "_sentiment = train_data[\"title\"].apply(get_sentiment)\r\n",
        "train_data = train_data.assign(sentiment = _sentiment)\r\n",
        "\r\n",
        "train_data.head()"
      ],
      "execution_count": 123,
      "outputs": [
        {
          "output_type": "execute_result",
          "data": {
            "text/html": [
              "<div>\n",
              "<style scoped>\n",
              "    .dataframe tbody tr th:only-of-type {\n",
              "        vertical-align: middle;\n",
              "    }\n",
              "\n",
              "    .dataframe tbody tr th {\n",
              "        vertical-align: top;\n",
              "    }\n",
              "\n",
              "    .dataframe thead th {\n",
              "        text-align: right;\n",
              "    }\n",
              "</style>\n",
              "<table border=\"1\" class=\"dataframe\">\n",
              "  <thead>\n",
              "    <tr style=\"text-align: right;\">\n",
              "      <th></th>\n",
              "      <th>title</th>\n",
              "      <th>score</th>\n",
              "      <th>id</th>\n",
              "      <th>url</th>\n",
              "      <th>comms_num</th>\n",
              "      <th>created</th>\n",
              "      <th>timestamp</th>\n",
              "      <th>keywords</th>\n",
              "      <th>keyword_count</th>\n",
              "      <th>sentiment</th>\n",
              "    </tr>\n",
              "  </thead>\n",
              "  <tbody>\n",
              "    <tr>\n",
              "      <th>0</th>\n",
              "      <td>Times Square right now</td>\n",
              "      <td>371538</td>\n",
              "      <td>l8rf4k</td>\n",
              "      <td>https://v.redd.it/x64z70f7eie61</td>\n",
              "      <td>11947</td>\n",
              "      <td>1.612058e+09</td>\n",
              "      <td>2021-01-31 02:00:38</td>\n",
              "      <td>[]</td>\n",
              "      <td>0</td>\n",
              "      <td>0.285714</td>\n",
              "    </tr>\n",
              "    <tr>\n",
              "      <th>1</th>\n",
              "      <td>UPVOTE so everyone sees we got SUPPORT</td>\n",
              "      <td>300712</td>\n",
              "      <td>l6wu59</td>\n",
              "      <td>https://i.redd.it/sgoqy8nyt2e61.png</td>\n",
              "      <td>12766</td>\n",
              "      <td>1.611870e+09</td>\n",
              "      <td>2021-01-28 21:40:34</td>\n",
              "      <td>[upvote, support]</td>\n",
              "      <td>2</td>\n",
              "      <td>0.000000</td>\n",
              "    </tr>\n",
              "    <tr>\n",
              "      <th>2</th>\n",
              "      <td>GME YOLO update — Jan 28 2021</td>\n",
              "      <td>268647</td>\n",
              "      <td>l78uct</td>\n",
              "      <td>https://i.redd.it/opzucppb15e61.png</td>\n",
              "      <td>24160</td>\n",
              "      <td>1.611897e+09</td>\n",
              "      <td>2021-01-29 05:06:23</td>\n",
              "      <td>[gme yolo, update —, jan]</td>\n",
              "      <td>3</td>\n",
              "      <td>0.000000</td>\n",
              "    </tr>\n",
              "    <tr>\n",
              "      <th>3</th>\n",
              "      <td>GME YOLO month-end update — Jan 2021</td>\n",
              "      <td>242543</td>\n",
              "      <td>l846a1</td>\n",
              "      <td>https://i.redd.it/r557em3t5ce61.png</td>\n",
              "      <td>20996</td>\n",
              "      <td>1.611983e+09</td>\n",
              "      <td>2021-01-30 05:04:45</td>\n",
              "      <td>[gme yolo, month-end update —, jan]</td>\n",
              "      <td>3</td>\n",
              "      <td>0.000000</td>\n",
              "    </tr>\n",
              "    <tr>\n",
              "      <th>4</th>\n",
              "      <td>CLASS ACTION AGAINST ROBINHOOD. Allowing peopl...</td>\n",
              "      <td>217269</td>\n",
              "      <td>l6x130</td>\n",
              "      <td>https://www.reddit.com/r/wallstreetbets/commen...</td>\n",
              "      <td>18540</td>\n",
              "      <td>1.611871e+09</td>\n",
              "      <td>2021-01-28 21:49:11</td>\n",
              "      <td>[class action against robinhood, allowing, mar...</td>\n",
              "      <td>7</td>\n",
              "      <td>0.072596</td>\n",
              "    </tr>\n",
              "  </tbody>\n",
              "</table>\n",
              "</div>"
            ],
            "text/plain": [
              "                                               title  ...  sentiment\n",
              "0                             Times Square right now  ...   0.285714\n",
              "1             UPVOTE so everyone sees we got SUPPORT  ...   0.000000\n",
              "2                      GME YOLO update — Jan 28 2021  ...   0.000000\n",
              "3               GME YOLO month-end update — Jan 2021  ...   0.000000\n",
              "4  CLASS ACTION AGAINST ROBINHOOD. Allowing peopl...  ...   0.072596\n",
              "\n",
              "[5 rows x 10 columns]"
            ]
          },
          "metadata": {
            "tags": []
          },
          "execution_count": 123
        }
      ]
    },
    {
      "cell_type": "markdown",
      "metadata": {
        "id": "6eEMF_Xb-rd5"
      },
      "source": [
        "Use Text Blob to get the subjectivity of each title"
      ]
    },
    {
      "cell_type": "code",
      "metadata": {
        "id": "-Wd1c3MUuwNn",
        "colab": {
          "base_uri": "https://localhost:8080/",
          "height": 293
        },
        "outputId": "7bf509e4-96a4-48e5-adcc-98111c7852a4"
      },
      "source": [
        "_subjectivity = train_data[\"title\"].apply(get_subjectivity)\r\n",
        "train_data = train_data.assign(subjectivity = _subjectivity)\r\n",
        "\r\n",
        "train_data.head()"
      ],
      "execution_count": 124,
      "outputs": [
        {
          "output_type": "execute_result",
          "data": {
            "text/html": [
              "<div>\n",
              "<style scoped>\n",
              "    .dataframe tbody tr th:only-of-type {\n",
              "        vertical-align: middle;\n",
              "    }\n",
              "\n",
              "    .dataframe tbody tr th {\n",
              "        vertical-align: top;\n",
              "    }\n",
              "\n",
              "    .dataframe thead th {\n",
              "        text-align: right;\n",
              "    }\n",
              "</style>\n",
              "<table border=\"1\" class=\"dataframe\">\n",
              "  <thead>\n",
              "    <tr style=\"text-align: right;\">\n",
              "      <th></th>\n",
              "      <th>title</th>\n",
              "      <th>score</th>\n",
              "      <th>id</th>\n",
              "      <th>url</th>\n",
              "      <th>comms_num</th>\n",
              "      <th>created</th>\n",
              "      <th>timestamp</th>\n",
              "      <th>keywords</th>\n",
              "      <th>keyword_count</th>\n",
              "      <th>sentiment</th>\n",
              "      <th>subjectivity</th>\n",
              "    </tr>\n",
              "  </thead>\n",
              "  <tbody>\n",
              "    <tr>\n",
              "      <th>0</th>\n",
              "      <td>Times Square right now</td>\n",
              "      <td>371538</td>\n",
              "      <td>l8rf4k</td>\n",
              "      <td>https://v.redd.it/x64z70f7eie61</td>\n",
              "      <td>11947</td>\n",
              "      <td>1.612058e+09</td>\n",
              "      <td>2021-01-31 02:00:38</td>\n",
              "      <td>[]</td>\n",
              "      <td>0</td>\n",
              "      <td>0.285714</td>\n",
              "      <td>0.535714</td>\n",
              "    </tr>\n",
              "    <tr>\n",
              "      <th>1</th>\n",
              "      <td>UPVOTE so everyone sees we got SUPPORT</td>\n",
              "      <td>300712</td>\n",
              "      <td>l6wu59</td>\n",
              "      <td>https://i.redd.it/sgoqy8nyt2e61.png</td>\n",
              "      <td>12766</td>\n",
              "      <td>1.611870e+09</td>\n",
              "      <td>2021-01-28 21:40:34</td>\n",
              "      <td>[upvote, support]</td>\n",
              "      <td>2</td>\n",
              "      <td>0.000000</td>\n",
              "      <td>0.000000</td>\n",
              "    </tr>\n",
              "    <tr>\n",
              "      <th>2</th>\n",
              "      <td>GME YOLO update — Jan 28 2021</td>\n",
              "      <td>268647</td>\n",
              "      <td>l78uct</td>\n",
              "      <td>https://i.redd.it/opzucppb15e61.png</td>\n",
              "      <td>24160</td>\n",
              "      <td>1.611897e+09</td>\n",
              "      <td>2021-01-29 05:06:23</td>\n",
              "      <td>[gme yolo, update —, jan]</td>\n",
              "      <td>3</td>\n",
              "      <td>0.000000</td>\n",
              "      <td>0.000000</td>\n",
              "    </tr>\n",
              "    <tr>\n",
              "      <th>3</th>\n",
              "      <td>GME YOLO month-end update — Jan 2021</td>\n",
              "      <td>242543</td>\n",
              "      <td>l846a1</td>\n",
              "      <td>https://i.redd.it/r557em3t5ce61.png</td>\n",
              "      <td>20996</td>\n",
              "      <td>1.611983e+09</td>\n",
              "      <td>2021-01-30 05:04:45</td>\n",
              "      <td>[gme yolo, month-end update —, jan]</td>\n",
              "      <td>3</td>\n",
              "      <td>0.000000</td>\n",
              "      <td>0.000000</td>\n",
              "    </tr>\n",
              "    <tr>\n",
              "      <th>4</th>\n",
              "      <td>CLASS ACTION AGAINST ROBINHOOD. Allowing peopl...</td>\n",
              "      <td>217269</td>\n",
              "      <td>l6x130</td>\n",
              "      <td>https://www.reddit.com/r/wallstreetbets/commen...</td>\n",
              "      <td>18540</td>\n",
              "      <td>1.611871e+09</td>\n",
              "      <td>2021-01-28 21:49:11</td>\n",
              "      <td>[class action against robinhood, allowing, mar...</td>\n",
              "      <td>7</td>\n",
              "      <td>0.072596</td>\n",
              "      <td>0.432372</td>\n",
              "    </tr>\n",
              "  </tbody>\n",
              "</table>\n",
              "</div>"
            ],
            "text/plain": [
              "                                               title  ...  subjectivity\n",
              "0                             Times Square right now  ...      0.535714\n",
              "1             UPVOTE so everyone sees we got SUPPORT  ...      0.000000\n",
              "2                      GME YOLO update — Jan 28 2021  ...      0.000000\n",
              "3               GME YOLO month-end update — Jan 2021  ...      0.000000\n",
              "4  CLASS ACTION AGAINST ROBINHOOD. Allowing peopl...  ...      0.432372\n",
              "\n",
              "[5 rows x 11 columns]"
            ]
          },
          "metadata": {
            "tags": []
          },
          "execution_count": 124
        }
      ]
    },
    {
      "cell_type": "markdown",
      "metadata": {
        "id": "5g1kg2uVt_c0"
      },
      "source": [
        "# More EDA"
      ]
    },
    {
      "cell_type": "code",
      "metadata": {
        "colab": {
          "base_uri": "https://localhost:8080/",
          "height": 0
        },
        "id": "lwuHAYu2uDns",
        "outputId": "f584249d-b8ba-484f-9008-71272faefab9"
      },
      "source": [
        "plt.figure(figsize=(9,9))\r\n",
        "plt.scatter(train_data.keyword_count, train_data.sentiment)\r\n",
        "plt.show()"
      ],
      "execution_count": 125,
      "outputs": [
        {
          "output_type": "display_data",
          "data": {
            "image/png": "[encoded data removed]",
            "text/plain": [
              "<Figure size 648x648 with 1 Axes>"
            ]
          },
          "metadata": {
            "tags": [],
            "needs_background": "light"
          }
        }
      ]
    },
    {
      "cell_type": "code",
      "metadata": {
        "colab": {
          "base_uri": "https://localhost:8080/",
          "height": 0
        },
        "id": "WwNdDIJzdUQQ",
        "outputId": "e06b11cd-f2b7-40cd-a247-46efb816e3db"
      },
      "source": [
        "plt.figure(figsize=(9,9))\r\n",
        "plt.scatter(train_data.timestamp, train_data.sentiment)\r\n",
        "plt.show()"
      ],
      "execution_count": 126,
      "outputs": [
        {
          "output_type": "display_data",
          "data": {
            "image/png": "[encoded data removed]",
            "text/plain": [
              "<Figure size 648x648 with 1 Axes>"
            ]
          },
          "metadata": {
            "tags": [],
            "needs_background": "light"
          }
        }
      ]
    },
    {
      "cell_type": "code",
      "metadata": {
        "colab": {
          "base_uri": "https://localhost:8080/",
          "height": 0
        },
        "id": "yF6ns2kFfowR",
        "outputId": "a3d85d9a-76e8-425e-e690-66813c1c1b15"
      },
      "source": [
        "plt.figure(figsize=(9,9))\r\n",
        "plt.scatter(train_data.timestamp, train_data.subjectivity)\r\n",
        "plt.show()"
      ],
      "execution_count": 127,
      "outputs": [
        {
          "output_type": "display_data",
          "data": {
            "image/png": "[encoded data removed]",
            "text/plain": [
              "<Figure size 648x648 with 1 Axes>"
            ]
          },
          "metadata": {
            "tags": [],
            "needs_background": "light"
          }
        }
      ]
    },
    {
      "cell_type": "code",
      "metadata": {
        "colab": {
          "base_uri": "https://localhost:8080/",
          "height": 0
        },
        "id": "Tr5sLh5tf6_0",
        "outputId": "49a41949-0093-4468-e100-04c9b7561a46"
      },
      "source": [
        "plt.figure(figsize=(9,9))\r\n",
        "plt.scatter(train_data.sentiment, train_data.subjectivity)\r\n",
        "plt.show()"
      ],
      "execution_count": 128,
      "outputs": [
        {
          "output_type": "display_data",
          "data": {
            "image/png": "[encoded data removed]",
            "text/plain": [
              "<Figure size 648x648 with 1 Axes>"
            ]
          },
          "metadata": {
            "tags": [],
            "needs_background": "light"
          }
        }
      ]
    },
    {
      "cell_type": "code",
      "metadata": {
        "colab": {
          "base_uri": "https://localhost:8080/",
          "height": 0
        },
        "id": "ARRXPvNZdxzT",
        "outputId": "74cd6045-1c4c-4ad2-e8e7-098eacf0916b"
      },
      "source": [
        "plt.figure(figsize=(9,9))\r\n",
        "plt.scatter(train_data.timestamp, train_data.keyword_count)\r\n",
        "plt.show()"
      ],
      "execution_count": 129,
      "outputs": [
        {
          "output_type": "display_data",
          "data": {
            "image/png": "[encoded data removed]",
            "text/plain": [
              "<Figure size 648x648 with 1 Axes>"
            ]
          },
          "metadata": {
            "tags": [],
            "needs_background": "light"
          }
        }
      ]
    },
    {
      "cell_type": "code",
      "metadata": {
        "colab": {
          "base_uri": "https://localhost:8080/",
          "height": 0
        },
        "id": "Vebe3JXIetFF",
        "outputId": "1da549a8-5b47-487a-a948-24219b38531b"
      },
      "source": [
        "train_data.describe()"
      ],
      "execution_count": 130,
      "outputs": [
        {
          "output_type": "execute_result",
          "data": {
            "text/html": [
              "<div>\n",
              "<style scoped>\n",
              "    .dataframe tbody tr th:only-of-type {\n",
              "        vertical-align: middle;\n",
              "    }\n",
              "\n",
              "    .dataframe tbody tr th {\n",
              "        vertical-align: top;\n",
              "    }\n",
              "\n",
              "    .dataframe thead th {\n",
              "        text-align: right;\n",
              "    }\n",
              "</style>\n",
              "<table border=\"1\" class=\"dataframe\">\n",
              "  <thead>\n",
              "    <tr style=\"text-align: right;\">\n",
              "      <th></th>\n",
              "      <th>score</th>\n",
              "      <th>comms_num</th>\n",
              "      <th>created</th>\n",
              "      <th>keyword_count</th>\n",
              "      <th>sentiment</th>\n",
              "      <th>subjectivity</th>\n",
              "    </tr>\n",
              "  </thead>\n",
              "  <tbody>\n",
              "    <tr>\n",
              "      <th>count</th>\n",
              "      <td>100.000000</td>\n",
              "      <td>100.000000</td>\n",
              "      <td>1.000000e+02</td>\n",
              "      <td>100.000000</td>\n",
              "      <td>100.000000</td>\n",
              "      <td>100.000000</td>\n",
              "    </tr>\n",
              "    <tr>\n",
              "      <th>mean</th>\n",
              "      <td>138216.500000</td>\n",
              "      <td>6021.820000</td>\n",
              "      <td>1.612043e+09</td>\n",
              "      <td>2.890000</td>\n",
              "      <td>0.067083</td>\n",
              "      <td>0.242296</td>\n",
              "    </tr>\n",
              "    <tr>\n",
              "      <th>std</th>\n",
              "      <td>47182.626823</td>\n",
              "      <td>5556.783566</td>\n",
              "      <td>2.028015e+05</td>\n",
              "      <td>2.339364</td>\n",
              "      <td>0.279557</td>\n",
              "      <td>0.319896</td>\n",
              "    </tr>\n",
              "    <tr>\n",
              "      <th>min</th>\n",
              "      <td>90304.000000</td>\n",
              "      <td>1045.000000</td>\n",
              "      <td>1.611724e+09</td>\n",
              "      <td>0.000000</td>\n",
              "      <td>-1.000000</td>\n",
              "      <td>0.000000</td>\n",
              "    </tr>\n",
              "    <tr>\n",
              "      <th>25%</th>\n",
              "      <td>105634.500000</td>\n",
              "      <td>2642.000000</td>\n",
              "      <td>1.611888e+09</td>\n",
              "      <td>1.000000</td>\n",
              "      <td>0.000000</td>\n",
              "      <td>0.000000</td>\n",
              "    </tr>\n",
              "    <tr>\n",
              "      <th>50%</th>\n",
              "      <td>127176.500000</td>\n",
              "      <td>4368.500000</td>\n",
              "      <td>1.611975e+09</td>\n",
              "      <td>2.000000</td>\n",
              "      <td>0.000000</td>\n",
              "      <td>0.000000</td>\n",
              "    </tr>\n",
              "    <tr>\n",
              "      <th>75%</th>\n",
              "      <td>155511.500000</td>\n",
              "      <td>6706.750000</td>\n",
              "      <td>1.612218e+09</td>\n",
              "      <td>4.000000</td>\n",
              "      <td>0.105518</td>\n",
              "      <td>0.500000</td>\n",
              "    </tr>\n",
              "    <tr>\n",
              "      <th>max</th>\n",
              "      <td>371538.000000</td>\n",
              "      <td>28754.000000</td>\n",
              "      <td>1.612607e+09</td>\n",
              "      <td>10.000000</td>\n",
              "      <td>1.000000</td>\n",
              "      <td>1.000000</td>\n",
              "    </tr>\n",
              "  </tbody>\n",
              "</table>\n",
              "</div>"
            ],
            "text/plain": [
              "               score     comms_num  ...   sentiment  subjectivity\n",
              "count     100.000000    100.000000  ...  100.000000    100.000000\n",
              "mean   138216.500000   6021.820000  ...    0.067083      0.242296\n",
              "std     47182.626823   5556.783566  ...    0.279557      0.319896\n",
              "min     90304.000000   1045.000000  ...   -1.000000      0.000000\n",
              "25%    105634.500000   2642.000000  ...    0.000000      0.000000\n",
              "50%    127176.500000   4368.500000  ...    0.000000      0.000000\n",
              "75%    155511.500000   6706.750000  ...    0.105518      0.500000\n",
              "max    371538.000000  28754.000000  ...    1.000000      1.000000\n",
              "\n",
              "[8 rows x 6 columns]"
            ]
          },
          "metadata": {
            "tags": []
          },
          "execution_count": 130
        }
      ]
    },
    {
      "cell_type": "code",
      "metadata": {
        "id": "l3uKRCvIndQR"
      },
      "source": [
        ""
      ],
      "execution_count": 130,
      "outputs": []
    },
    {
      "cell_type": "markdown",
      "metadata": {
        "id": "aomi-ZcWjDRM"
      },
      "source": [
        "# Some K-Means Clustering"
      ]
    },
    {
      "cell_type": "markdown",
      "metadata": {
        "id": "1kBfGVnXjMM0"
      },
      "source": [
        "### Importing the Libraries : https://towardsdatascience.com/understanding-k-means-clustering-in-machine-learning-6a6e67336aa1\r\n",
        "\r\n"
      ]
    },
    {
      "cell_type": "code",
      "metadata": {
        "id": "1ThhUoSkjHz7"
      },
      "source": [
        "from sklearn.cluster import KMeans\r\n",
        "from sklearn.preprocessing import MinMaxScaler"
      ],
      "execution_count": 131,
      "outputs": []
    },
    {
      "cell_type": "markdown",
      "metadata": {
        "id": "5K0WORtMqbgR"
      },
      "source": [
        "## Scaling the Data"
      ]
    },
    {
      "cell_type": "code",
      "metadata": {
        "id": "4rKU0FNUqfky"
      },
      "source": [
        "scaler = MinMaxScaler()\r\n",
        "data = train_data.iloc[:,8:]\r\n",
        "\r\n",
        "data_scaled = pd.DataFrame(scaler.fit_transform(data), columns=data.columns)\r\n"
      ],
      "execution_count": 133,
      "outputs": []
    },
    {
      "cell_type": "markdown",
      "metadata": {
        "id": "3VjBVovMjXt6"
      },
      "source": [
        "### The Clustering"
      ]
    },
    {
      "cell_type": "code",
      "metadata": {
        "colab": {
          "base_uri": "https://localhost:8080/"
        },
        "id": "fOSsUhR7kEfv",
        "outputId": "0bf43d1e-0ab8-4956-e4af-c3e39c234d12"
      },
      "source": [
        "Kmean = KMeans(n_clusters=3)\r\n",
        "\r\n",
        "Kmean.fit(data_scaled)"
      ],
      "execution_count": 134,
      "outputs": [
        {
          "output_type": "execute_result",
          "data": {
            "text/plain": [
              "KMeans(algorithm='auto', copy_x=True, init='k-means++', max_iter=300,\n",
              "       n_clusters=3, n_init=10, n_jobs=None, precompute_distances='auto',\n",
              "       random_state=None, tol=0.0001, verbose=0)"
            ]
          },
          "metadata": {
            "tags": []
          },
          "execution_count": 134
        }
      ]
    },
    {
      "cell_type": "code",
      "metadata": {
        "colab": {
          "base_uri": "https://localhost:8080/"
        },
        "id": "xPvNRIaBnnVT",
        "outputId": "d274e4db-48a2-463e-a316-9c524a36cf5e"
      },
      "source": [
        "Kmean.cluster_centers_"
      ],
      "execution_count": 135,
      "outputs": [
        {
          "output_type": "execute_result",
          "data": {
            "text/plain": [
              "array([[0.19285714, 0.50178571, 0.01498016],\n",
              "       [0.185     , 0.56012397, 0.73813264],\n",
              "       [0.6       , 0.58548721, 0.35950253]])"
            ]
          },
          "metadata": {
            "tags": []
          },
          "execution_count": 135
        }
      ]
    },
    {
      "cell_type": "code",
      "metadata": {
        "colab": {
          "base_uri": "https://localhost:8080/"
        },
        "id": "hCVPu71jnqGh",
        "outputId": "49a7a69a-de74-499d-ec2e-ee6973f7bdd0"
      },
      "source": [
        "Kmean.labels_"
      ],
      "execution_count": 136,
      "outputs": [
        {
          "output_type": "execute_result",
          "data": {
            "text/plain": [
              "array([1, 0, 0, 0, 2, 0, 2, 0, 0, 0, 0, 0, 2, 1, 1, 1, 2, 0, 1, 0, 1, 1,\n",
              "       0, 1, 1, 0, 0, 0, 0, 0, 0, 1, 0, 2, 0, 0, 2, 0, 1, 0, 0, 1, 2, 0,\n",
              "       2, 2, 0, 0, 0, 1, 0, 1, 1, 0, 0, 0, 2, 2, 2, 0, 2, 0, 0, 1, 0, 1,\n",
              "       0, 0, 2, 0, 2, 0, 0, 0, 2, 0, 2, 0, 1, 2, 0, 1, 0, 0, 0, 2, 0, 2,\n",
              "       1, 2, 0, 0, 2, 0, 0, 2, 0, 2, 0, 0], dtype=int32)"
            ]
          },
          "metadata": {
            "tags": []
          },
          "execution_count": 136
        }
      ]
    },
    {
      "cell_type": "markdown",
      "metadata": {
        "id": "xiGLyYhP_Qx6"
      },
      "source": [
        "For Reference: https://jakevdp.github.io/PythonDataScienceHandbook/04.12-three-dimensional-plotting.html"
      ]
    },
    {
      "cell_type": "code",
      "metadata": {
        "id": "XDiUp1KzoEXs"
      },
      "source": [
        "from mpl_toolkits import mplot3d"
      ],
      "execution_count": 137,
      "outputs": []
    },
    {
      "cell_type": "code",
      "metadata": {
        "colab": {
          "base_uri": "https://localhost:8080/",
          "height": 593
        },
        "id": "81t8TlEHoJtC",
        "outputId": "ecef8391-bbf9-48cd-f4e8-c0906a0c97f3"
      },
      "source": [
        "fig = plt.figure(figsize=(10,10))\r\n",
        "ax = plt.axes(projection='3d')\r\n",
        "\r\n",
        "#Data for three-dimensional scattered points\r\n",
        "ax.scatter3D(data_scaled.iloc[:,0], data_scaled.iloc[:,1], data_scaled.iloc[:,2], c=data_scaled.iloc[:,2], cmap='Greens')\r\n",
        "ax.scatter3D(0.6       , 0.58548721, 0.35950253, c='b')\r\n",
        "ax.scatter3D(0.19285714, 0.50178571, 0.01498016, c='m')\r\n",
        "ax.scatter3D(0.185     , 0.56012397, 0.73813264, c='r')"
      ],
      "execution_count": 138,
      "outputs": [
        {
          "output_type": "execute_result",
          "data": {
            "text/plain": [
              "<mpl_toolkits.mplot3d.art3d.Path3DCollection at 0x7f32101cf668>"
            ]
          },
          "metadata": {
            "tags": []
          },
          "execution_count": 138
        },
        {
          "output_type": "display_data",
          "data": {
            "image/png": "[encoded data removed]",
            "text/plain": [
              "<Figure size 720x720 with 1 Axes>"
            ]
          },
          "metadata": {
            "tags": [],
            "needs_background": "light"
          }
        }
      ]
    },
    {
      "cell_type": "code",
      "metadata": {
        "colab": {
          "base_uri": "https://localhost:8080/",
          "height": 537
        },
        "id": "1sdTkvZEnw6y",
        "outputId": "c3e43fac-72b1-4765-ff1e-fb71019df25f"
      },
      "source": [
        "plt.figure(figsize=(9,9))\r\n",
        "plt.scatter(train_data.timestamp, train_data.keyword_count)\r\n",
        "plt.show()"
      ],
      "execution_count": 139,
      "outputs": [
        {
          "output_type": "display_data",
          "data": {
            "image/png": "[encoded data removed]",
            "text/plain": [
              "<Figure size 648x648 with 1 Axes>"
            ]
          },
          "metadata": {
            "tags": [],
            "needs_background": "light"
          }
        }
      ]
    },
    {
      "cell_type": "markdown",
      "metadata": {
        "id": "YFVbVB8ufWM9"
      },
      "source": [
        "# Word Cloud Generator"
      ]
    },
    {
      "cell_type": "code",
      "metadata": {
        "id": "rjc-Y2klffSc"
      },
      "source": [
        ""
      ],
      "execution_count": null,
      "outputs": []
    }
  ]
}